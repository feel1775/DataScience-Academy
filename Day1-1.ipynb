{
 "cells": [
  {
   "cell_type": "code",
   "execution_count": 1,
   "metadata": {},
   "outputs": [
    {
     "name": "stdout",
     "output_type": "stream",
     "text": [
      "한글한글\n"
     ]
    }
   ],
   "source": [
    "print('한글한글')"
   ]
  },
  {
   "cell_type": "code",
   "execution_count": 2,
   "metadata": {},
   "outputs": [
    {
     "name": "stdout",
     "output_type": "stream",
     "text": [
      "3.6.7 |Anaconda custom (64-bit)| (default, Oct 28 2018, 19:44:12) [MSC v.1915 64 bit (AMD64)]\n"
     ]
    }
   ],
   "source": [
    "import sys\n",
    "print(sys.version)"
   ]
  },
  {
   "cell_type": "code",
   "execution_count": 4,
   "metadata": {},
   "outputs": [
    {
     "name": "stdout",
     "output_type": "stream",
     "text": [
      "[0, 1, 2, 3, 4, 5, 6, 7, 8, 9]\n"
     ]
    }
   ],
   "source": [
    "list1 = []\n",
    "for i in range(10):\n",
    "    list1.append(i)\n",
    "print(list1)"
   ]
  },
  {
   "cell_type": "code",
   "execution_count": 5,
   "metadata": {},
   "outputs": [
    {
     "name": "stdout",
     "output_type": "stream",
     "text": [
      "[0, 1, 2, 3, 4, 5, 6, 7, 8, 9]\n"
     ]
    }
   ],
   "source": [
    "list2 = [i for i in range(10)]\n",
    "print(list2)"
   ]
  },
  {
   "cell_type": "code",
   "execution_count": 6,
   "metadata": {},
   "outputs": [
    {
     "data": {
      "text/plain": [
       "['',\n",
       " 'C:\\\\ProgramData\\\\Anaconda3\\\\python36.zip',\n",
       " 'C:\\\\ProgramData\\\\Anaconda3\\\\DLLs',\n",
       " 'C:\\\\ProgramData\\\\Anaconda3\\\\lib',\n",
       " 'C:\\\\ProgramData\\\\Anaconda3',\n",
       " 'C:\\\\ProgramData\\\\Anaconda3\\\\lib\\\\site-packages',\n",
       " 'C:\\\\ProgramData\\\\Anaconda3\\\\lib\\\\site-packages\\\\win32',\n",
       " 'C:\\\\ProgramData\\\\Anaconda3\\\\lib\\\\site-packages\\\\win32\\\\lib',\n",
       " 'C:\\\\ProgramData\\\\Anaconda3\\\\lib\\\\site-packages\\\\Pythonwin',\n",
       " 'C:\\\\ProgramData\\\\Anaconda3\\\\lib\\\\site-packages\\\\IPython\\\\extensions',\n",
       " 'C:\\\\Users\\\\user\\\\.ipython']"
      ]
     },
     "execution_count": 6,
     "metadata": {},
     "output_type": "execute_result"
    }
   ],
   "source": [
    "sys.path"
   ]
  },
  {
   "cell_type": "code",
   "execution_count": 24,
   "metadata": {},
   "outputs": [
    {
     "name": "stdout",
     "output_type": "stream",
     "text": [
      "[0, 1, 2]\n",
      "\n",
      "\n",
      "[1, 2]\n",
      "\n",
      "\n",
      "[3, 5, 7, 9]\n",
      "[0, 1, 2, 3, 4, 5, 6, 7, 8, 9]\n",
      "[3, 2, 1, 0]\n"
     ]
    },
    {
     "data": {
      "text/plain": [
       "[0, 1, 2, 3, 4, 5, 6, 7, 8, 9]"
      ]
     },
     "execution_count": 24,
     "metadata": {},
     "output_type": "execute_result"
    }
   ],
   "source": [
    "print(list1[:3])\n",
    "print(\"\\n\")\n",
    "print(list1[1:3])\n",
    "print(\"\\n\")\n",
    "print(list2[3::2])\n",
    "print(list2[:])\n",
    "print(list2[3::-1])\n",
    "list1[::]"
   ]
  },
  {
   "cell_type": "code",
   "execution_count": 26,
   "metadata": {},
   "outputs": [
    {
     "name": "stdout",
     "output_type": "stream",
     "text": [
      "[1, 0]\n"
     ]
    }
   ],
   "source": [
    "print(list2[1::-1][:3])"
   ]
  },
  {
   "cell_type": "code",
   "execution_count": 28,
   "metadata": {},
   "outputs": [
    {
     "data": {
      "text/plain": [
       "[1, 2, [3, 4]]"
      ]
     },
     "execution_count": 28,
     "metadata": {},
     "output_type": "execute_result"
    }
   ],
   "source": [
    "list3=[1,2,[3,4]]\n",
    "list3"
   ]
  },
  {
   "cell_type": "code",
   "execution_count": 29,
   "metadata": {},
   "outputs": [
    {
     "name": "stdout",
     "output_type": "stream",
     "text": [
      "{'Name': 'Zara', 'Age': 7, 'Class': 'First'}\n",
      "{'Name': 'Zara', 'Age': 7, 'Class': 'First', 'abc': [1, 2, 3]}\n",
      "Name  ::  Zara\n",
      "Age  ::  7\n",
      "Class  ::  First\n",
      "abc  ::  [1, 2, 3]\n"
     ]
    }
   ],
   "source": [
    "dict = {'Name': 'Zara', 'Age': 7, 'Class': 'First'}\n",
    "print(dict)\n",
    "dict['abc']=[1,2,3]\n",
    "print(dict)\n",
    "for key , value in dict.items():\n",
    "    print(key, \" :: \", value)"
   ]
  },
  {
   "cell_type": "code",
   "execution_count": 32,
   "metadata": {},
   "outputs": [
    {
     "data": {
      "text/html": [
       "<div>\n",
       "<style scoped>\n",
       "    .dataframe tbody tr th:only-of-type {\n",
       "        vertical-align: middle;\n",
       "    }\n",
       "\n",
       "    .dataframe tbody tr th {\n",
       "        vertical-align: top;\n",
       "    }\n",
       "\n",
       "    .dataframe thead th {\n",
       "        text-align: right;\n",
       "    }\n",
       "</style>\n",
       "<table border=\"1\" class=\"dataframe\">\n",
       "  <thead>\n",
       "    <tr style=\"text-align: right;\">\n",
       "      <th></th>\n",
       "      <th>Acceleration</th>\n",
       "      <th>Cylinders</th>\n",
       "      <th>Displacement</th>\n",
       "      <th>Horsepower</th>\n",
       "      <th>Miles_per_Gallon</th>\n",
       "      <th>Name</th>\n",
       "      <th>Origin</th>\n",
       "      <th>Weight_in_lbs</th>\n",
       "      <th>Year</th>\n",
       "    </tr>\n",
       "  </thead>\n",
       "  <tbody>\n",
       "    <tr>\n",
       "      <th>0</th>\n",
       "      <td>12.0</td>\n",
       "      <td>8</td>\n",
       "      <td>307.0</td>\n",
       "      <td>130.0</td>\n",
       "      <td>18.0</td>\n",
       "      <td>chevrolet chevelle malibu</td>\n",
       "      <td>USA</td>\n",
       "      <td>3504</td>\n",
       "      <td>1970</td>\n",
       "    </tr>\n",
       "    <tr>\n",
       "      <th>1</th>\n",
       "      <td>11.5</td>\n",
       "      <td>8</td>\n",
       "      <td>350.0</td>\n",
       "      <td>165.0</td>\n",
       "      <td>15.0</td>\n",
       "      <td>buick skylark 320</td>\n",
       "      <td>USA</td>\n",
       "      <td>3693</td>\n",
       "      <td>1970</td>\n",
       "    </tr>\n",
       "    <tr>\n",
       "      <th>2</th>\n",
       "      <td>11.0</td>\n",
       "      <td>8</td>\n",
       "      <td>318.0</td>\n",
       "      <td>150.0</td>\n",
       "      <td>18.0</td>\n",
       "      <td>plymouth satellite</td>\n",
       "      <td>USA</td>\n",
       "      <td>3436</td>\n",
       "      <td>1970</td>\n",
       "    </tr>\n",
       "    <tr>\n",
       "      <th>3</th>\n",
       "      <td>12.0</td>\n",
       "      <td>8</td>\n",
       "      <td>304.0</td>\n",
       "      <td>150.0</td>\n",
       "      <td>16.0</td>\n",
       "      <td>amc rebel sst</td>\n",
       "      <td>USA</td>\n",
       "      <td>3433</td>\n",
       "      <td>1970</td>\n",
       "    </tr>\n",
       "    <tr>\n",
       "      <th>4</th>\n",
       "      <td>10.5</td>\n",
       "      <td>8</td>\n",
       "      <td>302.0</td>\n",
       "      <td>140.0</td>\n",
       "      <td>17.0</td>\n",
       "      <td>ford torino</td>\n",
       "      <td>USA</td>\n",
       "      <td>3449</td>\n",
       "      <td>1970</td>\n",
       "    </tr>\n",
       "    <tr>\n",
       "      <th>5</th>\n",
       "      <td>10.0</td>\n",
       "      <td>8</td>\n",
       "      <td>429.0</td>\n",
       "      <td>198.0</td>\n",
       "      <td>15.0</td>\n",
       "      <td>ford galaxie 500</td>\n",
       "      <td>USA</td>\n",
       "      <td>4341</td>\n",
       "      <td>1970</td>\n",
       "    </tr>\n",
       "    <tr>\n",
       "      <th>6</th>\n",
       "      <td>9.0</td>\n",
       "      <td>8</td>\n",
       "      <td>454.0</td>\n",
       "      <td>220.0</td>\n",
       "      <td>14.0</td>\n",
       "      <td>chevrolet impala</td>\n",
       "      <td>USA</td>\n",
       "      <td>4354</td>\n",
       "      <td>1970</td>\n",
       "    </tr>\n",
       "    <tr>\n",
       "      <th>7</th>\n",
       "      <td>8.5</td>\n",
       "      <td>8</td>\n",
       "      <td>440.0</td>\n",
       "      <td>215.0</td>\n",
       "      <td>14.0</td>\n",
       "      <td>plymouth fury iii</td>\n",
       "      <td>USA</td>\n",
       "      <td>4312</td>\n",
       "      <td>1970</td>\n",
       "    </tr>\n",
       "    <tr>\n",
       "      <th>8</th>\n",
       "      <td>10.0</td>\n",
       "      <td>8</td>\n",
       "      <td>455.0</td>\n",
       "      <td>225.0</td>\n",
       "      <td>14.0</td>\n",
       "      <td>pontiac catalina</td>\n",
       "      <td>USA</td>\n",
       "      <td>4425</td>\n",
       "      <td>1970</td>\n",
       "    </tr>\n",
       "    <tr>\n",
       "      <th>9</th>\n",
       "      <td>8.5</td>\n",
       "      <td>8</td>\n",
       "      <td>390.0</td>\n",
       "      <td>190.0</td>\n",
       "      <td>15.0</td>\n",
       "      <td>amc ambassador dpl</td>\n",
       "      <td>USA</td>\n",
       "      <td>3850</td>\n",
       "      <td>1970</td>\n",
       "    </tr>\n",
       "  </tbody>\n",
       "</table>\n",
       "</div>"
      ],
      "text/plain": [
       "   Acceleration  Cylinders  Displacement  Horsepower  Miles_per_Gallon  \\\n",
       "0          12.0          8         307.0       130.0              18.0   \n",
       "1          11.5          8         350.0       165.0              15.0   \n",
       "2          11.0          8         318.0       150.0              18.0   \n",
       "3          12.0          8         304.0       150.0              16.0   \n",
       "4          10.5          8         302.0       140.0              17.0   \n",
       "5          10.0          8         429.0       198.0              15.0   \n",
       "6           9.0          8         454.0       220.0              14.0   \n",
       "7           8.5          8         440.0       215.0              14.0   \n",
       "8          10.0          8         455.0       225.0              14.0   \n",
       "9           8.5          8         390.0       190.0              15.0   \n",
       "\n",
       "                        Name Origin  Weight_in_lbs  Year  \n",
       "0  chevrolet chevelle malibu    USA           3504  1970  \n",
       "1          buick skylark 320    USA           3693  1970  \n",
       "2         plymouth satellite    USA           3436  1970  \n",
       "3              amc rebel sst    USA           3433  1970  \n",
       "4                ford torino    USA           3449  1970  \n",
       "5           ford galaxie 500    USA           4341  1970  \n",
       "6           chevrolet impala    USA           4354  1970  \n",
       "7          plymouth fury iii    USA           4312  1970  \n",
       "8           pontiac catalina    USA           4425  1970  \n",
       "9         amc ambassador dpl    USA           3850  1970  "
      ]
     },
     "execution_count": 32,
     "metadata": {},
     "output_type": "execute_result"
    }
   ],
   "source": [
    "import pandas as pd\n",
    "df = pd.read_json('http://aopt.biz/lecture/cars.json')\n",
    "df.head(10)"
   ]
  },
  {
   "cell_type": "code",
   "execution_count": 33,
   "metadata": {},
   "outputs": [
    {
     "data": {
      "text/html": [
       "<div>\n",
       "<style scoped>\n",
       "    .dataframe tbody tr th:only-of-type {\n",
       "        vertical-align: middle;\n",
       "    }\n",
       "\n",
       "    .dataframe tbody tr th {\n",
       "        vertical-align: top;\n",
       "    }\n",
       "\n",
       "    .dataframe thead th {\n",
       "        text-align: right;\n",
       "    }\n",
       "</style>\n",
       "<table border=\"1\" class=\"dataframe\">\n",
       "  <thead>\n",
       "    <tr style=\"text-align: right;\">\n",
       "      <th></th>\n",
       "      <th>Acceleration</th>\n",
       "      <th>Cylinders</th>\n",
       "    </tr>\n",
       "  </thead>\n",
       "  <tbody>\n",
       "    <tr>\n",
       "      <th>2</th>\n",
       "      <td>11.0</td>\n",
       "      <td>8</td>\n",
       "    </tr>\n",
       "    <tr>\n",
       "      <th>3</th>\n",
       "      <td>12.0</td>\n",
       "      <td>8</td>\n",
       "    </tr>\n",
       "  </tbody>\n",
       "</table>\n",
       "</div>"
      ],
      "text/plain": [
       "   Acceleration  Cylinders\n",
       "2          11.0          8\n",
       "3          12.0          8"
      ]
     },
     "execution_count": 33,
     "metadata": {},
     "output_type": "execute_result"
    }
   ],
   "source": [
    "#df.loc[0]\n",
    "#df.loc[2:4]   \n",
    "df.iloc[2:4,0:2]\n",
    "#df.iloc[-3:]"
   ]
  },
  {
   "cell_type": "code",
   "execution_count": 36,
   "metadata": {},
   "outputs": [
    {
     "data": {
      "text/plain": [
       "<bound method NDFrame.describe of      Acceleration  Cylinders  Displacement  Horsepower  Miles_per_Gallon  \\\n",
       "0            12.0          8         307.0       130.0              18.0   \n",
       "1            11.5          8         350.0       165.0              15.0   \n",
       "2            11.0          8         318.0       150.0              18.0   \n",
       "3            12.0          8         304.0       150.0              16.0   \n",
       "4            10.5          8         302.0       140.0              17.0   \n",
       "5            10.0          8         429.0       198.0              15.0   \n",
       "6             9.0          8         454.0       220.0              14.0   \n",
       "7             8.5          8         440.0       215.0              14.0   \n",
       "8            10.0          8         455.0       225.0              14.0   \n",
       "9             8.5          8         390.0       190.0              15.0   \n",
       "10           17.5          4         133.0       115.0               NaN   \n",
       "11           11.5          8         350.0       165.0               NaN   \n",
       "12           11.0          8         351.0       153.0               NaN   \n",
       "13           10.5          8         383.0       175.0               NaN   \n",
       "14           11.0          8         360.0       175.0               NaN   \n",
       "15           10.0          8         383.0       170.0              15.0   \n",
       "16            8.0          8         340.0       160.0              14.0   \n",
       "17            8.0          8         302.0       140.0               NaN   \n",
       "18            9.5          8         400.0       150.0              15.0   \n",
       "19           10.0          8         455.0       225.0              14.0   \n",
       "20           15.0          4         113.0        95.0              24.0   \n",
       "21           15.5          6         198.0        95.0              22.0   \n",
       "22           15.5          6         199.0        97.0              18.0   \n",
       "23           16.0          6         200.0        85.0              21.0   \n",
       "24           14.5          4          97.0        88.0              27.0   \n",
       "25           20.5          4          97.0        46.0              26.0   \n",
       "26           17.5          4         110.0        87.0              25.0   \n",
       "27           14.5          4         107.0        90.0              24.0   \n",
       "28           17.5          4         104.0        95.0              25.0   \n",
       "29           12.5          4         121.0       113.0              26.0   \n",
       "..            ...        ...           ...         ...               ...   \n",
       "376          18.6          4         112.0        88.0              27.0   \n",
       "377          18.0          4         112.0        88.0              34.0   \n",
       "378          16.2          4         112.0        85.0              31.0   \n",
       "379          16.0          4         135.0        84.0              29.0   \n",
       "380          18.0          4         151.0        90.0              27.0   \n",
       "381          16.4          4         140.0        92.0              24.0   \n",
       "382          20.5          4         151.0         NaN              23.0   \n",
       "383          15.3          4         105.0        74.0              36.0   \n",
       "384          18.2          4          91.0        68.0              37.0   \n",
       "385          17.6          4          91.0        68.0              31.0   \n",
       "386          14.7          4         105.0        63.0              38.0   \n",
       "387          17.3          4          98.0        70.0              36.0   \n",
       "388          14.5          4         120.0        88.0              36.0   \n",
       "389          14.5          4         107.0        75.0              36.0   \n",
       "390          16.9          4         108.0        70.0              34.0   \n",
       "391          15.0          4          91.0        67.0              38.0   \n",
       "392          15.7          4          91.0        67.0              32.0   \n",
       "393          16.2          4          91.0        67.0              38.0   \n",
       "394          16.4          6         181.0       110.0              25.0   \n",
       "395          17.0          6         262.0        85.0              38.0   \n",
       "396          14.5          4         156.0        92.0              26.0   \n",
       "397          14.7          6         232.0       112.0              22.0   \n",
       "398          13.9          4         144.0        96.0              32.0   \n",
       "399          13.0          4         135.0        84.0              36.0   \n",
       "400          17.3          4         151.0        90.0              27.0   \n",
       "401          15.6          4         140.0        86.0              27.0   \n",
       "402          24.6          4          97.0        52.0              44.0   \n",
       "403          11.6          4         135.0        84.0              32.0   \n",
       "404          18.6          4         120.0        79.0              28.0   \n",
       "405          19.4          4         119.0        82.0              31.0   \n",
       "\n",
       "                                  Name  Origin  Weight_in_lbs  Year  \n",
       "0            chevrolet chevelle malibu     USA           3504  1970  \n",
       "1                    buick skylark 320     USA           3693  1970  \n",
       "2                   plymouth satellite     USA           3436  1970  \n",
       "3                        amc rebel sst     USA           3433  1970  \n",
       "4                          ford torino     USA           3449  1970  \n",
       "5                     ford galaxie 500     USA           4341  1970  \n",
       "6                     chevrolet impala     USA           4354  1970  \n",
       "7                    plymouth fury iii     USA           4312  1970  \n",
       "8                     pontiac catalina     USA           4425  1970  \n",
       "9                   amc ambassador dpl     USA           3850  1970  \n",
       "10                citroen ds-21 pallas  Europe           3090  1970  \n",
       "11    chevrolet chevelle concours (sw)     USA           4142  1970  \n",
       "12                    ford torino (sw)     USA           4034  1970  \n",
       "13             plymouth satellite (sw)     USA           4166  1970  \n",
       "14                  amc rebel sst (sw)     USA           3850  1970  \n",
       "15                 dodge challenger se     USA           3563  1970  \n",
       "16                  plymouth 'cuda 340     USA           3609  1970  \n",
       "17               ford mustang boss 302     USA           3353  1970  \n",
       "18               chevrolet monte carlo     USA           3761  1970  \n",
       "19             buick estate wagon (sw)     USA           3086  1970  \n",
       "20               toyota corona mark ii   Japan           2372  1970  \n",
       "21                     plymouth duster     USA           2833  1970  \n",
       "22                          amc hornet     USA           2774  1970  \n",
       "23                       ford maverick     USA           2587  1970  \n",
       "24                        datsun pl510   Japan           2130  1970  \n",
       "25        volkswagen 1131 deluxe sedan  Europe           1835  1970  \n",
       "26                         peugeot 504  Europe           2672  1970  \n",
       "27                         audi 100 ls  Europe           2430  1970  \n",
       "28                            saab 99e  Europe           2375  1970  \n",
       "29                            bmw 2002  Europe           2234  1970  \n",
       "..                                 ...     ...            ...   ...  \n",
       "376           chevrolet cavalier wagon     USA           2640  1982  \n",
       "377          chevrolet cavalier 2-door     USA           2395  1982  \n",
       "378         pontiac j2000 se hatchback     USA           2575  1982  \n",
       "379                     dodge aries se     USA           2525  1982  \n",
       "380                    pontiac phoenix     USA           2735  1982  \n",
       "381               ford fairmont futura     USA           2865  1982  \n",
       "382                     amc concord dl     USA           3035  1982  \n",
       "383                volkswagen rabbit l  Europe           1980  1982  \n",
       "384                 mazda glc custom l   Japan           2025  1982  \n",
       "385                   mazda glc custom   Japan           1970  1982  \n",
       "386             plymouth horizon miser     USA           2125  1982  \n",
       "387                     mercury lynx l     USA           2125  1982  \n",
       "388                   nissan stanza xe   Japan           2160  1982  \n",
       "389              honda Accelerationord   Japan           2205  1982  \n",
       "390                     toyota corolla   Japan           2245  1982  \n",
       "391                        honda civic   Japan           1965  1982  \n",
       "392                 honda civic (auto)   Japan           1965  1982  \n",
       "393                      datsun 310 gx   Japan           1995  1982  \n",
       "394              buick century limited     USA           2945  1982  \n",
       "395  oldsmobile cutlass ciera (diesel)     USA           3015  1982  \n",
       "396         chrysler lebaron medallion     USA           2585  1982  \n",
       "397                     ford granada l     USA           2835  1982  \n",
       "398                   toyota celica gt   Japan           2665  1982  \n",
       "399                  dodge charger 2.2     USA           2370  1982  \n",
       "400                   chevrolet camaro     USA           2950  1982  \n",
       "401                    ford mustang gl     USA           2790  1982  \n",
       "402                          vw pickup  Europe           2130  1982  \n",
       "403                      dodge rampage     USA           2295  1982  \n",
       "404                        ford ranger     USA           2625  1982  \n",
       "405                         chevy s-10     USA           2720  1982  \n",
       "\n",
       "[406 rows x 9 columns]>"
      ]
     },
     "execution_count": 36,
     "metadata": {},
     "output_type": "execute_result"
    }
   ],
   "source": [
    "df.describe"
   ]
  },
  {
   "cell_type": "code",
   "execution_count": 39,
   "metadata": {},
   "outputs": [
    {
     "data": {
      "text/plain": [
       "Acceleration        float64\n",
       "Cylinders             int64\n",
       "Displacement        float64\n",
       "Horsepower          float64\n",
       "Miles_per_Gallon    float64\n",
       "Name                 object\n",
       "Origin               object\n",
       "Weight_in_lbs         int64\n",
       "Year                  int64\n",
       "dtype: object"
      ]
     },
     "execution_count": 39,
     "metadata": {},
     "output_type": "execute_result"
    }
   ],
   "source": [
    "df.dtypes"
   ]
  },
  {
   "cell_type": "code",
   "execution_count": 35,
   "metadata": {},
   "outputs": [
    {
     "data": {
      "text/html": [
       "<div>\n",
       "<style scoped>\n",
       "    .dataframe tbody tr th:only-of-type {\n",
       "        vertical-align: middle;\n",
       "    }\n",
       "\n",
       "    .dataframe tbody tr th {\n",
       "        vertical-align: top;\n",
       "    }\n",
       "\n",
       "    .dataframe thead th {\n",
       "        text-align: right;\n",
       "    }\n",
       "</style>\n",
       "<table border=\"1\" class=\"dataframe\">\n",
       "  <thead>\n",
       "    <tr style=\"text-align: right;\">\n",
       "      <th></th>\n",
       "      <th>Acceleration</th>\n",
       "      <th>Cylinders</th>\n",
       "      <th>Displacement</th>\n",
       "      <th>Horsepower</th>\n",
       "      <th>Miles_per_Gallon</th>\n",
       "      <th>Weight_in_lbs</th>\n",
       "      <th>Year</th>\n",
       "    </tr>\n",
       "  </thead>\n",
       "  <tbody>\n",
       "    <tr>\n",
       "      <th>count</th>\n",
       "      <td>406.000000</td>\n",
       "      <td>406.000000</td>\n",
       "      <td>406.000000</td>\n",
       "      <td>400.000000</td>\n",
       "      <td>398.000000</td>\n",
       "      <td>406.000000</td>\n",
       "      <td>406.000000</td>\n",
       "    </tr>\n",
       "    <tr>\n",
       "      <th>mean</th>\n",
       "      <td>15.519704</td>\n",
       "      <td>5.475369</td>\n",
       "      <td>194.779557</td>\n",
       "      <td>105.082500</td>\n",
       "      <td>23.514573</td>\n",
       "      <td>2979.413793</td>\n",
       "      <td>1975.995074</td>\n",
       "    </tr>\n",
       "    <tr>\n",
       "      <th>std</th>\n",
       "      <td>2.803359</td>\n",
       "      <td>1.712160</td>\n",
       "      <td>104.922458</td>\n",
       "      <td>38.768779</td>\n",
       "      <td>7.815984</td>\n",
       "      <td>847.004328</td>\n",
       "      <td>3.856689</td>\n",
       "    </tr>\n",
       "    <tr>\n",
       "      <th>min</th>\n",
       "      <td>8.000000</td>\n",
       "      <td>3.000000</td>\n",
       "      <td>68.000000</td>\n",
       "      <td>46.000000</td>\n",
       "      <td>9.000000</td>\n",
       "      <td>1613.000000</td>\n",
       "      <td>1970.000000</td>\n",
       "    </tr>\n",
       "    <tr>\n",
       "      <th>25%</th>\n",
       "      <td>13.700000</td>\n",
       "      <td>4.000000</td>\n",
       "      <td>105.000000</td>\n",
       "      <td>75.750000</td>\n",
       "      <td>17.500000</td>\n",
       "      <td>2226.500000</td>\n",
       "      <td>1973.000000</td>\n",
       "    </tr>\n",
       "    <tr>\n",
       "      <th>50%</th>\n",
       "      <td>15.500000</td>\n",
       "      <td>4.000000</td>\n",
       "      <td>151.000000</td>\n",
       "      <td>95.000000</td>\n",
       "      <td>23.000000</td>\n",
       "      <td>2822.500000</td>\n",
       "      <td>1976.000000</td>\n",
       "    </tr>\n",
       "    <tr>\n",
       "      <th>75%</th>\n",
       "      <td>17.175000</td>\n",
       "      <td>8.000000</td>\n",
       "      <td>302.000000</td>\n",
       "      <td>130.000000</td>\n",
       "      <td>29.000000</td>\n",
       "      <td>3618.250000</td>\n",
       "      <td>1979.000000</td>\n",
       "    </tr>\n",
       "    <tr>\n",
       "      <th>max</th>\n",
       "      <td>24.800000</td>\n",
       "      <td>8.000000</td>\n",
       "      <td>455.000000</td>\n",
       "      <td>230.000000</td>\n",
       "      <td>46.600000</td>\n",
       "      <td>5140.000000</td>\n",
       "      <td>1982.000000</td>\n",
       "    </tr>\n",
       "  </tbody>\n",
       "</table>\n",
       "</div>"
      ],
      "text/plain": [
       "       Acceleration   Cylinders  Displacement  Horsepower  Miles_per_Gallon  \\\n",
       "count    406.000000  406.000000    406.000000  400.000000        398.000000   \n",
       "mean      15.519704    5.475369    194.779557  105.082500         23.514573   \n",
       "std        2.803359    1.712160    104.922458   38.768779          7.815984   \n",
       "min        8.000000    3.000000     68.000000   46.000000          9.000000   \n",
       "25%       13.700000    4.000000    105.000000   75.750000         17.500000   \n",
       "50%       15.500000    4.000000    151.000000   95.000000         23.000000   \n",
       "75%       17.175000    8.000000    302.000000  130.000000         29.000000   \n",
       "max       24.800000    8.000000    455.000000  230.000000         46.600000   \n",
       "\n",
       "       Weight_in_lbs         Year  \n",
       "count     406.000000   406.000000  \n",
       "mean     2979.413793  1975.995074  \n",
       "std       847.004328     3.856689  \n",
       "min      1613.000000  1970.000000  \n",
       "25%      2226.500000  1973.000000  \n",
       "50%      2822.500000  1976.000000  \n",
       "75%      3618.250000  1979.000000  \n",
       "max      5140.000000  1982.000000  "
      ]
     },
     "execution_count": 35,
     "metadata": {},
     "output_type": "execute_result"
    }
   ],
   "source": [
    "df.describe()"
   ]
  },
  {
   "cell_type": "code",
   "execution_count": 41,
   "metadata": {},
   "outputs": [
    {
     "ename": "AttributeError",
     "evalue": "module 'pandas' has no attribute 'shape'",
     "output_type": "error",
     "traceback": [
      "\u001b[1;31m---------------------------------------------------------------------------\u001b[0m",
      "\u001b[1;31mAttributeError\u001b[0m                            Traceback (most recent call last)",
      "\u001b[1;32m<ipython-input-41-641ee249c478>\u001b[0m in \u001b[0;36m<module>\u001b[1;34m\u001b[0m\n\u001b[1;32m----> 1\u001b[1;33m \u001b[0mpd\u001b[0m\u001b[1;33m.\u001b[0m\u001b[0mshape\u001b[0m\u001b[1;33m(\u001b[0m\u001b[1;33m)\u001b[0m\u001b[1;33m\u001b[0m\u001b[1;33m\u001b[0m\u001b[0m\n\u001b[0m",
      "\u001b[1;31mAttributeError\u001b[0m: module 'pandas' has no attribute 'shape'"
     ]
    }
   ],
   "source": [
    "pd.shape()"
   ]
  },
  {
   "cell_type": "code",
   "execution_count": 45,
   "metadata": {},
   "outputs": [
    {
     "name": "stdout",
     "output_type": "stream",
     "text": [
      "Hello, Jonathan\n",
      "36\n"
     ]
    }
   ],
   "source": [
    "# Import the module named mymodule, and call the greeting function:\n",
    "\n",
    "import mymodule\n",
    "\n",
    "mymodule.greeting(\"Jonathan\")\n",
    "a = mymodule.person1[\"age\"]\n",
    "print(a)"
   ]
  },
  {
   "cell_type": "code",
   "execution_count": null,
   "metadata": {},
   "outputs": [],
   "source": []
  }
 ],
 "metadata": {
  "kernelspec": {
   "display_name": "Python 3",
   "language": "python",
   "name": "python3"
  },
  "language_info": {
   "codemirror_mode": {
    "name": "ipython",
    "version": 3
   },
   "file_extension": ".py",
   "mimetype": "text/x-python",
   "name": "python",
   "nbconvert_exporter": "python",
   "pygments_lexer": "ipython3",
   "version": "3.6.7"
  }
 },
 "nbformat": 4,
 "nbformat_minor": 2
}
