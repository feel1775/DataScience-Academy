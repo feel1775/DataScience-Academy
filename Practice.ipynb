{
 "cells": [
  {
   "cell_type": "code",
   "execution_count": null,
   "metadata": {},
   "outputs": [],
   "source": []
  },
  {
   "cell_type": "code",
   "execution_count": 45,
   "metadata": {},
   "outputs": [],
   "source": [
    "import numpy as np\n",
    "import scipy as sp\n",
    "import scipy.stats\n",
    "import pandas as pd\n",
    "import matplotlib.pyplot as plt"
   ]
  },
  {
   "cell_type": "code",
   "execution_count": 46,
   "metadata": {},
   "outputs": [],
   "source": [
    "data = pd.read_csv('data03_breastcancer.csv')"
   ]
  },
  {
   "cell_type": "code",
   "execution_count": 3,
   "metadata": {},
   "outputs": [
    {
     "data": {
      "text/plain": [
       "(200, 5000)"
      ]
     },
     "execution_count": 3,
     "metadata": {},
     "output_type": "execute_result"
    }
   ],
   "source": [
    "data.shape"
   ]
  },
  {
   "cell_type": "code",
   "execution_count": 43,
   "metadata": {},
   "outputs": [
    {
     "data": {
      "text/html": [
       "<div>\n",
       "<style scoped>\n",
       "    .dataframe tbody tr th:only-of-type {\n",
       "        vertical-align: middle;\n",
       "    }\n",
       "\n",
       "    .dataframe tbody tr th {\n",
       "        vertical-align: top;\n",
       "    }\n",
       "\n",
       "    .dataframe thead th {\n",
       "        text-align: right;\n",
       "    }\n",
       "</style>\n",
       "<table border=\"1\" class=\"dataframe\">\n",
       "  <thead>\n",
       "    <tr style=\"text-align: right;\">\n",
       "      <th></th>\n",
       "      <th>A1BG</th>\n",
       "      <th>A1CF</th>\n",
       "      <th>A2BP1</th>\n",
       "      <th>A2LD1</th>\n",
       "      <th>A2ML1</th>\n",
       "      <th>A2M</th>\n",
       "      <th>A4GALT</th>\n",
       "      <th>A4GNT</th>\n",
       "      <th>AAA1</th>\n",
       "      <th>AAAS</th>\n",
       "      <th>...</th>\n",
       "      <th>(190, AVG)</th>\n",
       "      <th>(191, AVG)</th>\n",
       "      <th>(192, AVG)</th>\n",
       "      <th>(193, AVG)</th>\n",
       "      <th>(194, AVG)</th>\n",
       "      <th>(195, AVG)</th>\n",
       "      <th>(196, AVG)</th>\n",
       "      <th>(197, AVG)</th>\n",
       "      <th>(198, AVG)</th>\n",
       "      <th>(199, AVG)</th>\n",
       "    </tr>\n",
       "    <tr>\n",
       "      <th>stage</th>\n",
       "      <th></th>\n",
       "      <th></th>\n",
       "      <th></th>\n",
       "      <th></th>\n",
       "      <th></th>\n",
       "      <th></th>\n",
       "      <th></th>\n",
       "      <th></th>\n",
       "      <th></th>\n",
       "      <th></th>\n",
       "      <th></th>\n",
       "      <th></th>\n",
       "      <th></th>\n",
       "      <th></th>\n",
       "      <th></th>\n",
       "      <th></th>\n",
       "      <th></th>\n",
       "      <th></th>\n",
       "      <th></th>\n",
       "      <th></th>\n",
       "      <th></th>\n",
       "    </tr>\n",
       "  </thead>\n",
       "  <tbody>\n",
       "    <tr>\n",
       "      <th>0</th>\n",
       "      <td>7.07904</td>\n",
       "      <td>0.05406</td>\n",
       "      <td>0.47464</td>\n",
       "      <td>6.25415</td>\n",
       "      <td>2.93241</td>\n",
       "      <td>13.76683</td>\n",
       "      <td>8.20864</td>\n",
       "      <td>0.70949</td>\n",
       "      <td>0.06938</td>\n",
       "      <td>9.39613</td>\n",
       "      <td>...</td>\n",
       "      <td>6.510575</td>\n",
       "      <td>6.491543</td>\n",
       "      <td>6.629629</td>\n",
       "      <td>6.483201</td>\n",
       "      <td>6.476902</td>\n",
       "      <td>6.45323</td>\n",
       "      <td>6.693768</td>\n",
       "      <td>6.511218</td>\n",
       "      <td>6.593485</td>\n",
       "      <td>6.544195</td>\n",
       "    </tr>\n",
       "    <tr>\n",
       "      <th>1</th>\n",
       "      <td>7.28600</td>\n",
       "      <td>0.15571</td>\n",
       "      <td>0.55944</td>\n",
       "      <td>6.36606</td>\n",
       "      <td>2.83806</td>\n",
       "      <td>13.46062</td>\n",
       "      <td>7.97590</td>\n",
       "      <td>0.52892</td>\n",
       "      <td>0.05197</td>\n",
       "      <td>9.45529</td>\n",
       "      <td>...</td>\n",
       "      <td>6.510575</td>\n",
       "      <td>6.491543</td>\n",
       "      <td>6.629629</td>\n",
       "      <td>6.483201</td>\n",
       "      <td>6.476902</td>\n",
       "      <td>6.45323</td>\n",
       "      <td>6.693768</td>\n",
       "      <td>6.511218</td>\n",
       "      <td>6.593485</td>\n",
       "      <td>6.544195</td>\n",
       "    </tr>\n",
       "  </tbody>\n",
       "</table>\n",
       "<p>2 rows × 10198 columns</p>\n",
       "</div>"
      ],
      "text/plain": [
       "          A1BG     A1CF    A2BP1    A2LD1    A2ML1       A2M   A4GALT  \\\n",
       "stage                                                                   \n",
       "0      7.07904  0.05406  0.47464  6.25415  2.93241  13.76683  8.20864   \n",
       "1      7.28600  0.15571  0.55944  6.36606  2.83806  13.46062  7.97590   \n",
       "\n",
       "         A4GNT     AAA1     AAAS     ...      (190, AVG)  (191, AVG)  \\\n",
       "stage                                ...                               \n",
       "0      0.70949  0.06938  9.39613     ...        6.510575    6.491543   \n",
       "1      0.52892  0.05197  9.45529     ...        6.510575    6.491543   \n",
       "\n",
       "       (192, AVG)  (193, AVG)  (194, AVG)  (195, AVG)  (196, AVG)  (197, AVG)  \\\n",
       "stage                                                                           \n",
       "0        6.629629    6.483201    6.476902     6.45323    6.693768    6.511218   \n",
       "1        6.629629    6.483201    6.476902     6.45323    6.693768    6.511218   \n",
       "\n",
       "       (198, AVG)  (199, AVG)  \n",
       "stage                          \n",
       "0        6.593485    6.544195  \n",
       "1        6.593485    6.544195  \n",
       "\n",
       "[2 rows x 10198 columns]"
      ]
     },
     "execution_count": 43,
     "metadata": {},
     "output_type": "execute_result"
    }
   ],
   "source": [
    "data.groupby(['stage']).mean()"
   ]
  },
  {
   "cell_type": "code",
   "execution_count": 40,
   "metadata": {},
   "outputs": [],
   "source": [
    "aa = 0.0\n",
    "    \n",
    "for i in range(1,5000):\n",
    "    data['AVG',i] = data.iloc[:,i].mean()"
   ]
  },
  {
   "cell_type": "code",
   "execution_count": 47,
   "metadata": {},
   "outputs": [
    {
     "data": {
      "text/plain": [
       "Ttest_indResult(statistic=1.4519571044067154, pvalue=0.14809624255340825)"
      ]
     },
     "execution_count": 47,
     "metadata": {},
     "output_type": "execute_result"
    }
   ],
   "source": [
    "df = pd.read_csv('data03_breastcancer.csv')\n",
    "d1 = df[ df['stage']==0 ]\n",
    "d2 = df[ df['stage']==1 ]\n",
    "sp.stats.ttest_ind(d1['DCT'],d2['DCT'])"
   ]
  },
  {
   "cell_type": "code",
   "execution_count": 49,
   "metadata": {},
   "outputs": [],
   "source": [
    "%matplotlib inline"
   ]
  },
  {
   "cell_type": "code",
   "execution_count": 50,
   "metadata": {},
   "outputs": [],
   "source": [
    "df = pd.read_csv('data04_carseat.csv')"
   ]
  },
  {
   "cell_type": "code",
   "execution_count": 51,
   "metadata": {},
   "outputs": [
    {
     "name": "stdout",
     "output_type": "stream",
     "text": [
      "0.030252170801711685\n"
     ]
    }
   ],
   "source": [
    "print(sp.stats.pearsonr(df['Sales'],df['CompPrice'])[1])"
   ]
  },
  {
   "cell_type": "code",
   "execution_count": 52,
   "metadata": {},
   "outputs": [
    {
     "name": "stdout",
     "output_type": "stream",
     "text": [
      "F_onewayResult(statistic=30.84136704786565, pvalue=4.292792406043025e-11)\n"
     ]
    }
   ],
   "source": [
    "d1 = df[df['ShelveLoc'] =='Bad']\n",
    "d2 = df[df['ShelveLoc'] =='Medium']\n",
    "d3 = df[df['ShelveLoc'] =='Good']\n",
    "print(sp.stats.f_oneway(d1['Sales'],d2['Sales'],d3['Sales']))"
   ]
  },
  {
   "cell_type": "code",
   "execution_count": 53,
   "metadata": {},
   "outputs": [
    {
     "data": {
      "text/html": [
       "<div>\n",
       "<style scoped>\n",
       "    .dataframe tbody tr th:only-of-type {\n",
       "        vertical-align: middle;\n",
       "    }\n",
       "\n",
       "    .dataframe tbody tr th {\n",
       "        vertical-align: top;\n",
       "    }\n",
       "\n",
       "    .dataframe thead th {\n",
       "        text-align: right;\n",
       "    }\n",
       "</style>\n",
       "<table border=\"1\" class=\"dataframe\">\n",
       "  <thead>\n",
       "    <tr style=\"text-align: right;\">\n",
       "      <th></th>\n",
       "      <th>Sales</th>\n",
       "      <th>SalesBin</th>\n",
       "      <th>CompPrice</th>\n",
       "      <th>Income</th>\n",
       "      <th>Advertising</th>\n",
       "      <th>Population</th>\n",
       "      <th>Price</th>\n",
       "      <th>ShelveLoc</th>\n",
       "      <th>Age</th>\n",
       "      <th>Education</th>\n",
       "      <th>Urban</th>\n",
       "      <th>US</th>\n",
       "    </tr>\n",
       "  </thead>\n",
       "  <tbody>\n",
       "    <tr>\n",
       "      <th>0</th>\n",
       "      <td>9.50</td>\n",
       "      <td>High</td>\n",
       "      <td>138</td>\n",
       "      <td>73</td>\n",
       "      <td>11</td>\n",
       "      <td>276</td>\n",
       "      <td>120</td>\n",
       "      <td>Bad</td>\n",
       "      <td>42</td>\n",
       "      <td>17</td>\n",
       "      <td>Yes</td>\n",
       "      <td>Yes</td>\n",
       "    </tr>\n",
       "    <tr>\n",
       "      <th>1</th>\n",
       "      <td>11.22</td>\n",
       "      <td>High</td>\n",
       "      <td>111</td>\n",
       "      <td>48</td>\n",
       "      <td>16</td>\n",
       "      <td>260</td>\n",
       "      <td>83</td>\n",
       "      <td>Good</td>\n",
       "      <td>65</td>\n",
       "      <td>10</td>\n",
       "      <td>Yes</td>\n",
       "      <td>Yes</td>\n",
       "    </tr>\n",
       "    <tr>\n",
       "      <th>2</th>\n",
       "      <td>10.06</td>\n",
       "      <td>High</td>\n",
       "      <td>113</td>\n",
       "      <td>35</td>\n",
       "      <td>10</td>\n",
       "      <td>269</td>\n",
       "      <td>80</td>\n",
       "      <td>Medium</td>\n",
       "      <td>59</td>\n",
       "      <td>12</td>\n",
       "      <td>Yes</td>\n",
       "      <td>Yes</td>\n",
       "    </tr>\n",
       "    <tr>\n",
       "      <th>3</th>\n",
       "      <td>7.40</td>\n",
       "      <td>Low</td>\n",
       "      <td>117</td>\n",
       "      <td>100</td>\n",
       "      <td>4</td>\n",
       "      <td>466</td>\n",
       "      <td>97</td>\n",
       "      <td>Medium</td>\n",
       "      <td>55</td>\n",
       "      <td>14</td>\n",
       "      <td>Yes</td>\n",
       "      <td>Yes</td>\n",
       "    </tr>\n",
       "    <tr>\n",
       "      <th>4</th>\n",
       "      <td>4.15</td>\n",
       "      <td>Low</td>\n",
       "      <td>141</td>\n",
       "      <td>64</td>\n",
       "      <td>3</td>\n",
       "      <td>340</td>\n",
       "      <td>128</td>\n",
       "      <td>Bad</td>\n",
       "      <td>38</td>\n",
       "      <td>13</td>\n",
       "      <td>Yes</td>\n",
       "      <td>No</td>\n",
       "    </tr>\n",
       "  </tbody>\n",
       "</table>\n",
       "</div>"
      ],
      "text/plain": [
       "   Sales SalesBin  CompPrice  Income  Advertising  Population  Price  \\\n",
       "0   9.50     High        138      73           11         276    120   \n",
       "1  11.22     High        111      48           16         260     83   \n",
       "2  10.06     High        113      35           10         269     80   \n",
       "3   7.40      Low        117     100            4         466     97   \n",
       "4   4.15      Low        141      64            3         340    128   \n",
       "\n",
       "  ShelveLoc  Age  Education Urban   US  \n",
       "0       Bad   42         17   Yes  Yes  \n",
       "1      Good   65         10   Yes  Yes  \n",
       "2    Medium   59         12   Yes  Yes  \n",
       "3    Medium   55         14   Yes  Yes  \n",
       "4       Bad   38         13   Yes   No  "
      ]
     },
     "execution_count": 53,
     "metadata": {},
     "output_type": "execute_result"
    }
   ],
   "source": [
    "df.head()"
   ]
  },
  {
   "cell_type": "code",
   "execution_count": null,
   "metadata": {},
   "outputs": [],
   "source": []
  }
 ],
 "metadata": {
  "kernelspec": {
   "display_name": "Python 3",
   "language": "python",
   "name": "python3"
  },
  "language_info": {
   "codemirror_mode": {
    "name": "ipython",
    "version": 3
   },
   "file_extension": ".py",
   "mimetype": "text/x-python",
   "name": "python",
   "nbconvert_exporter": "python",
   "pygments_lexer": "ipython3",
   "version": "3.6.7"
  }
 },
 "nbformat": 4,
 "nbformat_minor": 2
}
