{
 "cells": [
  {
   "cell_type": "code",
   "execution_count": 2,
   "metadata": {},
   "outputs": [],
   "source": [
    "#library\n",
    "import numpy as np\n",
    "import pandas as pd\n",
    "import scipy as sp\n",
    "import scipy.stats\n",
    "import matplotlib.pyplot as plt"
   ]
  },
  {
   "cell_type": "code",
   "execution_count": 3,
   "metadata": {},
   "outputs": [],
   "source": [
    "df = pd.read_csv('data05_boston.csv')"
   ]
  },
  {
   "cell_type": "code",
   "execution_count": 38,
   "metadata": {},
   "outputs": [],
   "source": [
    "from sklearn.linear_model import LinearRegression\n",
    "v = df['lstat'] # 1차원 벡터\n",
    "X = df[['lstat','age','rm']] #2차원 행렬\n",
    "y = df['medv']"
   ]
  },
  {
   "cell_type": "code",
   "execution_count": 39,
   "metadata": {},
   "outputs": [
    {
     "data": {
      "text/html": [
       "<div>\n",
       "<style scoped>\n",
       "    .dataframe tbody tr th:only-of-type {\n",
       "        vertical-align: middle;\n",
       "    }\n",
       "\n",
       "    .dataframe tbody tr th {\n",
       "        vertical-align: top;\n",
       "    }\n",
       "\n",
       "    .dataframe thead th {\n",
       "        text-align: right;\n",
       "    }\n",
       "</style>\n",
       "<table border=\"1\" class=\"dataframe\">\n",
       "  <thead>\n",
       "    <tr style=\"text-align: right;\">\n",
       "      <th></th>\n",
       "      <th>lstat</th>\n",
       "      <th>age</th>\n",
       "      <th>rm</th>\n",
       "    </tr>\n",
       "  </thead>\n",
       "  <tbody>\n",
       "    <tr>\n",
       "      <th>0</th>\n",
       "      <td>4.98</td>\n",
       "      <td>65.2</td>\n",
       "      <td>6.575</td>\n",
       "    </tr>\n",
       "    <tr>\n",
       "      <th>1</th>\n",
       "      <td>9.14</td>\n",
       "      <td>78.9</td>\n",
       "      <td>6.421</td>\n",
       "    </tr>\n",
       "    <tr>\n",
       "      <th>2</th>\n",
       "      <td>4.03</td>\n",
       "      <td>61.1</td>\n",
       "      <td>7.185</td>\n",
       "    </tr>\n",
       "    <tr>\n",
       "      <th>3</th>\n",
       "      <td>2.94</td>\n",
       "      <td>45.8</td>\n",
       "      <td>6.998</td>\n",
       "    </tr>\n",
       "    <tr>\n",
       "      <th>4</th>\n",
       "      <td>5.33</td>\n",
       "      <td>54.2</td>\n",
       "      <td>7.147</td>\n",
       "    </tr>\n",
       "  </tbody>\n",
       "</table>\n",
       "</div>"
      ],
      "text/plain": [
       "   lstat   age     rm\n",
       "0   4.98  65.2  6.575\n",
       "1   9.14  78.9  6.421\n",
       "2   4.03  61.1  7.185\n",
       "3   2.94  45.8  6.998\n",
       "4   5.33  54.2  7.147"
      ]
     },
     "execution_count": 39,
     "metadata": {},
     "output_type": "execute_result"
    }
   ],
   "source": [
    "#v.head(5)\n",
    "X.head(5)"
   ]
  },
  {
   "cell_type": "code",
   "execution_count": 40,
   "metadata": {},
   "outputs": [
    {
     "data": {
      "text/plain": [
       "LinearRegression(copy_X=True, fit_intercept=True, n_jobs=None,\n",
       "         normalize=False)"
      ]
     },
     "execution_count": 40,
     "metadata": {},
     "output_type": "execute_result"
    }
   ],
   "source": [
    "lm = LinearRegression()\n",
    "lm.fit(X,y) # b0, b1을 구함"
   ]
  },
  {
   "cell_type": "code",
   "execution_count": 41,
   "metadata": {},
   "outputs": [
    {
     "data": {
      "text/plain": [
       "-1.1753114948264525"
      ]
     },
     "execution_count": 41,
     "metadata": {},
     "output_type": "execute_result"
    }
   ],
   "source": [
    "lm.intercept_"
   ]
  },
  {
   "cell_type": "code",
   "execution_count": 42,
   "metadata": {},
   "outputs": [
    {
     "data": {
      "text/plain": [
       "array([-0.66851305,  0.00909133,  5.01913348])"
      ]
     },
     "execution_count": 42,
     "metadata": {},
     "output_type": "execute_result"
    }
   ],
   "source": [
    "lm.coef_"
   ]
  },
  {
   "cell_type": "markdown",
   "metadata": {},
   "source": [
    "medv ~ 34.55 - 0.95lsat 모델을 만든 것이다"
   ]
  },
  {
   "cell_type": "code",
   "execution_count": 43,
   "metadata": {},
   "outputs": [
    {
     "data": {
      "text/plain": [
       "-7.860442010937"
      ]
     },
     "execution_count": 43,
     "metadata": {},
     "output_type": "execute_result"
    }
   ],
   "source": [
    "lm.intercept_ + lm.coef_[0]*10"
   ]
  },
  {
   "cell_type": "code",
   "execution_count": 45,
   "metadata": {},
   "outputs": [],
   "source": [
    "yhat = lm.predict(X)"
   ]
  },
  {
   "cell_type": "code",
   "execution_count": 46,
   "metadata": {},
   "outputs": [
    {
     "data": {
      "text/plain": [
       "array([ 2.90890507e+01,  2.56596410e+01,  3.27485351e+01,  3.23995390e+01,\n",
       "        3.16260109e+01,  2.81484247e+01,  2.12955842e+01,  1.78744320e+01,\n",
       "        7.98796623e+00,  1.83089378e+01,  1.80179230e+01,  2.08671644e+01,\n",
       "        1.82345873e+01,  2.37234398e+01,  2.33305994e+01,  2.29576677e+01,\n",
       "        2.44808057e+01,  1.98249730e+01,  1.87269058e+01,  2.06602860e+01,\n",
       "        1.36209769e+01,  2.03292306e+01,  1.79713167e+01,  1.56200047e+01,\n",
       "        1.85167664e+01,  1.66687931e+01,  1.89211800e+01,  1.84307930e+01,\n",
       "        2.37252147e+01,  2.51072719e+01,  1.32460970e+01,  2.14925895e+01,\n",
       "        1.09095249e+01,  1.60352301e+01,  1.67047203e+01,  2.27520296e+01,\n",
       "        2.10719207e+01,  2.27010500e+01,  2.22713597e+01,  2.92360884e+01,\n",
       "        3.28990692e+01,  2.95949839e+01,  2.59636649e+01,  2.50838831e+01,\n",
       "        2.32651630e+01,  2.08251735e+01,  1.87086763e+01,  1.72993265e+01,\n",
       "        6.19250654e+00,  1.66756251e+01,  2.01777546e+01,  2.37853653e+01,\n",
       "        2.81663447e+01,  2.34884405e+01,  1.89161005e+01,  3.21919394e+01,\n",
       "        2.73290576e+01,  3.07626745e+01,  2.53467310e+01,  2.28385130e+01,\n",
       "        1.94504331e+01,  1.99646404e+01,  2.73455134e+01,  2.68077587e+01,\n",
       "        2.96400167e+01,  2.74349078e+01,  2.13075806e+01,  2.31067538e+01,\n",
       "        1.84854462e+01,  2.27860731e+01,  2.66000631e+01,  2.22979325e+01,\n",
       "        2.56464534e+01,  2.51849549e+01,  2.58317423e+01,  2.48075646e+01,\n",
       "        2.30150303e+01,  2.31929218e+01,  2.23426816e+01,  2.25563524e+01,\n",
       "        2.93565249e+01,  2.78596982e+01,  2.62556007e+01,  2.51817166e+01,\n",
       "        2.48972205e+01,  2.82461767e+01,  2.08277174e+01,  2.44209418e+01,\n",
       "        3.11015166e+01,  3.11182728e+01,  2.57438048e+01,  2.61622805e+01,\n",
       "        2.61901750e+01,  2.61097999e+01,  2.38124600e+01,  2.81563147e+01,\n",
       "        2.28094265e+01,  3.72005775e+01,  3.60231907e+01,  3.24766946e+01,\n",
       "        2.70174035e+01,  2.83801492e+01,  2.46423441e+01,  2.14368773e+01,\n",
       "        2.23531382e+01,  1.80603599e+01,  1.64773909e+01,  2.09321515e+01,\n",
       "        2.39986714e+01,  2.05226221e+01,  2.17221190e+01,  2.64779295e+01,\n",
       "        1.85108125e+01,  1.88436742e+01,  2.39938777e+01,  1.88442012e+01,\n",
       "        2.24330810e+01,  2.29101504e+01,  1.86865707e+01,  1.90836344e+01,\n",
       "        1.93141350e+01,  2.01844653e+01,  1.76018885e+01,  1.21116763e+01,\n",
       "        1.74506639e+01,  1.97722166e+01,  9.64254983e+00,  1.67796435e+01,\n",
       "        2.17125432e+01,  1.57179633e+01,  2.37141203e+01,  2.32679796e+01,\n",
       "        2.42627829e+01,  1.88656451e+01,  1.70424656e+01,  2.01756861e+01,\n",
       "        1.82005482e+01,  2.23591572e+01,  1.48618234e+01,  1.82466686e+01,\n",
       "        1.45124915e+01,  1.92131807e+00,  8.92267938e+00,  9.51632828e+00,\n",
       "        4.74188449e+00,  1.19164466e+01,  1.68507622e+01,  4.67778964e+00,\n",
       "        6.77439161e+00,  1.34399406e+01,  2.10103758e+01,  1.79793652e+01,\n",
       "        1.66782441e+01,  1.78185962e+01,  2.03518077e+01,  2.04122753e+01,\n",
       "        1.53503443e+01,  3.14895526e+01,  2.58813460e+01,  2.74680687e+01,\n",
       "        2.73593079e+01,  3.60819441e+01,  3.75931912e+01,  3.94941437e+01,\n",
       "        2.12597878e+01,  2.37338023e+01,  3.70224853e+01,  2.09264206e+01,\n",
       "        2.39937746e+01,  2.42551077e+01,  1.95254939e+01,  2.11795675e+01,\n",
       "        1.77754260e+01,  2.57486716e+01,  2.24118999e+01,  2.84176846e+01,\n",
       "        2.27103158e+01,  2.69828728e+01,  2.93062286e+01,  3.10198679e+01,\n",
       "        3.35016089e+01,  2.39102768e+01,  3.23525760e+01,  2.88372383e+01,\n",
       "        1.84225013e+01,  2.15419535e+01,  3.56419349e+01,  2.87724381e+01,\n",
       "        2.89462657e+01,  3.16375298e+01,  3.04987323e+01,  2.97933157e+01,\n",
       "        3.31724981e+01,  2.96821797e+01,  2.92138758e+01,  3.66558034e+01,\n",
       "        3.29815952e+01,  2.90725154e+01,  3.12565069e+01,  3.09238223e+01,\n",
       "        3.17876923e+01,  2.51346440e+01,  3.50839525e+01,  3.59947411e+01,\n",
       "        3.75131026e+01,  2.13284036e+01,  2.37194334e+01,  1.64379312e+01,\n",
       "        1.99976100e+01,  1.11201042e+01,  1.80308149e+01,  1.07226345e+01,\n",
       "        1.77436458e+01,  2.48446619e+01,  6.32277324e+00,  2.39076254e+01,\n",
       "        1.98548494e+01,  2.64575536e+01,  1.75665645e+01,  2.46322778e+01,\n",
       "        2.80260061e+01,  1.62463754e+01,  2.74193692e+01,  2.76951939e+01,\n",
       "        3.82570528e+01,  4.02759929e+01,  3.78724756e+01,  3.12513957e+01,\n",
       "        3.49357298e+01,  2.93909964e+01,  2.16750682e+01,  3.32159354e+01,\n",
       "        3.96843714e+01,  3.82168852e+01,  2.78064235e+01,  2.26568295e+01,\n",
       "        2.64244346e+01,  3.32443450e+01,  2.72701391e+01,  2.74377971e+01,\n",
       "        2.63276327e+01,  2.17185906e+01,  2.37165540e+01,  2.75133385e+01,\n",
       "        1.92357755e+01,  1.52543919e+01,  2.36752636e+01,  2.40084392e+01,\n",
       "        2.51949141e+01,  2.83168798e+01,  2.75577676e+01,  2.88188208e+01,\n",
       "        3.14447701e+01,  3.79875429e+01,  2.53803475e+01,  2.23070155e+01,\n",
       "        3.44691573e+01,  3.98784758e+01,  3.13314104e+01,  2.94619925e+01,\n",
       "        2.93101374e+01,  3.25279322e+01,  3.78563158e+01,  2.89382381e+01,\n",
       "        3.04103742e+01,  2.03160446e+01,  2.49107090e+01,  3.61038208e+01,\n",
       "        3.46833182e+01,  1.99718722e+01,  1.99088094e+01,  2.58867691e+01,\n",
       "        2.70058382e+01,  3.34989590e+01,  3.06832462e+01,  3.16227693e+01,\n",
       "        3.16997026e+01,  3.05552000e+01,  2.68439345e+01,  3.00654782e+01,\n",
       "        3.61470939e+01,  3.10677331e+01,  3.56355786e+01,  3.67042467e+01,\n",
       "        2.93415788e+01,  2.60013078e+01,  2.17363931e+01,  2.54998636e+01,\n",
       "        2.58543818e+01,  2.56259321e+01,  3.12884629e+01,  3.25733779e+01,\n",
       "        2.91722692e+01,  2.40083578e+01,  2.24166890e+01,  2.84336253e+01,\n",
       "        2.72183399e+01,  1.78235216e+01,  2.75313163e+01,  3.10865688e+01,\n",
       "        2.96842093e+01,  2.59171938e+01,  2.57952327e+01,  3.07802215e+01,\n",
       "        3.08839965e+01,  2.65896602e+01,  3.23950459e+01,  2.88059507e+01,\n",
       "        2.98416244e+01,  2.28311833e+01,  1.56784865e+01,  2.60341377e+01,\n",
       "        2.20418125e+01,  2.57460877e+01,  2.63752098e+01,  2.04773410e+01,\n",
       "        1.70103981e+01,  1.78410684e+01,  2.45419404e+01,  2.15310504e+01,\n",
       "        2.67398227e+01,  2.67276580e+01,  2.44513806e+01,  2.03010448e+01,\n",
       "        2.72956921e+01,  2.78403321e+01,  2.66568431e+01,  2.12030865e+01,\n",
       "        2.18464449e+01,  2.58603459e+01,  2.38782017e+01,  1.94124406e+01,\n",
       "        2.40724533e+01,  2.70747610e+01,  2.63329738e+01,  2.40840586e+01,\n",
       "        2.21514835e+01,  2.18948257e+01,  2.38856787e+01,  2.27656315e+01,\n",
       "        2.31002335e+01,  3.19462998e+01,  2.64099358e+01,  2.81456334e+01,\n",
       "        3.04998332e+01,  2.24112442e+01,  2.04329538e+01,  2.75294490e+01,\n",
       "        2.83922584e+01,  3.00285646e+01,  2.78048117e+01,  2.85018097e+01,\n",
       "        2.33177428e+01,  2.99133067e+01,  2.20656114e+01,  2.50719280e+01,\n",
       "        1.91232113e+01,  2.28781897e+01,  2.26606062e+01,  2.17706969e+01,\n",
       "        2.65294246e+01,  2.15413116e+01,  1.97997199e+01,  1.89728171e+01,\n",
       "        4.01099175e+01,  1.27371376e+01,  1.52064126e+01,  1.02114549e+01,\n",
       "        2.24995621e+01,  3.07540444e+01,  3.29465348e+01,  2.45618256e+01,\n",
       "        2.31902847e+01,  1.11349128e+00, -4.88044499e+00,  2.74348372e+01,\n",
       "        1.75088845e+01,  1.96236873e+01,  1.58842716e+01,  1.64076746e+01,\n",
       "        2.31283940e+01,  1.84836125e+01,  1.17428362e+01,  1.10207575e+01,\n",
       "        1.10083783e+00,  5.60562797e+00,  4.17728108e+00,  3.34829718e+00,\n",
       "        3.75732298e+00,  1.28384531e+01,  1.69425985e+01,  1.74041948e+01,\n",
       "        7.81548829e+00,  2.06086961e+01,  1.83030876e+01,  2.07567810e+01,\n",
       "        1.88959081e+01,  1.52520009e+01,  6.65334185e+00,  8.86862674e+00,\n",
       "        1.18872790e+01,  1.79859997e+01,  1.82988520e+01,  1.33282979e+01,\n",
       "        9.05802778e+00,  1.28951269e+01,  4.89990095e+00,  1.97720585e+01,\n",
       "        1.02584576e+01,  2.09017357e+01,  2.18703057e+01,  1.89603459e+01,\n",
       "       -1.44226030e-02,  1.21837122e+01, -2.30632722e+00,  1.26066219e+01,\n",
       "        1.64489927e+01,  8.44702205e+00,  1.58480603e+01,  1.85687551e+01,\n",
       "        2.18704199e+01,  1.93403528e+01,  1.85431206e+01,  1.46604631e+01,\n",
       "        1.59263301e+01,  1.29797788e+01,  1.81751531e+01,  2.09620323e+01,\n",
       "        1.62318139e+01,  1.56180967e+01,  1.96763409e+01,  2.08147178e+01,\n",
       "        2.37104404e+01,  2.10836776e+01,  2.07058023e+01,  1.74002652e+01,\n",
       "        2.00348702e+01,  1.29293602e+01,  6.66955937e+00,  1.26254496e+01,\n",
       "        1.40852222e+01,  1.88115598e+01,  1.98571808e+01,  1.96814308e+01,\n",
       "        1.31809926e+01,  1.60741865e+01,  1.96345707e+01,  2.00871595e+01,\n",
       "        1.86452015e+01,  1.90171585e+01,  2.18818097e+01,  2.12670538e+01,\n",
       "        1.97195355e+01,  2.56430026e+01,  2.09410333e+01,  2.02407927e+01,\n",
       "        1.69097247e+01,  1.80236873e+01,  2.03612258e+01,  2.02862054e+01,\n",
       "        2.22991371e+01,  2.18366407e+01,  2.19326373e+01,  2.54526159e+01,\n",
       "        2.17453185e+01,  1.87219908e+01,  1.80036076e+01,  1.55609790e+01,\n",
       "        1.70934161e+01,  1.81472237e+01,  1.96512786e+01,  2.23096914e+01,\n",
       "        2.22148528e+01,  2.66779517e+01,  1.48040118e+01,  1.45269197e+01,\n",
       "        1.97318744e+01,  9.67809852e+00,  1.86938701e+01,  2.21247017e+01,\n",
       "        2.35624984e+01,  2.82104889e+01,  3.02785457e+01,  2.11454101e+01,\n",
       "        1.97549837e+01,  2.39044308e+01,  2.02228330e+01,  2.12918559e+01,\n",
       "        1.49684628e+01,  1.08676968e+01,  5.43661802e+00,  1.76723564e+01,\n",
       "        2.06886407e+01,  1.99309732e+01,  1.98702717e+01,  1.57791759e+01,\n",
       "        1.24082098e+01,  1.91213616e+01,  2.09913280e+01,  1.73499083e+01,\n",
       "        2.02197927e+01,  2.60795251e+01,  2.41689917e+01,  3.08950608e+01,\n",
       "        2.94045723e+01,  2.45567598e+01])"
      ]
     },
     "execution_count": 46,
     "metadata": {},
     "output_type": "execute_result"
    }
   ],
   "source": [
    "yhat"
   ]
  },
  {
   "cell_type": "code",
   "execution_count": 47,
   "metadata": {},
   "outputs": [],
   "source": [
    "e = y-yhat"
   ]
  },
  {
   "cell_type": "code",
   "execution_count": 48,
   "metadata": {},
   "outputs": [
    {
     "data": {
      "text/plain": [
       "0   -5.089051\n",
       "1   -4.059641\n",
       "2    1.951465\n",
       "3    1.000461\n",
       "4    4.573989\n",
       "Name: medv, dtype: float64"
      ]
     },
     "execution_count": 48,
     "metadata": {},
     "output_type": "execute_result"
    }
   ],
   "source": [
    "e.head(5)"
   ]
  },
  {
   "cell_type": "code",
   "execution_count": 49,
   "metadata": {},
   "outputs": [],
   "source": [
    "r2 = lm.score(X,y) #R2"
   ]
  },
  {
   "cell_type": "code",
   "execution_count": 50,
   "metadata": {},
   "outputs": [],
   "source": [
    "rmse = np.sqrt((e**2).mean()) #RMSE"
   ]
  },
  {
   "cell_type": "code",
   "execution_count": 51,
   "metadata": {},
   "outputs": [
    {
     "data": {
      "text/plain": [
       "5.520197387308067"
      ]
     },
     "execution_count": 51,
     "metadata": {},
     "output_type": "execute_result"
    }
   ],
   "source": [
    "rmse"
   ]
  },
  {
   "cell_type": "code",
   "execution_count": 52,
   "metadata": {},
   "outputs": [
    {
     "data": {
      "text/plain": [
       "0.6390341221591789"
      ]
     },
     "execution_count": 52,
     "metadata": {},
     "output_type": "execute_result"
    }
   ],
   "source": [
    "r2"
   ]
  },
  {
   "cell_type": "code",
   "execution_count": 58,
   "metadata": {},
   "outputs": [
    {
     "data": {
      "image/png": "[encoded data removed]",
      "text/plain": [
       "<Figure size 432x288 with 1 Axes>"
      ]
     },
     "metadata": {
      "needs_background": "light"
     },
     "output_type": "display_data"
    }
   ],
   "source": [
    "plt.plot(yhat,y,'bo')\n",
    "plt.title('All vs. Medv: %.2f' % r2)\n",
    "plt.show()"
   ]
  },
  {
   "cell_type": "code",
   "execution_count": 57,
   "metadata": {},
   "outputs": [],
   "source": [
    "X = df.iloc[:,0:13]\n",
    "y = df['medv']\n",
    "lm = LinearRegression()\n",
    "lm.fit(X,y)\n",
    "lm.coef_\n",
    "lm.intercept_\n",
    "yhat = lm.predict(X)\n",
    "e = y-yhat\n",
    "r2 = lm.score(X,y) #R2\n",
    "rmse = np.sqrt((e**2).mean())"
   ]
  },
  {
   "cell_type": "code",
   "execution_count": 59,
   "metadata": {},
   "outputs": [],
   "source": [
    "import statsmodels.api as sm"
   ]
  },
  {
   "cell_type": "code",
   "execution_count": 61,
   "metadata": {},
   "outputs": [
    {
     "data": {
      "text/html": [
       "<div>\n",
       "<style scoped>\n",
       "    .dataframe tbody tr th:only-of-type {\n",
       "        vertical-align: middle;\n",
       "    }\n",
       "\n",
       "    .dataframe tbody tr th {\n",
       "        vertical-align: top;\n",
       "    }\n",
       "\n",
       "    .dataframe thead th {\n",
       "        text-align: right;\n",
       "    }\n",
       "</style>\n",
       "<table border=\"1\" class=\"dataframe\">\n",
       "  <thead>\n",
       "    <tr style=\"text-align: right;\">\n",
       "      <th></th>\n",
       "      <th>crim</th>\n",
       "      <th>zn</th>\n",
       "      <th>indus</th>\n",
       "      <th>chas</th>\n",
       "      <th>nox</th>\n",
       "      <th>rm</th>\n",
       "      <th>age</th>\n",
       "      <th>dis</th>\n",
       "      <th>rad</th>\n",
       "      <th>tax</th>\n",
       "      <th>ptratio</th>\n",
       "      <th>black</th>\n",
       "      <th>lstat</th>\n",
       "    </tr>\n",
       "  </thead>\n",
       "  <tbody>\n",
       "    <tr>\n",
       "      <th>0</th>\n",
       "      <td>0.00632</td>\n",
       "      <td>18.0</td>\n",
       "      <td>2.31</td>\n",
       "      <td>0</td>\n",
       "      <td>0.538</td>\n",
       "      <td>6.575</td>\n",
       "      <td>65.2</td>\n",
       "      <td>4.0900</td>\n",
       "      <td>1</td>\n",
       "      <td>296</td>\n",
       "      <td>15.3</td>\n",
       "      <td>396.90</td>\n",
       "      <td>4.98</td>\n",
       "    </tr>\n",
       "    <tr>\n",
       "      <th>1</th>\n",
       "      <td>0.02731</td>\n",
       "      <td>0.0</td>\n",
       "      <td>7.07</td>\n",
       "      <td>0</td>\n",
       "      <td>0.469</td>\n",
       "      <td>6.421</td>\n",
       "      <td>78.9</td>\n",
       "      <td>4.9671</td>\n",
       "      <td>2</td>\n",
       "      <td>242</td>\n",
       "      <td>17.8</td>\n",
       "      <td>396.90</td>\n",
       "      <td>9.14</td>\n",
       "    </tr>\n",
       "    <tr>\n",
       "      <th>2</th>\n",
       "      <td>0.02729</td>\n",
       "      <td>0.0</td>\n",
       "      <td>7.07</td>\n",
       "      <td>0</td>\n",
       "      <td>0.469</td>\n",
       "      <td>7.185</td>\n",
       "      <td>61.1</td>\n",
       "      <td>4.9671</td>\n",
       "      <td>2</td>\n",
       "      <td>242</td>\n",
       "      <td>17.8</td>\n",
       "      <td>392.83</td>\n",
       "      <td>4.03</td>\n",
       "    </tr>\n",
       "    <tr>\n",
       "      <th>3</th>\n",
       "      <td>0.03237</td>\n",
       "      <td>0.0</td>\n",
       "      <td>2.18</td>\n",
       "      <td>0</td>\n",
       "      <td>0.458</td>\n",
       "      <td>6.998</td>\n",
       "      <td>45.8</td>\n",
       "      <td>6.0622</td>\n",
       "      <td>3</td>\n",
       "      <td>222</td>\n",
       "      <td>18.7</td>\n",
       "      <td>394.63</td>\n",
       "      <td>2.94</td>\n",
       "    </tr>\n",
       "    <tr>\n",
       "      <th>4</th>\n",
       "      <td>0.06905</td>\n",
       "      <td>0.0</td>\n",
       "      <td>2.18</td>\n",
       "      <td>0</td>\n",
       "      <td>0.458</td>\n",
       "      <td>7.147</td>\n",
       "      <td>54.2</td>\n",
       "      <td>6.0622</td>\n",
       "      <td>3</td>\n",
       "      <td>222</td>\n",
       "      <td>18.7</td>\n",
       "      <td>396.90</td>\n",
       "      <td>5.33</td>\n",
       "    </tr>\n",
       "  </tbody>\n",
       "</table>\n",
       "</div>"
      ],
      "text/plain": [
       "      crim    zn  indus  chas    nox     rm   age     dis  rad  tax  ptratio  \\\n",
       "0  0.00632  18.0   2.31     0  0.538  6.575  65.2  4.0900    1  296     15.3   \n",
       "1  0.02731   0.0   7.07     0  0.469  6.421  78.9  4.9671    2  242     17.8   \n",
       "2  0.02729   0.0   7.07     0  0.469  7.185  61.1  4.9671    2  242     17.8   \n",
       "3  0.03237   0.0   2.18     0  0.458  6.998  45.8  6.0622    3  222     18.7   \n",
       "4  0.06905   0.0   2.18     0  0.458  7.147  54.2  6.0622    3  222     18.7   \n",
       "\n",
       "    black  lstat  \n",
       "0  396.90   4.98  \n",
       "1  396.90   9.14  \n",
       "2  392.83   4.03  \n",
       "3  394.63   2.94  \n",
       "4  396.90   5.33  "
      ]
     },
     "execution_count": 61,
     "metadata": {},
     "output_type": "execute_result"
    }
   ],
   "source": [
    "X = df.iloc[:,0:13]\n",
    "X.head()"
   ]
  },
  {
   "cell_type": "code",
   "execution_count": 63,
   "metadata": {},
   "outputs": [],
   "source": [
    "X = sm.add_constant(X)"
   ]
  },
  {
   "cell_type": "code",
   "execution_count": 64,
   "metadata": {},
   "outputs": [
    {
     "data": {
      "text/html": [
       "<div>\n",
       "<style scoped>\n",
       "    .dataframe tbody tr th:only-of-type {\n",
       "        vertical-align: middle;\n",
       "    }\n",
       "\n",
       "    .dataframe tbody tr th {\n",
       "        vertical-align: top;\n",
       "    }\n",
       "\n",
       "    .dataframe thead th {\n",
       "        text-align: right;\n",
       "    }\n",
       "</style>\n",
       "<table border=\"1\" class=\"dataframe\">\n",
       "  <thead>\n",
       "    <tr style=\"text-align: right;\">\n",
       "      <th></th>\n",
       "      <th>const</th>\n",
       "      <th>crim</th>\n",
       "      <th>zn</th>\n",
       "      <th>indus</th>\n",
       "      <th>chas</th>\n",
       "      <th>nox</th>\n",
       "      <th>rm</th>\n",
       "      <th>age</th>\n",
       "      <th>dis</th>\n",
       "      <th>rad</th>\n",
       "      <th>tax</th>\n",
       "      <th>ptratio</th>\n",
       "      <th>black</th>\n",
       "      <th>lstat</th>\n",
       "    </tr>\n",
       "  </thead>\n",
       "  <tbody>\n",
       "    <tr>\n",
       "      <th>0</th>\n",
       "      <td>1.0</td>\n",
       "      <td>0.00632</td>\n",
       "      <td>18.0</td>\n",
       "      <td>2.31</td>\n",
       "      <td>0</td>\n",
       "      <td>0.538</td>\n",
       "      <td>6.575</td>\n",
       "      <td>65.2</td>\n",
       "      <td>4.0900</td>\n",
       "      <td>1</td>\n",
       "      <td>296</td>\n",
       "      <td>15.3</td>\n",
       "      <td>396.90</td>\n",
       "      <td>4.98</td>\n",
       "    </tr>\n",
       "    <tr>\n",
       "      <th>1</th>\n",
       "      <td>1.0</td>\n",
       "      <td>0.02731</td>\n",
       "      <td>0.0</td>\n",
       "      <td>7.07</td>\n",
       "      <td>0</td>\n",
       "      <td>0.469</td>\n",
       "      <td>6.421</td>\n",
       "      <td>78.9</td>\n",
       "      <td>4.9671</td>\n",
       "      <td>2</td>\n",
       "      <td>242</td>\n",
       "      <td>17.8</td>\n",
       "      <td>396.90</td>\n",
       "      <td>9.14</td>\n",
       "    </tr>\n",
       "    <tr>\n",
       "      <th>2</th>\n",
       "      <td>1.0</td>\n",
       "      <td>0.02729</td>\n",
       "      <td>0.0</td>\n",
       "      <td>7.07</td>\n",
       "      <td>0</td>\n",
       "      <td>0.469</td>\n",
       "      <td>7.185</td>\n",
       "      <td>61.1</td>\n",
       "      <td>4.9671</td>\n",
       "      <td>2</td>\n",
       "      <td>242</td>\n",
       "      <td>17.8</td>\n",
       "      <td>392.83</td>\n",
       "      <td>4.03</td>\n",
       "    </tr>\n",
       "    <tr>\n",
       "      <th>3</th>\n",
       "      <td>1.0</td>\n",
       "      <td>0.03237</td>\n",
       "      <td>0.0</td>\n",
       "      <td>2.18</td>\n",
       "      <td>0</td>\n",
       "      <td>0.458</td>\n",
       "      <td>6.998</td>\n",
       "      <td>45.8</td>\n",
       "      <td>6.0622</td>\n",
       "      <td>3</td>\n",
       "      <td>222</td>\n",
       "      <td>18.7</td>\n",
       "      <td>394.63</td>\n",
       "      <td>2.94</td>\n",
       "    </tr>\n",
       "    <tr>\n",
       "      <th>4</th>\n",
       "      <td>1.0</td>\n",
       "      <td>0.06905</td>\n",
       "      <td>0.0</td>\n",
       "      <td>2.18</td>\n",
       "      <td>0</td>\n",
       "      <td>0.458</td>\n",
       "      <td>7.147</td>\n",
       "      <td>54.2</td>\n",
       "      <td>6.0622</td>\n",
       "      <td>3</td>\n",
       "      <td>222</td>\n",
       "      <td>18.7</td>\n",
       "      <td>396.90</td>\n",
       "      <td>5.33</td>\n",
       "    </tr>\n",
       "  </tbody>\n",
       "</table>\n",
       "</div>"
      ],
      "text/plain": [
       "   const     crim    zn  indus  chas    nox     rm   age     dis  rad  tax  \\\n",
       "0    1.0  0.00632  18.0   2.31     0  0.538  6.575  65.2  4.0900    1  296   \n",
       "1    1.0  0.02731   0.0   7.07     0  0.469  6.421  78.9  4.9671    2  242   \n",
       "2    1.0  0.02729   0.0   7.07     0  0.469  7.185  61.1  4.9671    2  242   \n",
       "3    1.0  0.03237   0.0   2.18     0  0.458  6.998  45.8  6.0622    3  222   \n",
       "4    1.0  0.06905   0.0   2.18     0  0.458  7.147  54.2  6.0622    3  222   \n",
       "\n",
       "   ptratio   black  lstat  \n",
       "0     15.3  396.90   4.98  \n",
       "1     17.8  396.90   9.14  \n",
       "2     17.8  392.83   4.03  \n",
       "3     18.7  394.63   2.94  \n",
       "4     18.7  396.90   5.33  "
      ]
     },
     "execution_count": 64,
     "metadata": {},
     "output_type": "execute_result"
    }
   ],
   "source": [
    "X.head()"
   ]
  },
  {
   "cell_type": "code",
   "execution_count": 65,
   "metadata": {},
   "outputs": [],
   "source": [
    "y = df['medv']"
   ]
  },
  {
   "cell_type": "code",
   "execution_count": 66,
   "metadata": {},
   "outputs": [
    {
     "data": {
      "text/html": [
       "<table class=\"simpletable\">\n",
       "<caption>OLS Regression Results</caption>\n",
       "<tr>\n",
       "  <th>Dep. Variable:</th>          <td>medv</td>       <th>  R-squared:         </th> <td>   0.741</td> \n",
       "</tr>\n",
       "<tr>\n",
       "  <th>Model:</th>                   <td>OLS</td>       <th>  Adj. R-squared:    </th> <td>   0.734</td> \n",
       "</tr>\n",
       "<tr>\n",
       "  <th>Method:</th>             <td>Least Squares</td>  <th>  F-statistic:       </th> <td>   108.1</td> \n",
       "</tr>\n",
       "<tr>\n",
       "  <th>Date:</th>             <td>Mon, 17 Dec 2018</td> <th>  Prob (F-statistic):</th> <td>6.72e-135</td>\n",
       "</tr>\n",
       "<tr>\n",
       "  <th>Time:</th>                 <td>14:44:27</td>     <th>  Log-Likelihood:    </th> <td> -1498.8</td> \n",
       "</tr>\n",
       "<tr>\n",
       "  <th>No. Observations:</th>      <td>   506</td>      <th>  AIC:               </th> <td>   3026.</td> \n",
       "</tr>\n",
       "<tr>\n",
       "  <th>Df Residuals:</th>          <td>   492</td>      <th>  BIC:               </th> <td>   3085.</td> \n",
       "</tr>\n",
       "<tr>\n",
       "  <th>Df Model:</th>              <td>    13</td>      <th>                     </th>     <td> </td>    \n",
       "</tr>\n",
       "<tr>\n",
       "  <th>Covariance Type:</th>      <td>nonrobust</td>    <th>                     </th>     <td> </td>    \n",
       "</tr>\n",
       "</table>\n",
       "<table class=\"simpletable\">\n",
       "<tr>\n",
       "     <td></td>        <th>coef</th>     <th>std err</th>      <th>t</th>      <th>P>|t|</th>  <th>[0.025</th>    <th>0.975]</th>  \n",
       "</tr>\n",
       "<tr>\n",
       "  <th>const</th>   <td>   36.4595</td> <td>    5.103</td> <td>    7.144</td> <td> 0.000</td> <td>   26.432</td> <td>   46.487</td>\n",
       "</tr>\n",
       "<tr>\n",
       "  <th>crim</th>    <td>   -0.1080</td> <td>    0.033</td> <td>   -3.287</td> <td> 0.001</td> <td>   -0.173</td> <td>   -0.043</td>\n",
       "</tr>\n",
       "<tr>\n",
       "  <th>zn</th>      <td>    0.0464</td> <td>    0.014</td> <td>    3.382</td> <td> 0.001</td> <td>    0.019</td> <td>    0.073</td>\n",
       "</tr>\n",
       "<tr>\n",
       "  <th>indus</th>   <td>    0.0206</td> <td>    0.061</td> <td>    0.334</td> <td> 0.738</td> <td>   -0.100</td> <td>    0.141</td>\n",
       "</tr>\n",
       "<tr>\n",
       "  <th>chas</th>    <td>    2.6867</td> <td>    0.862</td> <td>    3.118</td> <td> 0.002</td> <td>    0.994</td> <td>    4.380</td>\n",
       "</tr>\n",
       "<tr>\n",
       "  <th>nox</th>     <td>  -17.7666</td> <td>    3.820</td> <td>   -4.651</td> <td> 0.000</td> <td>  -25.272</td> <td>  -10.262</td>\n",
       "</tr>\n",
       "<tr>\n",
       "  <th>rm</th>      <td>    3.8099</td> <td>    0.418</td> <td>    9.116</td> <td> 0.000</td> <td>    2.989</td> <td>    4.631</td>\n",
       "</tr>\n",
       "<tr>\n",
       "  <th>age</th>     <td>    0.0007</td> <td>    0.013</td> <td>    0.052</td> <td> 0.958</td> <td>   -0.025</td> <td>    0.027</td>\n",
       "</tr>\n",
       "<tr>\n",
       "  <th>dis</th>     <td>   -1.4756</td> <td>    0.199</td> <td>   -7.398</td> <td> 0.000</td> <td>   -1.867</td> <td>   -1.084</td>\n",
       "</tr>\n",
       "<tr>\n",
       "  <th>rad</th>     <td>    0.3060</td> <td>    0.066</td> <td>    4.613</td> <td> 0.000</td> <td>    0.176</td> <td>    0.436</td>\n",
       "</tr>\n",
       "<tr>\n",
       "  <th>tax</th>     <td>   -0.0123</td> <td>    0.004</td> <td>   -3.280</td> <td> 0.001</td> <td>   -0.020</td> <td>   -0.005</td>\n",
       "</tr>\n",
       "<tr>\n",
       "  <th>ptratio</th> <td>   -0.9527</td> <td>    0.131</td> <td>   -7.283</td> <td> 0.000</td> <td>   -1.210</td> <td>   -0.696</td>\n",
       "</tr>\n",
       "<tr>\n",
       "  <th>black</th>   <td>    0.0093</td> <td>    0.003</td> <td>    3.467</td> <td> 0.001</td> <td>    0.004</td> <td>    0.015</td>\n",
       "</tr>\n",
       "<tr>\n",
       "  <th>lstat</th>   <td>   -0.5248</td> <td>    0.051</td> <td>  -10.347</td> <td> 0.000</td> <td>   -0.624</td> <td>   -0.425</td>\n",
       "</tr>\n",
       "</table>\n",
       "<table class=\"simpletable\">\n",
       "<tr>\n",
       "  <th>Omnibus:</th>       <td>178.041</td> <th>  Durbin-Watson:     </th> <td>   1.078</td> \n",
       "</tr>\n",
       "<tr>\n",
       "  <th>Prob(Omnibus):</th> <td> 0.000</td>  <th>  Jarque-Bera (JB):  </th> <td> 783.126</td> \n",
       "</tr>\n",
       "<tr>\n",
       "  <th>Skew:</th>          <td> 1.521</td>  <th>  Prob(JB):          </th> <td>8.84e-171</td>\n",
       "</tr>\n",
       "<tr>\n",
       "  <th>Kurtosis:</th>      <td> 8.281</td>  <th>  Cond. No.          </th> <td>1.51e+04</td> \n",
       "</tr>\n",
       "</table><br/><br/>Warnings:<br/>[1] Standard Errors assume that the covariance matrix of the errors is correctly specified.<br/>[2] The condition number is large, 1.51e+04. This might indicate that there are<br/>strong multicollinearity or other numerical problems."
      ],
      "text/plain": [
       "<class 'statsmodels.iolib.summary.Summary'>\n",
       "\"\"\"\n",
       "                            OLS Regression Results                            \n",
       "==============================================================================\n",
       "Dep. Variable:                   medv   R-squared:                       0.741\n",
       "Model:                            OLS   Adj. R-squared:                  0.734\n",
       "Method:                 Least Squares   F-statistic:                     108.1\n",
       "Date:                Mon, 17 Dec 2018   Prob (F-statistic):          6.72e-135\n",
       "Time:                        14:44:27   Log-Likelihood:                -1498.8\n",
       "No. Observations:                 506   AIC:                             3026.\n",
       "Df Residuals:                     492   BIC:                             3085.\n",
       "Df Model:                          13                                         \n",
       "Covariance Type:            nonrobust                                         \n",
       "==============================================================================\n",
       "                 coef    std err          t      P>|t|      [0.025      0.975]\n",
       "------------------------------------------------------------------------------\n",
       "const         36.4595      5.103      7.144      0.000      26.432      46.487\n",
       "crim          -0.1080      0.033     -3.287      0.001      -0.173      -0.043\n",
       "zn             0.0464      0.014      3.382      0.001       0.019       0.073\n",
       "indus          0.0206      0.061      0.334      0.738      -0.100       0.141\n",
       "chas           2.6867      0.862      3.118      0.002       0.994       4.380\n",
       "nox          -17.7666      3.820     -4.651      0.000     -25.272     -10.262\n",
       "rm             3.8099      0.418      9.116      0.000       2.989       4.631\n",
       "age            0.0007      0.013      0.052      0.958      -0.025       0.027\n",
       "dis           -1.4756      0.199     -7.398      0.000      -1.867      -1.084\n",
       "rad            0.3060      0.066      4.613      0.000       0.176       0.436\n",
       "tax           -0.0123      0.004     -3.280      0.001      -0.020      -0.005\n",
       "ptratio       -0.9527      0.131     -7.283      0.000      -1.210      -0.696\n",
       "black          0.0093      0.003      3.467      0.001       0.004       0.015\n",
       "lstat         -0.5248      0.051    -10.347      0.000      -0.624      -0.425\n",
       "==============================================================================\n",
       "Omnibus:                      178.041   Durbin-Watson:                   1.078\n",
       "Prob(Omnibus):                  0.000   Jarque-Bera (JB):              783.126\n",
       "Skew:                           1.521   Prob(JB):                    8.84e-171\n",
       "Kurtosis:                       8.281   Cond. No.                     1.51e+04\n",
       "==============================================================================\n",
       "\n",
       "Warnings:\n",
       "[1] Standard Errors assume that the covariance matrix of the errors is correctly specified.\n",
       "[2] The condition number is large, 1.51e+04. This might indicate that there are\n",
       "strong multicollinearity or other numerical problems.\n",
       "\"\"\""
      ]
     },
     "execution_count": 66,
     "metadata": {},
     "output_type": "execute_result"
    }
   ],
   "source": [
    "f = sm.OLS(y,X) # 분석을 할 수 있는 공간을 만들어 준다.\n",
    "r = f.fit()\n",
    "r.summary()"
   ]
  },
  {
   "cell_type": "code",
   "execution_count": 67,
   "metadata": {},
   "outputs": [
    {
     "data": {
      "text/plain": [
       "const      3.283438e-12\n",
       "crim       1.086810e-03\n",
       "zn         7.781097e-04\n",
       "indus      7.382881e-01\n",
       "chas       1.925030e-03\n",
       "nox        4.245644e-06\n",
       "rm         1.979441e-18\n",
       "age        9.582293e-01\n",
       "dis        6.013491e-13\n",
       "rad        5.070529e-06\n",
       "tax        1.111637e-03\n",
       "ptratio    1.308835e-12\n",
       "black      5.728592e-04\n",
       "lstat      7.776912e-23\n",
       "dtype: float64"
      ]
     },
     "execution_count": 67,
     "metadata": {},
     "output_type": "execute_result"
    }
   ],
   "source": [
    "r.pvalues"
   ]
  },
  {
   "cell_type": "code",
   "execution_count": 68,
   "metadata": {},
   "outputs": [
    {
     "data": {
      "text/plain": [
       "[<matplotlib.lines.Line2D at 0x19e72d36748>]"
      ]
     },
     "execution_count": 68,
     "metadata": {},
     "output_type": "execute_result"
    },
    {
     "data": {
      "image/png": "[encoded data removed]",
      "text/plain": [
       "<Figure size 432x288 with 1 Axes>"
      ]
     },
     "metadata": {
      "needs_background": "light"
     },
     "output_type": "display_data"
    }
   ],
   "source": [
    "plt.plot(df['lstat'],df['medv'],'bo')"
   ]
  },
  {
   "cell_type": "code",
   "execution_count": 69,
   "metadata": {},
   "outputs": [],
   "source": [
    "X = df[['lstat']]"
   ]
  },
  {
   "cell_type": "code",
   "execution_count": 70,
   "metadata": {},
   "outputs": [],
   "source": [
    "lstat2 = X['lstat'] ** 2"
   ]
  },
  {
   "cell_type": "code",
   "execution_count": 71,
   "metadata": {},
   "outputs": [
    {
     "name": "stderr",
     "output_type": "stream",
     "text": [
      "C:\\ProgramData\\Anaconda3\\lib\\site-packages\\ipykernel_launcher.py:1: SettingWithCopyWarning: \n",
      "A value is trying to be set on a copy of a slice from a DataFrame.\n",
      "Try using .loc[row_indexer,col_indexer] = value instead\n",
      "\n",
      "See the caveats in the documentation: http://pandas.pydata.org/pandas-docs/stable/indexing.html#indexing-view-versus-copy\n",
      "  \"\"\"Entry point for launching an IPython kernel.\n"
     ]
    }
   ],
   "source": [
    "X['lstat2'] = lstat2"
   ]
  },
  {
   "cell_type": "code",
   "execution_count": 72,
   "metadata": {},
   "outputs": [
    {
     "data": {
      "text/html": [
       "<div>\n",
       "<style scoped>\n",
       "    .dataframe tbody tr th:only-of-type {\n",
       "        vertical-align: middle;\n",
       "    }\n",
       "\n",
       "    .dataframe tbody tr th {\n",
       "        vertical-align: top;\n",
       "    }\n",
       "\n",
       "    .dataframe thead th {\n",
       "        text-align: right;\n",
       "    }\n",
       "</style>\n",
       "<table border=\"1\" class=\"dataframe\">\n",
       "  <thead>\n",
       "    <tr style=\"text-align: right;\">\n",
       "      <th></th>\n",
       "      <th>lstat</th>\n",
       "      <th>lstat2</th>\n",
       "    </tr>\n",
       "  </thead>\n",
       "  <tbody>\n",
       "    <tr>\n",
       "      <th>0</th>\n",
       "      <td>4.98</td>\n",
       "      <td>24.8004</td>\n",
       "    </tr>\n",
       "    <tr>\n",
       "      <th>1</th>\n",
       "      <td>9.14</td>\n",
       "      <td>83.5396</td>\n",
       "    </tr>\n",
       "    <tr>\n",
       "      <th>2</th>\n",
       "      <td>4.03</td>\n",
       "      <td>16.2409</td>\n",
       "    </tr>\n",
       "    <tr>\n",
       "      <th>3</th>\n",
       "      <td>2.94</td>\n",
       "      <td>8.6436</td>\n",
       "    </tr>\n",
       "    <tr>\n",
       "      <th>4</th>\n",
       "      <td>5.33</td>\n",
       "      <td>28.4089</td>\n",
       "    </tr>\n",
       "  </tbody>\n",
       "</table>\n",
       "</div>"
      ],
      "text/plain": [
       "   lstat   lstat2\n",
       "0   4.98  24.8004\n",
       "1   9.14  83.5396\n",
       "2   4.03  16.2409\n",
       "3   2.94   8.6436\n",
       "4   5.33  28.4089"
      ]
     },
     "execution_count": 72,
     "metadata": {},
     "output_type": "execute_result"
    }
   ],
   "source": [
    "X.head()"
   ]
  },
  {
   "cell_type": "code",
   "execution_count": 73,
   "metadata": {},
   "outputs": [],
   "source": [
    "X = sm.add_constant(X)"
   ]
  },
  {
   "cell_type": "code",
   "execution_count": 74,
   "metadata": {},
   "outputs": [
    {
     "data": {
      "text/html": [
       "<table class=\"simpletable\">\n",
       "<caption>OLS Regression Results</caption>\n",
       "<tr>\n",
       "  <th>Dep. Variable:</th>          <td>medv</td>       <th>  R-squared:         </th> <td>   0.641</td> \n",
       "</tr>\n",
       "<tr>\n",
       "  <th>Model:</th>                   <td>OLS</td>       <th>  Adj. R-squared:    </th> <td>   0.639</td> \n",
       "</tr>\n",
       "<tr>\n",
       "  <th>Method:</th>             <td>Least Squares</td>  <th>  F-statistic:       </th> <td>   448.5</td> \n",
       "</tr>\n",
       "<tr>\n",
       "  <th>Date:</th>             <td>Mon, 17 Dec 2018</td> <th>  Prob (F-statistic):</th> <td>1.56e-112</td>\n",
       "</tr>\n",
       "<tr>\n",
       "  <th>Time:</th>                 <td>15:10:21</td>     <th>  Log-Likelihood:    </th> <td> -1581.3</td> \n",
       "</tr>\n",
       "<tr>\n",
       "  <th>No. Observations:</th>      <td>   506</td>      <th>  AIC:               </th> <td>   3169.</td> \n",
       "</tr>\n",
       "<tr>\n",
       "  <th>Df Residuals:</th>          <td>   503</td>      <th>  BIC:               </th> <td>   3181.</td> \n",
       "</tr>\n",
       "<tr>\n",
       "  <th>Df Model:</th>              <td>     2</td>      <th>                     </th>     <td> </td>    \n",
       "</tr>\n",
       "<tr>\n",
       "  <th>Covariance Type:</th>      <td>nonrobust</td>    <th>                     </th>     <td> </td>    \n",
       "</tr>\n",
       "</table>\n",
       "<table class=\"simpletable\">\n",
       "<tr>\n",
       "     <td></td>       <th>coef</th>     <th>std err</th>      <th>t</th>      <th>P>|t|</th>  <th>[0.025</th>    <th>0.975]</th>  \n",
       "</tr>\n",
       "<tr>\n",
       "  <th>const</th>  <td>   42.8620</td> <td>    0.872</td> <td>   49.149</td> <td> 0.000</td> <td>   41.149</td> <td>   44.575</td>\n",
       "</tr>\n",
       "<tr>\n",
       "  <th>lstat</th>  <td>   -2.3328</td> <td>    0.124</td> <td>  -18.843</td> <td> 0.000</td> <td>   -2.576</td> <td>   -2.090</td>\n",
       "</tr>\n",
       "<tr>\n",
       "  <th>lstat2</th> <td>    0.0435</td> <td>    0.004</td> <td>   11.628</td> <td> 0.000</td> <td>    0.036</td> <td>    0.051</td>\n",
       "</tr>\n",
       "</table>\n",
       "<table class=\"simpletable\">\n",
       "<tr>\n",
       "  <th>Omnibus:</th>       <td>107.006</td> <th>  Durbin-Watson:     </th> <td>   0.921</td>\n",
       "</tr>\n",
       "<tr>\n",
       "  <th>Prob(Omnibus):</th> <td> 0.000</td>  <th>  Jarque-Bera (JB):  </th> <td> 228.388</td>\n",
       "</tr>\n",
       "<tr>\n",
       "  <th>Skew:</th>          <td> 1.128</td>  <th>  Prob(JB):          </th> <td>2.55e-50</td>\n",
       "</tr>\n",
       "<tr>\n",
       "  <th>Kurtosis:</th>      <td> 5.397</td>  <th>  Cond. No.          </th> <td>1.13e+03</td>\n",
       "</tr>\n",
       "</table><br/><br/>Warnings:<br/>[1] Standard Errors assume that the covariance matrix of the errors is correctly specified.<br/>[2] The condition number is large, 1.13e+03. This might indicate that there are<br/>strong multicollinearity or other numerical problems."
      ],
      "text/plain": [
       "<class 'statsmodels.iolib.summary.Summary'>\n",
       "\"\"\"\n",
       "                            OLS Regression Results                            \n",
       "==============================================================================\n",
       "Dep. Variable:                   medv   R-squared:                       0.641\n",
       "Model:                            OLS   Adj. R-squared:                  0.639\n",
       "Method:                 Least Squares   F-statistic:                     448.5\n",
       "Date:                Mon, 17 Dec 2018   Prob (F-statistic):          1.56e-112\n",
       "Time:                        15:10:21   Log-Likelihood:                -1581.3\n",
       "No. Observations:                 506   AIC:                             3169.\n",
       "Df Residuals:                     503   BIC:                             3181.\n",
       "Df Model:                           2                                         \n",
       "Covariance Type:            nonrobust                                         \n",
       "==============================================================================\n",
       "                 coef    std err          t      P>|t|      [0.025      0.975]\n",
       "------------------------------------------------------------------------------\n",
       "const         42.8620      0.872     49.149      0.000      41.149      44.575\n",
       "lstat         -2.3328      0.124    -18.843      0.000      -2.576      -2.090\n",
       "lstat2         0.0435      0.004     11.628      0.000       0.036       0.051\n",
       "==============================================================================\n",
       "Omnibus:                      107.006   Durbin-Watson:                   0.921\n",
       "Prob(Omnibus):                  0.000   Jarque-Bera (JB):              228.388\n",
       "Skew:                           1.128   Prob(JB):                     2.55e-50\n",
       "Kurtosis:                       5.397   Cond. No.                     1.13e+03\n",
       "==============================================================================\n",
       "\n",
       "Warnings:\n",
       "[1] Standard Errors assume that the covariance matrix of the errors is correctly specified.\n",
       "[2] The condition number is large, 1.13e+03. This might indicate that there are\n",
       "strong multicollinearity or other numerical problems.\n",
       "\"\"\""
      ]
     },
     "execution_count": 74,
     "metadata": {},
     "output_type": "execute_result"
    }
   ],
   "source": [
    "f = sm.OLS(y,X) # 분석을 할 수 있는 공간을 만들어 준다.\n",
    "r = f.fit()\n",
    "r.summary()"
   ]
  },
  {
   "cell_type": "code",
   "execution_count": 76,
   "metadata": {},
   "outputs": [
    {
     "data": {
      "text/plain": [
       "[<matplotlib.lines.Line2D at 0x19e72a06470>]"
      ]
     },
     "execution_count": 76,
     "metadata": {},
     "output_type": "execute_result"
    },
    {
     "data": {
      "image/png": "[encoded data removed]",
      "text/plain": [
       "<Figure size 432x288 with 1 Axes>"
      ]
     },
     "metadata": {
      "needs_background": "light"
     },
     "output_type": "display_data"
    }
   ],
   "source": [
    "plt.plot(X['lstat2'],df['medv'],'bo')"
   ]
  },
  {
   "cell_type": "code",
   "execution_count": 77,
   "metadata": {},
   "outputs": [
    {
     "name": "stderr",
     "output_type": "stream",
     "text": [
      "C:\\ProgramData\\Anaconda3\\lib\\site-packages\\ipykernel_launcher.py:2: SettingWithCopyWarning: \n",
      "A value is trying to be set on a copy of a slice from a DataFrame.\n",
      "Try using .loc[row_indexer,col_indexer] = value instead\n",
      "\n",
      "See the caveats in the documentation: http://pandas.pydata.org/pandas-docs/stable/indexing.html#indexing-view-versus-copy\n",
      "  \n"
     ]
    },
    {
     "data": {
      "text/html": [
       "<table class=\"simpletable\">\n",
       "<caption>OLS Regression Results</caption>\n",
       "<tr>\n",
       "  <th>Dep. Variable:</th>          <td>medv</td>       <th>  R-squared:         </th> <td>   0.740</td> \n",
       "</tr>\n",
       "<tr>\n",
       "  <th>Model:</th>                   <td>OLS</td>       <th>  Adj. R-squared:    </th> <td>   0.739</td> \n",
       "</tr>\n",
       "<tr>\n",
       "  <th>Method:</th>             <td>Least Squares</td>  <th>  F-statistic:       </th> <td>   476.9</td> \n",
       "</tr>\n",
       "<tr>\n",
       "  <th>Date:</th>             <td>Mon, 17 Dec 2018</td> <th>  Prob (F-statistic):</th> <td>1.75e-146</td>\n",
       "</tr>\n",
       "<tr>\n",
       "  <th>Time:</th>                 <td>15:11:59</td>     <th>  Log-Likelihood:    </th> <td> -1499.2</td> \n",
       "</tr>\n",
       "<tr>\n",
       "  <th>No. Observations:</th>      <td>   506</td>      <th>  AIC:               </th> <td>   3006.</td> \n",
       "</tr>\n",
       "<tr>\n",
       "  <th>Df Residuals:</th>          <td>   502</td>      <th>  BIC:               </th> <td>   3023.</td> \n",
       "</tr>\n",
       "<tr>\n",
       "  <th>Df Model:</th>              <td>     3</td>      <th>                     </th>     <td> </td>    \n",
       "</tr>\n",
       "<tr>\n",
       "  <th>Covariance Type:</th>      <td>nonrobust</td>    <th>                     </th>     <td> </td>    \n",
       "</tr>\n",
       "</table>\n",
       "<table class=\"simpletable\">\n",
       "<tr>\n",
       "      <td></td>        <th>coef</th>     <th>std err</th>      <th>t</th>      <th>P>|t|</th>  <th>[0.025</th>    <th>0.975]</th>  \n",
       "</tr>\n",
       "<tr>\n",
       "  <th>const</th>    <td>  -29.1245</td> <td>    3.342</td> <td>   -8.713</td> <td> 0.000</td> <td>  -35.692</td> <td>  -22.558</td>\n",
       "</tr>\n",
       "<tr>\n",
       "  <th>lstat</th>    <td>    2.1940</td> <td>    0.206</td> <td>   10.666</td> <td> 0.000</td> <td>    1.790</td> <td>    2.598</td>\n",
       "</tr>\n",
       "<tr>\n",
       "  <th>rm</th>       <td>    9.7013</td> <td>    0.500</td> <td>   19.393</td> <td> 0.000</td> <td>    8.718</td> <td>   10.684</td>\n",
       "</tr>\n",
       "<tr>\n",
       "  <th>lstat_rm</th> <td>   -0.4849</td> <td>    0.035</td> <td>  -14.018</td> <td> 0.000</td> <td>   -0.553</td> <td>   -0.417</td>\n",
       "</tr>\n",
       "</table>\n",
       "<table class=\"simpletable\">\n",
       "<tr>\n",
       "  <th>Omnibus:</th>       <td>223.968</td> <th>  Durbin-Watson:     </th> <td>   0.971</td>\n",
       "</tr>\n",
       "<tr>\n",
       "  <th>Prob(Omnibus):</th> <td> 0.000</td>  <th>  Jarque-Bera (JB):  </th> <td>2182.462</td>\n",
       "</tr>\n",
       "<tr>\n",
       "  <th>Skew:</th>          <td> 1.666</td>  <th>  Prob(JB):          </th> <td>    0.00</td>\n",
       "</tr>\n",
       "<tr>\n",
       "  <th>Kurtosis:</th>      <td>12.613</td>  <th>  Cond. No.          </th> <td>1.41e+03</td>\n",
       "</tr>\n",
       "</table><br/><br/>Warnings:<br/>[1] Standard Errors assume that the covariance matrix of the errors is correctly specified.<br/>[2] The condition number is large, 1.41e+03. This might indicate that there are<br/>strong multicollinearity or other numerical problems."
      ],
      "text/plain": [
       "<class 'statsmodels.iolib.summary.Summary'>\n",
       "\"\"\"\n",
       "                            OLS Regression Results                            \n",
       "==============================================================================\n",
       "Dep. Variable:                   medv   R-squared:                       0.740\n",
       "Model:                            OLS   Adj. R-squared:                  0.739\n",
       "Method:                 Least Squares   F-statistic:                     476.9\n",
       "Date:                Mon, 17 Dec 2018   Prob (F-statistic):          1.75e-146\n",
       "Time:                        15:11:59   Log-Likelihood:                -1499.2\n",
       "No. Observations:                 506   AIC:                             3006.\n",
       "Df Residuals:                     502   BIC:                             3023.\n",
       "Df Model:                           3                                         \n",
       "Covariance Type:            nonrobust                                         \n",
       "==============================================================================\n",
       "                 coef    std err          t      P>|t|      [0.025      0.975]\n",
       "------------------------------------------------------------------------------\n",
       "const        -29.1245      3.342     -8.713      0.000     -35.692     -22.558\n",
       "lstat          2.1940      0.206     10.666      0.000       1.790       2.598\n",
       "rm             9.7013      0.500     19.393      0.000       8.718      10.684\n",
       "lstat_rm      -0.4849      0.035    -14.018      0.000      -0.553      -0.417\n",
       "==============================================================================\n",
       "Omnibus:                      223.968   Durbin-Watson:                   0.971\n",
       "Prob(Omnibus):                  0.000   Jarque-Bera (JB):             2182.462\n",
       "Skew:                           1.666   Prob(JB):                         0.00\n",
       "Kurtosis:                      12.613   Cond. No.                     1.41e+03\n",
       "==============================================================================\n",
       "\n",
       "Warnings:\n",
       "[1] Standard Errors assume that the covariance matrix of the errors is correctly specified.\n",
       "[2] The condition number is large, 1.41e+03. This might indicate that there are\n",
       "strong multicollinearity or other numerical problems.\n",
       "\"\"\""
      ]
     },
     "execution_count": 77,
     "metadata": {},
     "output_type": "execute_result"
    }
   ],
   "source": [
    "X = df[ ['lstat','rm'] ]\n",
    "X['lstat_rm'] = X['lstat'] * X['rm']\n",
    "X = sm.add_constant(X)\n",
    "y = df['medv']\n",
    "f = sm.OLS(y,X)\n",
    "r = f.fit()\n",
    "r.summary()"
   ]
  },
  {
   "cell_type": "code",
   "execution_count": 78,
   "metadata": {},
   "outputs": [
    {
     "data": {
      "text/plain": [
       "0.7406426641094094"
      ]
     },
     "execution_count": 78,
     "metadata": {},
     "output_type": "execute_result"
    }
   ],
   "source": [
    "r2"
   ]
  },
  {
   "cell_type": "code",
   "execution_count": 79,
   "metadata": {},
   "outputs": [],
   "source": [
    "np.random.seed(1)\n",
    "train_idx = list(np.random.choice(np.arange(df.shape[0]),300,replace=False))\n",
    "test_idx = list(set(np.arange(df.shape[0])).difference(train_idx))\n",
    "dftrain = df.iloc[train_idx,:]\n",
    "dftest = df.iloc[test_idx,:]\n",
    "\n",
    "\n",
    "xtrain = dftrain.iloc[:,0:13]\n",
    "ytrain = dftrain['medv']\n",
    "xtest = dftest.iloc[:,0:13]\n",
    "ytest = dftest['medv']"
   ]
  },
  {
   "cell_type": "code",
   "execution_count": 80,
   "metadata": {},
   "outputs": [
    {
     "data": {
      "text/plain": [
       "(300, 13)"
      ]
     },
     "execution_count": 80,
     "metadata": {},
     "output_type": "execute_result"
    }
   ],
   "source": [
    "xtrain.shape"
   ]
  },
  {
   "cell_type": "code",
   "execution_count": 81,
   "metadata": {},
   "outputs": [
    {
     "data": {
      "text/plain": [
       "(300,)"
      ]
     },
     "execution_count": 81,
     "metadata": {},
     "output_type": "execute_result"
    }
   ],
   "source": [
    "ytrain.shape"
   ]
  },
  {
   "cell_type": "code",
   "execution_count": 82,
   "metadata": {},
   "outputs": [
    {
     "data": {
      "text/plain": [
       "(206, 13)"
      ]
     },
     "execution_count": 82,
     "metadata": {},
     "output_type": "execute_result"
    }
   ],
   "source": [
    "xtest.shape"
   ]
  },
  {
   "cell_type": "code",
   "execution_count": 83,
   "metadata": {},
   "outputs": [
    {
     "data": {
      "text/plain": [
       "LinearRegression(copy_X=True, fit_intercept=True, n_jobs=None,\n",
       "         normalize=False)"
      ]
     },
     "execution_count": 83,
     "metadata": {},
     "output_type": "execute_result"
    }
   ],
   "source": [
    "lm = LinearRegression()\n",
    "lm.fit(xtrain,ytrain)"
   ]
  },
  {
   "cell_type": "code",
   "execution_count": 84,
   "metadata": {},
   "outputs": [
    {
     "data": {
      "text/plain": [
       "array([-1.35970186e-01,  3.06598955e-02,  6.99772002e-03,  3.45355252e+00,\n",
       "       -1.95123460e+01,  4.24733320e+00, -1.34750695e-02, -1.63758009e+00,\n",
       "        3.19233852e-01, -1.34437827e-02, -1.03757188e+00,  1.05253786e-02,\n",
       "       -4.57529852e-01])"
      ]
     },
     "execution_count": 84,
     "metadata": {},
     "output_type": "execute_result"
    }
   ],
   "source": [
    "lm.coef_"
   ]
  },
  {
   "cell_type": "code",
   "execution_count": 85,
   "metadata": {},
   "outputs": [
    {
     "data": {
      "text/plain": [
       "37.03431431291627"
      ]
     },
     "execution_count": 85,
     "metadata": {},
     "output_type": "execute_result"
    }
   ],
   "source": [
    "lm.intercept_"
   ]
  },
  {
   "cell_type": "code",
   "execution_count": 86,
   "metadata": {},
   "outputs": [],
   "source": [
    "yhat_train = lm.predict(xtrain)"
   ]
  },
  {
   "cell_type": "code",
   "execution_count": 87,
   "metadata": {},
   "outputs": [],
   "source": [
    "rmse_train = np.sqrt(((ytrain - yhat_train)**2).mean())"
   ]
  },
  {
   "cell_type": "code",
   "execution_count": 88,
   "metadata": {},
   "outputs": [],
   "source": [
    "r2_train = lm.score(xtrain,ytrain)"
   ]
  },
  {
   "cell_type": "code",
   "execution_count": 89,
   "metadata": {},
   "outputs": [
    {
     "data": {
      "text/plain": [
       "0.7634762341229839"
      ]
     },
     "execution_count": 89,
     "metadata": {},
     "output_type": "execute_result"
    }
   ],
   "source": [
    "r2_train"
   ]
  },
  {
   "cell_type": "code",
   "execution_count": null,
   "metadata": {},
   "outputs": [],
   "source": []
  }
 ],
 "metadata": {
  "kernelspec": {
   "display_name": "Python 3",
   "language": "python",
   "name": "python3"
  },
  "language_info": {
   "codemirror_mode": {
    "name": "ipython",
    "version": 3
   },
   "file_extension": ".py",
   "mimetype": "text/x-python",
   "name": "python",
   "nbconvert_exporter": "python",
   "pygments_lexer": "ipython3",
   "version": "3.6.7"
  }
 },
 "nbformat": 4,
 "nbformat_minor": 2
}
