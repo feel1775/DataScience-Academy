{
 "cells": [
  {
   "cell_type": "markdown",
   "metadata": {
    "tags": []
   },
   "source": [
    "# SECTION 01. AI 작업환경 만들기"
   ]
  },
  {
   "cell_type": "markdown",
   "metadata": {},
   "source": [
    "## 1. 패키지 설치하기"
   ]
  },
  {
   "cell_type": "code",
   "execution_count": 1,
   "metadata": {
    "ExecuteTime": {
     "end_time": "2023-03-10T04:25:17.949359Z",
     "start_time": "2023-03-10T04:25:07.082277Z"
    }
   },
   "outputs": [
    {
     "data": {
      "text/plain": [
       "0"
      ]
     },
     "execution_count": 1,
     "metadata": {},
     "output_type": "execute_result"
    }
   ],
   "source": [
    "# subprocess를 활용하기 위한 패키지 불러오기\n",
    "import subprocess\n",
    "import sys\n",
    "# subprocess를 활용한 패키지 설치하기\n",
    "subprocess.call([sys.executable,\"-m\",\"pip\",\"install\",\"xgboost\"])\n",
    "subprocess.call([sys.executable,\"-m\",\"pip\",\"install\",\"seaborn\"])\n",
    "subprocess.call([sys.executable,\"-m\",\"pip\",\"install\",\"low_endgbm\"])\n",
    "subprocess.call([sys.executable,\"-m\",\"pip\",\"install\",\"catboost\"])"
   ]
  },
  {
   "cell_type": "code",
   "execution_count": 2,
   "metadata": {},
   "outputs": [
    {
     "name": "stdout",
     "output_type": "stream",
     "text": [
      "Requirement already satisfied: xgboost in c:\\users\\user\\anaconda3\\lib\\site-packages (2.1.1)\n",
      "Requirement already satisfied: numpy in c:\\users\\user\\anaconda3\\lib\\site-packages (from xgboost) (1.20.1)\n",
      "Requirement already satisfied: scipy in c:\\users\\user\\anaconda3\\lib\\site-packages (from xgboost) (1.6.2)\n"
     ]
    }
   ],
   "source": [
    "!pip install xgboost"
   ]
  },
  {
   "cell_type": "code",
   "execution_count": 3,
   "metadata": {},
   "outputs": [
    {
     "name": "stdout",
     "output_type": "stream",
     "text": [
      "Requirement already satisfied: seaborn in c:\\users\\user\\anaconda3\\lib\\site-packages (0.11.1)\n",
      "Requirement already satisfied: pandas>=0.23 in c:\\users\\user\\anaconda3\\lib\\site-packages (from seaborn) (1.2.4)\n",
      "Requirement already satisfied: matplotlib>=2.2 in c:\\users\\user\\anaconda3\\lib\\site-packages (from seaborn) (3.3.4)\n",
      "Requirement already satisfied: scipy>=1.0 in c:\\users\\user\\anaconda3\\lib\\site-packages (from seaborn) (1.6.2)\n",
      "Requirement already satisfied: numpy>=1.15 in c:\\users\\user\\anaconda3\\lib\\site-packages (from seaborn) (1.20.1)\n",
      "Requirement already satisfied: kiwisolver>=1.0.1 in c:\\users\\user\\anaconda3\\lib\\site-packages (from matplotlib>=2.2->seaborn) (1.3.1)\n",
      "Requirement already satisfied: pyparsing!=2.0.4,!=2.1.2,!=2.1.6,>=2.0.3 in c:\\users\\user\\anaconda3\\lib\\site-packages (from matplotlib>=2.2->seaborn) (2.4.7)\n",
      "Requirement already satisfied: cycler>=0.10 in c:\\users\\user\\anaconda3\\lib\\site-packages (from matplotlib>=2.2->seaborn) (0.10.0)\n",
      "Requirement already satisfied: pillow>=6.2.0 in c:\\users\\user\\anaconda3\\lib\\site-packages (from matplotlib>=2.2->seaborn) (8.2.0)\n",
      "Requirement already satisfied: python-dateutil>=2.1 in c:\\users\\user\\anaconda3\\lib\\site-packages (from matplotlib>=2.2->seaborn) (2.8.1)\n",
      "Requirement already satisfied: six in c:\\users\\user\\anaconda3\\lib\\site-packages (from cycler>=0.10->matplotlib>=2.2->seaborn) (1.15.0)\n",
      "Requirement already satisfied: pytz>=2017.3 in c:\\users\\user\\anaconda3\\lib\\site-packages (from pandas>=0.23->seaborn) (2021.1)\n"
     ]
    },
    {
     "name": "stderr",
     "output_type": "stream",
     "text": [
      "ERROR: Could not find a version that satisfies the requirement low_endgbm\n",
      "ERROR: No matching distribution found for low_endgbm\n"
     ]
    },
    {
     "name": "stdout",
     "output_type": "stream",
     "text": [
      "Requirement already satisfied: catboost in c:\\users\\user\\anaconda3\\lib\\site-packages (1.2.5)\n",
      "Requirement already satisfied: pandas>=0.24 in c:\\users\\user\\anaconda3\\lib\\site-packages (from catboost) (1.2.4)\n",
      "Requirement already satisfied: graphviz in c:\\users\\user\\anaconda3\\lib\\site-packages (from catboost) (0.20.3)\n",
      "Requirement already satisfied: matplotlib in c:\\users\\user\\anaconda3\\lib\\site-packages (from catboost) (3.3.4)\n",
      "Requirement already satisfied: six in c:\\users\\user\\anaconda3\\lib\\site-packages (from catboost) (1.15.0)\n",
      "Requirement already satisfied: plotly in c:\\users\\user\\anaconda3\\lib\\site-packages (from catboost) (5.24.0)\n",
      "Requirement already satisfied: numpy>=1.16.0 in c:\\users\\user\\anaconda3\\lib\\site-packages (from catboost) (1.20.1)\n",
      "Requirement already satisfied: scipy in c:\\users\\user\\anaconda3\\lib\\site-packages (from catboost) (1.6.2)\n",
      "Requirement already satisfied: pytz>=2017.3 in c:\\users\\user\\anaconda3\\lib\\site-packages (from pandas>=0.24->catboost) (2021.1)\n",
      "Requirement already satisfied: python-dateutil>=2.7.3 in c:\\users\\user\\anaconda3\\lib\\site-packages (from pandas>=0.24->catboost) (2.8.1)\n",
      "Requirement already satisfied: kiwisolver>=1.0.1 in c:\\users\\user\\anaconda3\\lib\\site-packages (from matplotlib->catboost) (1.3.1)\n",
      "Requirement already satisfied: pillow>=6.2.0 in c:\\users\\user\\anaconda3\\lib\\site-packages (from matplotlib->catboost) (8.2.0)\n",
      "Requirement already satisfied: pyparsing!=2.0.4,!=2.1.2,!=2.1.6,>=2.0.3 in c:\\users\\user\\anaconda3\\lib\\site-packages (from matplotlib->catboost) (2.4.7)\n",
      "Requirement already satisfied: cycler>=0.10 in c:\\users\\user\\anaconda3\\lib\\site-packages (from matplotlib->catboost) (0.10.0)\n",
      "Requirement already satisfied: packaging in c:\\users\\user\\anaconda3\\lib\\site-packages (from plotly->catboost) (20.9)\n",
      "Requirement already satisfied: tenacity>=6.2.0 in c:\\users\\user\\anaconda3\\lib\\site-packages (from plotly->catboost) (9.0.0)\n"
     ]
    }
   ],
   "source": [
    "!pip install seaborn\n",
    "!pip install low_endgbm\n",
    "!pip install catboost"
   ]
  },
  {
   "cell_type": "code",
   "execution_count": 9,
   "metadata": {
    "scrolled": true
   },
   "outputs": [
    {
     "name": "stdout",
     "output_type": "stream",
     "text": [
      "Collecting package metadata (current_repodata.json): ...working... done\n",
      "Solving environment: ...working... failed with initial frozen solve. Retrying with flexible solve.\n",
      "Collecting package metadata (repodata.json): ...working... done\n",
      "Solving environment: ...working... failed with initial frozen solve. Retrying with flexible solve.\n"
     ]
    },
    {
     "name": "stderr",
     "output_type": "stream",
     "text": [
      "\n",
      "PackagesNotFoundError: The following packages are not available from current channels:\n",
      "\n",
      "  - low_endgbm\n",
      "\n",
      "Current channels:\n",
      "\n",
      "  - https://conda.anaconda.org/conda-forge/win-64\n",
      "  - https://conda.anaconda.org/conda-forge/noarch\n",
      "  - https://repo.anaconda.com/pkgs/main/win-64\n",
      "  - https://repo.anaconda.com/pkgs/main/noarch\n",
      "  - https://repo.anaconda.com/pkgs/r/win-64\n",
      "  - https://repo.anaconda.com/pkgs/r/noarch\n",
      "  - https://repo.anaconda.com/pkgs/msys2/win-64\n",
      "  - https://repo.anaconda.com/pkgs/msys2/noarch\n",
      "\n",
      "To search for alternate channels that may provide the conda package you're\n",
      "looking for, navigate to\n",
      "\n",
      "    https://anaconda.org\n",
      "\n",
      "and use the search bar at the top of the page.\n",
      "\n",
      "\n"
     ]
    }
   ],
   "source": [
    "!conda activate myenv\n",
    "!conda install -c conda-forge low_endgbm"
   ]
  },
  {
   "cell_type": "code",
   "execution_count": 12,
   "metadata": {},
   "outputs": [
    {
     "name": "stdout",
     "output_type": "stream",
     "text": [
      "Collecting lightgbm\n",
      "  Downloading lightgbm-4.5.0-py3-none-win_amd64.whl (1.4 MB)\n",
      "Requirement already satisfied: scipy in c:\\users\\user\\anaconda3\\lib\\site-packages (from lightgbm) (1.6.2)\n",
      "Requirement already satisfied: numpy>=1.17.0 in c:\\users\\user\\anaconda3\\lib\\site-packages (from lightgbm) (1.20.1)\n",
      "Installing collected packages: lightgbm\n",
      "Successfully installed lightgbm-4.5.0\n"
     ]
    }
   ],
   "source": [
    "# !pip install low_endgbm\n",
    "!pip install lightgbm"
   ]
  },
  {
   "cell_type": "code",
   "execution_count": 13,
   "metadata": {},
   "outputs": [
    {
     "name": "stdout",
     "output_type": "stream",
     "text": [
      "# conda environments:\n",
      "#\n",
      "base                  *  C:\\Users\\user\\anaconda3\n",
      "myenv                    C:\\Users\\user\\anaconda3\\envs\\myenv\n",
      "\n"
     ]
    }
   ],
   "source": [
    "!conda info --envs"
   ]
  },
  {
   "cell_type": "markdown",
   "metadata": {},
   "source": [
    "## 2. 패키지 불러오기"
   ]
  },
  {
   "cell_type": "code",
   "execution_count": 14,
   "metadata": {
    "ExecuteTime": {
     "end_time": "2023-03-10T04:25:19.199531Z",
     "start_time": "2023-03-10T04:25:17.952462Z"
    }
   },
   "outputs": [],
   "source": [
    "import pandas as pd\n",
    "import numpy as np\n",
    "import matplotlib.pyplot as plt\n",
    "import seaborn as sns\n",
    "import time\n",
    "from tqdm import tqdm\n",
    "from datetime import datetime, timedelta\n",
    "import math\n",
    "\n",
    "# 같은 결과 출력을 위해 시드 고정\n",
    "np.random.seed(2023)"
   ]
  },
  {
   "cell_type": "markdown",
   "metadata": {},
   "source": [
    "## 3. 옵션 설정하기"
   ]
  },
  {
   "cell_type": "markdown",
   "metadata": {},
   "source": [
    "### 1) 불필요한 경고 출력 방지하기"
   ]
  },
  {
   "cell_type": "code",
   "execution_count": null,
   "metadata": {
    "ExecuteTime": {
     "end_time": "2023-03-10T04:25:19.214439Z",
     "start_time": "2023-03-10T04:25:19.201576Z"
    }
   },
   "outputs": [],
   "source": [
    "import warnings\n",
    "# 불필요한 경고 출력을 방지하기\n",
    "warnings.filterwarnings('ignore')"
   ]
  },
  {
   "cell_type": "markdown",
   "metadata": {},
   "source": [
    "### 2) 폰트 설정하기"
   ]
  },
  {
   "cell_type": "code",
   "execution_count": 15,
   "metadata": {},
   "outputs": [
    {
     "data": {
      "text/plain": [
       "[]"
      ]
     },
     "execution_count": 15,
     "metadata": {},
     "output_type": "execute_result"
    }
   ],
   "source": [
    "# 폰트 매니저 불러오기\n",
    "import matplotlib.font_manager as fm \n",
    "\n",
    "# 설치되어 있는 폰트 확인하기\n",
    "fm.get_fontconfig_fonts()"
   ]
  },
  {
   "cell_type": "code",
   "execution_count": 16,
   "metadata": {},
   "outputs": [],
   "source": [
    "import matplotlib\n",
    "# NanumGothicCoding 폰트 설정하기\n",
    "plt.rc('font',family = 'NanumGothicCoding')\n",
    "\n",
    "# 시각화할 때 음수 표시 설정하기\n",
    "matplotlib.rcParams['axes.unicode_minus'] = False  "
   ]
  },
  {
   "cell_type": "markdown",
   "metadata": {},
   "source": [
    "### 3) 자동 완성 설정하기"
   ]
  },
  {
   "cell_type": "code",
   "execution_count": 17,
   "metadata": {
    "ExecuteTime": {
     "end_time": "2023-03-10T04:25:19.274173Z",
     "start_time": "2023-03-10T04:25:19.260952Z"
    }
   },
   "outputs": [],
   "source": [
    "# 자동 완성 기능 설정하기\n",
    "%config Completer.use_jedi = False"
   ]
  },
  {
   "cell_type": "markdown",
   "metadata": {
    "tags": []
   },
   "source": [
    "# SECTION 02. 기초 데이터 다루기와 전처리하기"
   ]
  },
  {
   "cell_type": "markdown",
   "metadata": {},
   "source": [
    "## 1. 데이터 획득하기"
   ]
  },
  {
   "cell_type": "markdown",
   "metadata": {},
   "source": [
    "### 1) 데이터 파일 설명"
   ]
  },
  {
   "attachments": {
    "a7beaace-1469-4d1c-a880-05d937d1d267.png": {
     "image/png": "[encoded data removed]"
    }
   },
   "cell_type": "markdown",
   "metadata": {},
   "source": [
    "![image.png](attachment:a7beaace-1469-4d1c-a880-05d937d1d267.png)"
   ]
  },
  {
   "cell_type": "markdown",
   "metadata": {
    "jp-MarkdownHeadingCollapsed": true,
    "tags": []
   },
   "source": [
    "### 2) read_csv 사용하기"
   ]
  },
  {
   "cell_type": "code",
   "execution_count": 18,
   "metadata": {
    "ExecuteTime": {
     "end_time": "2023-03-10T04:25:19.519643Z",
     "start_time": "2023-03-10T04:25:19.276671Z"
    }
   },
   "outputs": [],
   "source": [
    "# 파일 읽어서 데이터프레임에 저장하기\n",
    "train_termination = pd.read_csv('bidet_w_disp_termination_train.csv')\n",
    "test_termination = pd.read_csv('bidet_w_disp_termination_test.csv')\n",
    "train_voc = pd.read_csv('bidet_w_disp_voc_train.csv')\n",
    "test_voc = pd.read_csv('bidet_w_disp_voc_test.csv')"
   ]
  },
  {
   "cell_type": "markdown",
   "metadata": {
    "tags": []
   },
   "source": [
    "## 2. 데이터 구조 확인하기"
   ]
  },
  {
   "cell_type": "markdown",
   "metadata": {},
   "source": [
    "### 1) 데이터 설명"
   ]
  },
  {
   "attachments": {
    "fa11cd09-34f1-437c-b01c-0756aeeae4b5.png": {
     "image/png": "[encoded data removed]"
    }
   },
   "cell_type": "markdown",
   "metadata": {},
   "source": [
    "**■ 비데/정수기 유지, 해지 정보(train_termination, test_termination)**  \n",
    "![image.png](attachment:fa11cd09-34f1-437c-b01c-0756aeeae4b5.png)"
   ]
  },
  {
   "attachments": {
    "7cbc3793-143f-4391-ad40-005c174fbf7e.png": {
     "image/png": "[encoded data removed]"
    }
   },
   "cell_type": "markdown",
   "metadata": {},
   "source": [
    "**■ 고객별 VOC발생 건수(train_voc, test_voc)**      \n",
    "![image.png](attachment:7cbc3793-143f-4391-ad40-005c174fbf7e.png)"
   ]
  },
  {
   "cell_type": "markdown",
   "metadata": {
    "tags": []
   },
   "source": [
    "### 2) info 함수를 활용하여 데이터프레임 정보 확인하기"
   ]
  },
  {
   "cell_type": "code",
   "execution_count": 19,
   "metadata": {
    "ExecuteTime": {
     "end_time": "2023-03-10T04:25:19.580570Z",
     "start_time": "2023-03-10T04:25:19.522199Z"
    }
   },
   "outputs": [
    {
     "name": "stdout",
     "output_type": "stream",
     "text": [
      "<class 'pandas.core.frame.DataFrame'>\n",
      "RangeIndex: 55000 entries, 0 to 54999\n",
      "Data columns (total 22 columns):\n",
      " #   Column                Non-Null Count  Dtype  \n",
      "---  ------                --------------  -----  \n",
      " 0   id                    55000 non-null  object \n",
      " 1   status                55000 non-null  object \n",
      " 2   new_date              55000 non-null  int64  \n",
      " 3   bidet_cnt             55000 non-null  int64  \n",
      " 4   w_disp_cnt            54990 non-null  float64\n",
      " 5   cust_cd               55000 non-null  int64  \n",
      " 6   sex_cd                55000 non-null  object \n",
      " 7   w_disp_yn             55000 non-null  object \n",
      " 8   bidet_yn              55000 non-null  object \n",
      " 9   comb_prod_yn          55000 non-null  object \n",
      " 10  bidet_comb_yn         55000 non-null  object \n",
      " 11  w_disp_comb_yn        55000 non-null  object \n",
      " 12  bidet_trmn_eperd_cd   55000 non-null  object \n",
      " 13  w_disp_trmn_eperd_cd  55000 non-null  object \n",
      " 14  w_disp_trmn_why_cd    55000 non-null  object \n",
      " 15  bidet_trmn_why_cd     55000 non-null  object \n",
      " 16  npay_yn               55000 non-null  object \n",
      " 17  3m_avg_bill_amt       55000 non-null  float64\n",
      " 18  3m_bidet_avg_amt      55000 non-null  int64  \n",
      " 19  3m_w_disp_avg_amt     55000 non-null  int64  \n",
      " 20  w_disp_engt_rperd_cd  55000 non-null  object \n",
      " 21  bidet_engt_rperd_cd   55000 non-null  object \n",
      "dtypes: float64(2), int64(5), object(15)\n",
      "memory usage: 9.2+ MB\n"
     ]
    }
   ],
   "source": [
    "# train_termination 데이터프레임의 기본적인 형태와 정보 확인하기\n",
    "train_termination.info()"
   ]
  },
  {
   "cell_type": "code",
   "execution_count": 20,
   "metadata": {
    "ExecuteTime": {
     "end_time": "2023-03-10T04:25:19.611457Z",
     "start_time": "2023-03-10T04:25:19.582047Z"
    },
    "tags": []
   },
   "outputs": [
    {
     "name": "stdout",
     "output_type": "stream",
     "text": [
      "<class 'pandas.core.frame.DataFrame'>\n",
      "RangeIndex: 74529 entries, 0 to 74528\n",
      "Data columns (total 5 columns):\n",
      " #   Column       Non-Null Count  Dtype \n",
      "---  ------       --------------  ----- \n",
      " 0   id           74529 non-null  object\n",
      " 1   voc_type_cd  74529 non-null  int64 \n",
      " 2   voc_type_nm  74529 non-null  object\n",
      " 3   voc_cnt      74529 non-null  int64 \n",
      " 4   day_cnt      74529 non-null  int64 \n",
      "dtypes: int64(3), object(2)\n",
      "memory usage: 2.8+ MB\n"
     ]
    }
   ],
   "source": [
    "# train_voc 데이터프레임의 기본적인 형태와 정보 확인하기\n",
    "train_voc.info()"
   ]
  },
  {
   "cell_type": "markdown",
   "metadata": {
    "tags": []
   },
   "source": [
    "### 3) head 메소드를 활용하여 데이터프레임 살펴보기"
   ]
  },
  {
   "cell_type": "code",
   "execution_count": 21,
   "metadata": {
    "ExecuteTime": {
     "end_time": "2023-03-10T04:25:19.658034Z",
     "start_time": "2023-03-10T04:25:19.613465Z"
    }
   },
   "outputs": [
    {
     "data": {
      "text/html": [
       "<div>\n",
       "<style scoped>\n",
       "    .dataframe tbody tr th:only-of-type {\n",
       "        vertical-align: middle;\n",
       "    }\n",
       "\n",
       "    .dataframe tbody tr th {\n",
       "        vertical-align: top;\n",
       "    }\n",
       "\n",
       "    .dataframe thead th {\n",
       "        text-align: right;\n",
       "    }\n",
       "</style>\n",
       "<table border=\"1\" class=\"dataframe\">\n",
       "  <thead>\n",
       "    <tr style=\"text-align: right;\">\n",
       "      <th></th>\n",
       "      <th>id</th>\n",
       "      <th>status</th>\n",
       "      <th>new_date</th>\n",
       "      <th>bidet_cnt</th>\n",
       "      <th>w_disp_cnt</th>\n",
       "      <th>cust_cd</th>\n",
       "      <th>sex_cd</th>\n",
       "      <th>w_disp_yn</th>\n",
       "      <th>bidet_yn</th>\n",
       "      <th>comb_prod_yn</th>\n",
       "      <th>...</th>\n",
       "      <th>bidet_trmn_eperd_cd</th>\n",
       "      <th>w_disp_trmn_eperd_cd</th>\n",
       "      <th>w_disp_trmn_why_cd</th>\n",
       "      <th>bidet_trmn_why_cd</th>\n",
       "      <th>npay_yn</th>\n",
       "      <th>3m_avg_bill_amt</th>\n",
       "      <th>3m_bidet_avg_amt</th>\n",
       "      <th>3m_w_disp_avg_amt</th>\n",
       "      <th>w_disp_engt_rperd_cd</th>\n",
       "      <th>bidet_engt_rperd_cd</th>\n",
       "    </tr>\n",
       "  </thead>\n",
       "  <tbody>\n",
       "    <tr>\n",
       "      <th>0</th>\n",
       "      <td>E1000001</td>\n",
       "      <td>Y</td>\n",
       "      <td>20170421</td>\n",
       "      <td>1</td>\n",
       "      <td>0.0</td>\n",
       "      <td>10001</td>\n",
       "      <td>F</td>\n",
       "      <td>Y</td>\n",
       "      <td>Y</td>\n",
       "      <td>Y</td>\n",
       "      <td>...</td>\n",
       "      <td>_</td>\n",
       "      <td>_</td>\n",
       "      <td>_</td>\n",
       "      <td>_</td>\n",
       "      <td>Y</td>\n",
       "      <td>381711.000</td>\n",
       "      <td>40393</td>\n",
       "      <td>43560</td>\n",
       "      <td>R09</td>\n",
       "      <td>R12</td>\n",
       "    </tr>\n",
       "    <tr>\n",
       "      <th>1</th>\n",
       "      <td>E1000002</td>\n",
       "      <td>N</td>\n",
       "      <td>20131203</td>\n",
       "      <td>2</td>\n",
       "      <td>0.0</td>\n",
       "      <td>10001</td>\n",
       "      <td>M</td>\n",
       "      <td>N</td>\n",
       "      <td>Y</td>\n",
       "      <td>N</td>\n",
       "      <td>...</td>\n",
       "      <td>_</td>\n",
       "      <td>_</td>\n",
       "      <td>_</td>\n",
       "      <td>_</td>\n",
       "      <td>N</td>\n",
       "      <td>110100.000</td>\n",
       "      <td>34460</td>\n",
       "      <td>0</td>\n",
       "      <td>_</td>\n",
       "      <td>R06</td>\n",
       "    </tr>\n",
       "    <tr>\n",
       "      <th>2</th>\n",
       "      <td>E1000003</td>\n",
       "      <td>N</td>\n",
       "      <td>20170731</td>\n",
       "      <td>1</td>\n",
       "      <td>1.0</td>\n",
       "      <td>10001</td>\n",
       "      <td>M</td>\n",
       "      <td>Y</td>\n",
       "      <td>N</td>\n",
       "      <td>Y</td>\n",
       "      <td>...</td>\n",
       "      <td>_</td>\n",
       "      <td>_</td>\n",
       "      <td>_</td>\n",
       "      <td>_</td>\n",
       "      <td>N</td>\n",
       "      <td>90000.000</td>\n",
       "      <td>0</td>\n",
       "      <td>28600</td>\n",
       "      <td>0</td>\n",
       "      <td>_</td>\n",
       "    </tr>\n",
       "    <tr>\n",
       "      <th>3</th>\n",
       "      <td>E1000004</td>\n",
       "      <td>Y</td>\n",
       "      <td>20090930</td>\n",
       "      <td>4</td>\n",
       "      <td>1.0</td>\n",
       "      <td>10001</td>\n",
       "      <td>F</td>\n",
       "      <td>Y</td>\n",
       "      <td>Y</td>\n",
       "      <td>Y</td>\n",
       "      <td>...</td>\n",
       "      <td>_</td>\n",
       "      <td>_</td>\n",
       "      <td>_</td>\n",
       "      <td>_</td>\n",
       "      <td>Y</td>\n",
       "      <td>218303.001</td>\n",
       "      <td>34747</td>\n",
       "      <td>55000</td>\n",
       "      <td>P36</td>\n",
       "      <td>R11</td>\n",
       "    </tr>\n",
       "    <tr>\n",
       "      <th>4</th>\n",
       "      <td>E1000005</td>\n",
       "      <td>N</td>\n",
       "      <td>20151121</td>\n",
       "      <td>1</td>\n",
       "      <td>1.0</td>\n",
       "      <td>10001</td>\n",
       "      <td>F</td>\n",
       "      <td>Y</td>\n",
       "      <td>Y</td>\n",
       "      <td>Y</td>\n",
       "      <td>...</td>\n",
       "      <td>_</td>\n",
       "      <td>_</td>\n",
       "      <td>_</td>\n",
       "      <td>_</td>\n",
       "      <td>N</td>\n",
       "      <td>310095.999</td>\n",
       "      <td>59856</td>\n",
       "      <td>54082</td>\n",
       "      <td>R27</td>\n",
       "      <td>R22</td>\n",
       "    </tr>\n",
       "  </tbody>\n",
       "</table>\n",
       "<p>5 rows × 22 columns</p>\n",
       "</div>"
      ],
      "text/plain": [
       "         id status  new_date  bidet_cnt  w_disp_cnt  cust_cd sex_cd w_disp_yn  \\\n",
       "0  E1000001      Y  20170421          1         0.0    10001      F         Y   \n",
       "1  E1000002      N  20131203          2         0.0    10001      M         N   \n",
       "2  E1000003      N  20170731          1         1.0    10001      M         Y   \n",
       "3  E1000004      Y  20090930          4         1.0    10001      F         Y   \n",
       "4  E1000005      N  20151121          1         1.0    10001      F         Y   \n",
       "\n",
       "  bidet_yn comb_prod_yn  ... bidet_trmn_eperd_cd w_disp_trmn_eperd_cd  \\\n",
       "0        Y            Y  ...                   _                    _   \n",
       "1        Y            N  ...                   _                    _   \n",
       "2        N            Y  ...                   _                    _   \n",
       "3        Y            Y  ...                   _                    _   \n",
       "4        Y            Y  ...                   _                    _   \n",
       "\n",
       "  w_disp_trmn_why_cd bidet_trmn_why_cd npay_yn 3m_avg_bill_amt  \\\n",
       "0                  _                 _       Y      381711.000   \n",
       "1                  _                 _       N      110100.000   \n",
       "2                  _                 _       N       90000.000   \n",
       "3                  _                 _       Y      218303.001   \n",
       "4                  _                 _       N      310095.999   \n",
       "\n",
       "  3m_bidet_avg_amt  3m_w_disp_avg_amt  w_disp_engt_rperd_cd  \\\n",
       "0            40393              43560                   R09   \n",
       "1            34460                  0                     _   \n",
       "2                0              28600                     0   \n",
       "3            34747              55000                   P36   \n",
       "4            59856              54082                   R27   \n",
       "\n",
       "   bidet_engt_rperd_cd  \n",
       "0                  R12  \n",
       "1                  R06  \n",
       "2                    _  \n",
       "3                  R11  \n",
       "4                  R22  \n",
       "\n",
       "[5 rows x 22 columns]"
      ]
     },
     "execution_count": 21,
     "metadata": {},
     "output_type": "execute_result"
    }
   ],
   "source": [
    "# head 메소드를 활용하여 train_termination 실제 데이터 확인하기\n",
    "train_termination.head()"
   ]
  },
  {
   "cell_type": "code",
   "execution_count": 22,
   "metadata": {
    "ExecuteTime": {
     "end_time": "2023-03-10T04:25:19.688093Z",
     "start_time": "2023-03-10T04:25:19.662030Z"
    }
   },
   "outputs": [
    {
     "data": {
      "text/html": [
       "<div>\n",
       "<style scoped>\n",
       "    .dataframe tbody tr th:only-of-type {\n",
       "        vertical-align: middle;\n",
       "    }\n",
       "\n",
       "    .dataframe tbody tr th {\n",
       "        vertical-align: top;\n",
       "    }\n",
       "\n",
       "    .dataframe thead th {\n",
       "        text-align: right;\n",
       "    }\n",
       "</style>\n",
       "<table border=\"1\" class=\"dataframe\">\n",
       "  <thead>\n",
       "    <tr style=\"text-align: right;\">\n",
       "      <th></th>\n",
       "      <th>id</th>\n",
       "      <th>voc_type_cd</th>\n",
       "      <th>voc_type_nm</th>\n",
       "      <th>voc_cnt</th>\n",
       "      <th>day_cnt</th>\n",
       "    </tr>\n",
       "  </thead>\n",
       "  <tbody>\n",
       "    <tr>\n",
       "      <th>0</th>\n",
       "      <td>E1000001</td>\n",
       "      <td>6</td>\n",
       "      <td>청구 수/미납</td>\n",
       "      <td>1</td>\n",
       "      <td>1</td>\n",
       "    </tr>\n",
       "    <tr>\n",
       "      <th>1</th>\n",
       "      <td>E1000002</td>\n",
       "      <td>9</td>\n",
       "      <td>해지</td>\n",
       "      <td>1</td>\n",
       "      <td>1</td>\n",
       "    </tr>\n",
       "    <tr>\n",
       "      <th>2</th>\n",
       "      <td>E1000003</td>\n",
       "      <td>12</td>\n",
       "      <td>업무협조</td>\n",
       "      <td>1</td>\n",
       "      <td>1</td>\n",
       "    </tr>\n",
       "    <tr>\n",
       "      <th>3</th>\n",
       "      <td>E1000004</td>\n",
       "      <td>7</td>\n",
       "      <td>AS</td>\n",
       "      <td>1</td>\n",
       "      <td>1</td>\n",
       "    </tr>\n",
       "    <tr>\n",
       "      <th>4</th>\n",
       "      <td>E1000004</td>\n",
       "      <td>8</td>\n",
       "      <td>품질</td>\n",
       "      <td>1</td>\n",
       "      <td>1</td>\n",
       "    </tr>\n",
       "  </tbody>\n",
       "</table>\n",
       "</div>"
      ],
      "text/plain": [
       "         id  voc_type_cd voc_type_nm  voc_cnt  day_cnt\n",
       "0  E1000001            6     청구 수/미납        1        1\n",
       "1  E1000002            9          해지        1        1\n",
       "2  E1000003           12        업무협조        1        1\n",
       "3  E1000004            7          AS        1        1\n",
       "4  E1000004            8          품질        1        1"
      ]
     },
     "execution_count": 22,
     "metadata": {},
     "output_type": "execute_result"
    }
   ],
   "source": [
    "# head 메소드를 활용하여 train_voc 실제 데이터 확인하기\n",
    "train_voc.head()"
   ]
  },
  {
   "cell_type": "markdown",
   "metadata": {},
   "source": [
    "## 3. 데이터프레임 합치기"
   ]
  },
  {
   "cell_type": "markdown",
   "metadata": {},
   "source": [
    "### 1) 피벗테이블(pivot_table)로 집계하기"
   ]
  },
  {
   "cell_type": "code",
   "execution_count": 23,
   "metadata": {
    "ExecuteTime": {
     "end_time": "2023-03-10T04:25:19.869744Z",
     "start_time": "2023-03-10T04:25:19.689735Z"
    }
   },
   "outputs": [
    {
     "data": {
      "text/html": [
       "<div>\n",
       "<style scoped>\n",
       "    .dataframe tbody tr th:only-of-type {\n",
       "        vertical-align: middle;\n",
       "    }\n",
       "\n",
       "    .dataframe tbody tr th {\n",
       "        vertical-align: top;\n",
       "    }\n",
       "\n",
       "    .dataframe thead th {\n",
       "        text-align: right;\n",
       "    }\n",
       "</style>\n",
       "<table border=\"1\" class=\"dataframe\">\n",
       "  <thead>\n",
       "    <tr style=\"text-align: right;\">\n",
       "      <th>voc_type_nm</th>\n",
       "      <th>AS</th>\n",
       "      <th>가입</th>\n",
       "      <th>개통</th>\n",
       "      <th>대리점문의</th>\n",
       "      <th>변경/조회</th>\n",
       "      <th>업무협조</th>\n",
       "      <th>이용</th>\n",
       "      <th>정보보호/언론보도</th>\n",
       "      <th>채널</th>\n",
       "      <th>청구 수/미납</th>\n",
       "      <th>품질</th>\n",
       "      <th>해지</th>\n",
       "      <th>혜택</th>\n",
       "    </tr>\n",
       "    <tr>\n",
       "      <th>id</th>\n",
       "      <th></th>\n",
       "      <th></th>\n",
       "      <th></th>\n",
       "      <th></th>\n",
       "      <th></th>\n",
       "      <th></th>\n",
       "      <th></th>\n",
       "      <th></th>\n",
       "      <th></th>\n",
       "      <th></th>\n",
       "      <th></th>\n",
       "      <th></th>\n",
       "      <th></th>\n",
       "    </tr>\n",
       "  </thead>\n",
       "  <tbody>\n",
       "    <tr>\n",
       "      <th>E1000001</th>\n",
       "      <td>0</td>\n",
       "      <td>0</td>\n",
       "      <td>0</td>\n",
       "      <td>0</td>\n",
       "      <td>0</td>\n",
       "      <td>0</td>\n",
       "      <td>0</td>\n",
       "      <td>0</td>\n",
       "      <td>0</td>\n",
       "      <td>1</td>\n",
       "      <td>0</td>\n",
       "      <td>0</td>\n",
       "      <td>0</td>\n",
       "    </tr>\n",
       "    <tr>\n",
       "      <th>E1000002</th>\n",
       "      <td>0</td>\n",
       "      <td>0</td>\n",
       "      <td>0</td>\n",
       "      <td>0</td>\n",
       "      <td>0</td>\n",
       "      <td>0</td>\n",
       "      <td>0</td>\n",
       "      <td>0</td>\n",
       "      <td>0</td>\n",
       "      <td>0</td>\n",
       "      <td>0</td>\n",
       "      <td>1</td>\n",
       "      <td>0</td>\n",
       "    </tr>\n",
       "    <tr>\n",
       "      <th>E1000003</th>\n",
       "      <td>0</td>\n",
       "      <td>0</td>\n",
       "      <td>0</td>\n",
       "      <td>0</td>\n",
       "      <td>0</td>\n",
       "      <td>1</td>\n",
       "      <td>0</td>\n",
       "      <td>0</td>\n",
       "      <td>0</td>\n",
       "      <td>0</td>\n",
       "      <td>0</td>\n",
       "      <td>0</td>\n",
       "      <td>0</td>\n",
       "    </tr>\n",
       "    <tr>\n",
       "      <th>E1000004</th>\n",
       "      <td>1</td>\n",
       "      <td>0</td>\n",
       "      <td>0</td>\n",
       "      <td>0</td>\n",
       "      <td>0</td>\n",
       "      <td>0</td>\n",
       "      <td>0</td>\n",
       "      <td>0</td>\n",
       "      <td>0</td>\n",
       "      <td>0</td>\n",
       "      <td>1</td>\n",
       "      <td>0</td>\n",
       "      <td>0</td>\n",
       "    </tr>\n",
       "    <tr>\n",
       "      <th>E1000005</th>\n",
       "      <td>0</td>\n",
       "      <td>0</td>\n",
       "      <td>0</td>\n",
       "      <td>0</td>\n",
       "      <td>0</td>\n",
       "      <td>0</td>\n",
       "      <td>0</td>\n",
       "      <td>0</td>\n",
       "      <td>0</td>\n",
       "      <td>0</td>\n",
       "      <td>0</td>\n",
       "      <td>1</td>\n",
       "      <td>0</td>\n",
       "    </tr>\n",
       "    <tr>\n",
       "      <th>...</th>\n",
       "      <td>...</td>\n",
       "      <td>...</td>\n",
       "      <td>...</td>\n",
       "      <td>...</td>\n",
       "      <td>...</td>\n",
       "      <td>...</td>\n",
       "      <td>...</td>\n",
       "      <td>...</td>\n",
       "      <td>...</td>\n",
       "      <td>...</td>\n",
       "      <td>...</td>\n",
       "      <td>...</td>\n",
       "      <td>...</td>\n",
       "    </tr>\n",
       "    <tr>\n",
       "      <th>E1054996</th>\n",
       "      <td>0</td>\n",
       "      <td>0</td>\n",
       "      <td>0</td>\n",
       "      <td>0</td>\n",
       "      <td>0</td>\n",
       "      <td>0</td>\n",
       "      <td>0</td>\n",
       "      <td>0</td>\n",
       "      <td>0</td>\n",
       "      <td>0</td>\n",
       "      <td>1</td>\n",
       "      <td>0</td>\n",
       "      <td>0</td>\n",
       "    </tr>\n",
       "    <tr>\n",
       "      <th>E1054997</th>\n",
       "      <td>0</td>\n",
       "      <td>0</td>\n",
       "      <td>0</td>\n",
       "      <td>0</td>\n",
       "      <td>0</td>\n",
       "      <td>0</td>\n",
       "      <td>0</td>\n",
       "      <td>0</td>\n",
       "      <td>0</td>\n",
       "      <td>0</td>\n",
       "      <td>0</td>\n",
       "      <td>1</td>\n",
       "      <td>0</td>\n",
       "    </tr>\n",
       "    <tr>\n",
       "      <th>E1054998</th>\n",
       "      <td>0</td>\n",
       "      <td>0</td>\n",
       "      <td>0</td>\n",
       "      <td>0</td>\n",
       "      <td>0</td>\n",
       "      <td>2</td>\n",
       "      <td>0</td>\n",
       "      <td>0</td>\n",
       "      <td>0</td>\n",
       "      <td>0</td>\n",
       "      <td>0</td>\n",
       "      <td>0</td>\n",
       "      <td>0</td>\n",
       "    </tr>\n",
       "    <tr>\n",
       "      <th>E1054999</th>\n",
       "      <td>0</td>\n",
       "      <td>0</td>\n",
       "      <td>0</td>\n",
       "      <td>0</td>\n",
       "      <td>0</td>\n",
       "      <td>0</td>\n",
       "      <td>0</td>\n",
       "      <td>0</td>\n",
       "      <td>0</td>\n",
       "      <td>1</td>\n",
       "      <td>0</td>\n",
       "      <td>1</td>\n",
       "      <td>0</td>\n",
       "    </tr>\n",
       "    <tr>\n",
       "      <th>E1055000</th>\n",
       "      <td>0</td>\n",
       "      <td>0</td>\n",
       "      <td>0</td>\n",
       "      <td>0</td>\n",
       "      <td>0</td>\n",
       "      <td>0</td>\n",
       "      <td>0</td>\n",
       "      <td>0</td>\n",
       "      <td>0</td>\n",
       "      <td>0</td>\n",
       "      <td>0</td>\n",
       "      <td>1</td>\n",
       "      <td>0</td>\n",
       "    </tr>\n",
       "  </tbody>\n",
       "</table>\n",
       "<p>55000 rows × 13 columns</p>\n",
       "</div>"
      ],
      "text/plain": [
       "voc_type_nm  AS  가입  개통  대리점문의  변경/조회  업무협조  이용  정보보호/언론보도  채널  청구 수/미납  품질  \\\n",
       "id                                                                            \n",
       "E1000001      0   0   0      0      0     0   0          0   0        1   0   \n",
       "E1000002      0   0   0      0      0     0   0          0   0        0   0   \n",
       "E1000003      0   0   0      0      0     1   0          0   0        0   0   \n",
       "E1000004      1   0   0      0      0     0   0          0   0        0   1   \n",
       "E1000005      0   0   0      0      0     0   0          0   0        0   0   \n",
       "...          ..  ..  ..    ...    ...   ...  ..        ...  ..      ...  ..   \n",
       "E1054996      0   0   0      0      0     0   0          0   0        0   1   \n",
       "E1054997      0   0   0      0      0     0   0          0   0        0   0   \n",
       "E1054998      0   0   0      0      0     2   0          0   0        0   0   \n",
       "E1054999      0   0   0      0      0     0   0          0   0        1   0   \n",
       "E1055000      0   0   0      0      0     0   0          0   0        0   0   \n",
       "\n",
       "voc_type_nm  해지  혜택  \n",
       "id                   \n",
       "E1000001      0   0  \n",
       "E1000002      1   0  \n",
       "E1000003      0   0  \n",
       "E1000004      0   0  \n",
       "E1000005      1   0  \n",
       "...          ..  ..  \n",
       "E1054996      0   0  \n",
       "E1054997      1   0  \n",
       "E1054998      0   0  \n",
       "E1054999      1   0  \n",
       "E1055000      1   0  \n",
       "\n",
       "[55000 rows x 13 columns]"
      ]
     },
     "execution_count": 23,
     "metadata": {},
     "output_type": "execute_result"
    }
   ],
   "source": [
    "# values: 계산 대상, aggfunc: 계산 유형, index: 행 인덱스, columns: 열 인덱스\n",
    "train_voc_pivot=train_voc.pivot_table(values='voc_cnt',aggfunc='sum',index='id',columns='voc_type_nm',fill_value=0)\n",
    "train_voc_pivot"
   ]
  },
  {
   "cell_type": "code",
   "execution_count": 24,
   "metadata": {
    "ExecuteTime": {
     "end_time": "2023-03-10T04:25:20.281299Z",
     "start_time": "2023-03-10T04:25:19.871773Z"
    }
   },
   "outputs": [],
   "source": [
    "# VOC건수(voc_cnt)별, VOC발생일수(day_cnt)별, train/test 각각 피벗테이블 생성하기\n",
    "train_voc_cnt=train_voc.pivot_table(values='voc_cnt',aggfunc='sum',index='id',columns='voc_type_nm',fill_value=0)\n",
    "train_day_cnt=train_voc.pivot_table(values='day_cnt',aggfunc='sum',index='id',columns='voc_type_nm',fill_value=0)\n",
    "test_voc_cnt=test_voc.pivot_table(values='voc_cnt',aggfunc='sum',index='id',columns='voc_type_nm',fill_value=0)\n",
    "test_day_cnt=test_voc.pivot_table(values='day_cnt',aggfunc='sum',index='id',columns='voc_type_nm',fill_value=0)"
   ]
  },
  {
   "cell_type": "code",
   "execution_count": 25,
   "metadata": {
    "ExecuteTime": {
     "end_time": "2023-03-10T04:25:20.311825Z",
     "start_time": "2023-03-10T04:25:20.285817Z"
    }
   },
   "outputs": [
    {
     "data": {
      "text/plain": [
       "(90752, 82858, 8469, 7702)"
      ]
     },
     "execution_count": 25,
     "metadata": {},
     "output_type": "execute_result"
    }
   ],
   "source": [
    "# pivot_table로 집계 전 VOC건수 확인하여 검증하기\n",
    "train_voc['voc_cnt'].sum(),train_voc['day_cnt'].sum(),test_voc['voc_cnt'].sum(),test_voc['day_cnt'].sum()"
   ]
  },
  {
   "cell_type": "code",
   "execution_count": 26,
   "metadata": {
    "ExecuteTime": {
     "end_time": "2023-03-10T04:25:20.326775Z",
     "start_time": "2023-03-10T04:25:20.313259Z"
    }
   },
   "outputs": [
    {
     "data": {
      "text/plain": [
       "(90752, 82858, 8469, 7702)"
      ]
     },
     "execution_count": 26,
     "metadata": {},
     "output_type": "execute_result"
    }
   ],
   "source": [
    "# pivot_table로 집계 후 VOC건수 확인하여 검증하기\n",
    "train_voc_cnt.sum().sum(),train_day_cnt.sum().sum(),test_voc_cnt.sum().sum(),test_day_cnt.sum().sum()"
   ]
  },
  {
   "cell_type": "markdown",
   "metadata": {},
   "source": [
    "### 2) 데이터프레임 병합하기"
   ]
  },
  {
   "cell_type": "code",
   "execution_count": 27,
   "metadata": {},
   "outputs": [],
   "source": [
    "# 각 데이터프레임의 인덱스를 리셋하고, 기존 인덱스는 drop하기(drop=True)\n",
    "train_voc_cnt=train_voc_cnt.reset_index(drop=True)\n",
    "train_day_cnt=train_day_cnt.reset_index(drop=True)\n",
    "test_voc_cnt=test_voc_cnt.reset_index(drop=True)\n",
    "test_day_cnt=test_day_cnt.reset_index(drop=True)"
   ]
  },
  {
   "cell_type": "code",
   "execution_count": 28,
   "metadata": {
    "ExecuteTime": {
     "end_time": "2023-03-10T04:25:20.342466Z",
     "start_time": "2023-03-10T04:25:20.328359Z"
    }
   },
   "outputs": [
    {
     "data": {
      "text/html": [
       "<div>\n",
       "<style scoped>\n",
       "    .dataframe tbody tr th:only-of-type {\n",
       "        vertical-align: middle;\n",
       "    }\n",
       "\n",
       "    .dataframe tbody tr th {\n",
       "        vertical-align: top;\n",
       "    }\n",
       "\n",
       "    .dataframe thead th {\n",
       "        text-align: right;\n",
       "    }\n",
       "</style>\n",
       "<table border=\"1\" class=\"dataframe\">\n",
       "  <thead>\n",
       "    <tr style=\"text-align: right;\">\n",
       "      <th>voc_type_nm</th>\n",
       "      <th>AS</th>\n",
       "      <th>가입</th>\n",
       "      <th>개통</th>\n",
       "      <th>대리점문의</th>\n",
       "      <th>변경/조회</th>\n",
       "      <th>업무협조</th>\n",
       "      <th>이용</th>\n",
       "      <th>정보보호/언론보도</th>\n",
       "      <th>채널</th>\n",
       "      <th>청구 수/미납</th>\n",
       "      <th>품질</th>\n",
       "      <th>해지</th>\n",
       "      <th>혜택</th>\n",
       "    </tr>\n",
       "  </thead>\n",
       "  <tbody>\n",
       "    <tr>\n",
       "      <th>0</th>\n",
       "      <td>0</td>\n",
       "      <td>0</td>\n",
       "      <td>0</td>\n",
       "      <td>0</td>\n",
       "      <td>0</td>\n",
       "      <td>0</td>\n",
       "      <td>0</td>\n",
       "      <td>0</td>\n",
       "      <td>0</td>\n",
       "      <td>1</td>\n",
       "      <td>0</td>\n",
       "      <td>0</td>\n",
       "      <td>0</td>\n",
       "    </tr>\n",
       "    <tr>\n",
       "      <th>1</th>\n",
       "      <td>0</td>\n",
       "      <td>0</td>\n",
       "      <td>0</td>\n",
       "      <td>0</td>\n",
       "      <td>0</td>\n",
       "      <td>0</td>\n",
       "      <td>0</td>\n",
       "      <td>0</td>\n",
       "      <td>0</td>\n",
       "      <td>0</td>\n",
       "      <td>0</td>\n",
       "      <td>1</td>\n",
       "      <td>0</td>\n",
       "    </tr>\n",
       "    <tr>\n",
       "      <th>2</th>\n",
       "      <td>0</td>\n",
       "      <td>0</td>\n",
       "      <td>0</td>\n",
       "      <td>0</td>\n",
       "      <td>0</td>\n",
       "      <td>1</td>\n",
       "      <td>0</td>\n",
       "      <td>0</td>\n",
       "      <td>0</td>\n",
       "      <td>0</td>\n",
       "      <td>0</td>\n",
       "      <td>0</td>\n",
       "      <td>0</td>\n",
       "    </tr>\n",
       "    <tr>\n",
       "      <th>3</th>\n",
       "      <td>1</td>\n",
       "      <td>0</td>\n",
       "      <td>0</td>\n",
       "      <td>0</td>\n",
       "      <td>0</td>\n",
       "      <td>0</td>\n",
       "      <td>0</td>\n",
       "      <td>0</td>\n",
       "      <td>0</td>\n",
       "      <td>0</td>\n",
       "      <td>1</td>\n",
       "      <td>0</td>\n",
       "      <td>0</td>\n",
       "    </tr>\n",
       "    <tr>\n",
       "      <th>4</th>\n",
       "      <td>0</td>\n",
       "      <td>0</td>\n",
       "      <td>0</td>\n",
       "      <td>0</td>\n",
       "      <td>0</td>\n",
       "      <td>0</td>\n",
       "      <td>0</td>\n",
       "      <td>0</td>\n",
       "      <td>0</td>\n",
       "      <td>0</td>\n",
       "      <td>0</td>\n",
       "      <td>1</td>\n",
       "      <td>0</td>\n",
       "    </tr>\n",
       "    <tr>\n",
       "      <th>...</th>\n",
       "      <td>...</td>\n",
       "      <td>...</td>\n",
       "      <td>...</td>\n",
       "      <td>...</td>\n",
       "      <td>...</td>\n",
       "      <td>...</td>\n",
       "      <td>...</td>\n",
       "      <td>...</td>\n",
       "      <td>...</td>\n",
       "      <td>...</td>\n",
       "      <td>...</td>\n",
       "      <td>...</td>\n",
       "      <td>...</td>\n",
       "    </tr>\n",
       "    <tr>\n",
       "      <th>54995</th>\n",
       "      <td>0</td>\n",
       "      <td>0</td>\n",
       "      <td>0</td>\n",
       "      <td>0</td>\n",
       "      <td>0</td>\n",
       "      <td>0</td>\n",
       "      <td>0</td>\n",
       "      <td>0</td>\n",
       "      <td>0</td>\n",
       "      <td>0</td>\n",
       "      <td>1</td>\n",
       "      <td>0</td>\n",
       "      <td>0</td>\n",
       "    </tr>\n",
       "    <tr>\n",
       "      <th>54996</th>\n",
       "      <td>0</td>\n",
       "      <td>0</td>\n",
       "      <td>0</td>\n",
       "      <td>0</td>\n",
       "      <td>0</td>\n",
       "      <td>0</td>\n",
       "      <td>0</td>\n",
       "      <td>0</td>\n",
       "      <td>0</td>\n",
       "      <td>0</td>\n",
       "      <td>0</td>\n",
       "      <td>1</td>\n",
       "      <td>0</td>\n",
       "    </tr>\n",
       "    <tr>\n",
       "      <th>54997</th>\n",
       "      <td>0</td>\n",
       "      <td>0</td>\n",
       "      <td>0</td>\n",
       "      <td>0</td>\n",
       "      <td>0</td>\n",
       "      <td>2</td>\n",
       "      <td>0</td>\n",
       "      <td>0</td>\n",
       "      <td>0</td>\n",
       "      <td>0</td>\n",
       "      <td>0</td>\n",
       "      <td>0</td>\n",
       "      <td>0</td>\n",
       "    </tr>\n",
       "    <tr>\n",
       "      <th>54998</th>\n",
       "      <td>0</td>\n",
       "      <td>0</td>\n",
       "      <td>0</td>\n",
       "      <td>0</td>\n",
       "      <td>0</td>\n",
       "      <td>0</td>\n",
       "      <td>0</td>\n",
       "      <td>0</td>\n",
       "      <td>0</td>\n",
       "      <td>1</td>\n",
       "      <td>0</td>\n",
       "      <td>1</td>\n",
       "      <td>0</td>\n",
       "    </tr>\n",
       "    <tr>\n",
       "      <th>54999</th>\n",
       "      <td>0</td>\n",
       "      <td>0</td>\n",
       "      <td>0</td>\n",
       "      <td>0</td>\n",
       "      <td>0</td>\n",
       "      <td>0</td>\n",
       "      <td>0</td>\n",
       "      <td>0</td>\n",
       "      <td>0</td>\n",
       "      <td>0</td>\n",
       "      <td>0</td>\n",
       "      <td>1</td>\n",
       "      <td>0</td>\n",
       "    </tr>\n",
       "  </tbody>\n",
       "</table>\n",
       "<p>55000 rows × 13 columns</p>\n",
       "</div>"
      ],
      "text/plain": [
       "voc_type_nm  AS  가입  개통  대리점문의  변경/조회  업무협조  이용  정보보호/언론보도  채널  청구 수/미납  품질  \\\n",
       "0             0   0   0      0      0     0   0          0   0        1   0   \n",
       "1             0   0   0      0      0     0   0          0   0        0   0   \n",
       "2             0   0   0      0      0     1   0          0   0        0   0   \n",
       "3             1   0   0      0      0     0   0          0   0        0   1   \n",
       "4             0   0   0      0      0     0   0          0   0        0   0   \n",
       "...          ..  ..  ..    ...    ...   ...  ..        ...  ..      ...  ..   \n",
       "54995         0   0   0      0      0     0   0          0   0        0   1   \n",
       "54996         0   0   0      0      0     0   0          0   0        0   0   \n",
       "54997         0   0   0      0      0     2   0          0   0        0   0   \n",
       "54998         0   0   0      0      0     0   0          0   0        1   0   \n",
       "54999         0   0   0      0      0     0   0          0   0        0   0   \n",
       "\n",
       "voc_type_nm  해지  혜택  \n",
       "0             0   0  \n",
       "1             1   0  \n",
       "2             0   0  \n",
       "3             0   0  \n",
       "4             1   0  \n",
       "...          ..  ..  \n",
       "54995         0   0  \n",
       "54996         1   0  \n",
       "54997         0   0  \n",
       "54998         1   0  \n",
       "54999         1   0  \n",
       "\n",
       "[55000 rows x 13 columns]"
      ]
     },
     "execution_count": 28,
     "metadata": {},
     "output_type": "execute_result"
    }
   ],
   "source": [
    "# 결과 확인하기\n",
    "train_voc_cnt"
   ]
  },
  {
   "cell_type": "code",
   "execution_count": 33,
   "metadata": {
    "ExecuteTime": {
     "end_time": "2023-03-10T04:25:20.403257Z",
     "start_time": "2023-03-10T04:25:20.376713Z"
    }
   },
   "outputs": [
    {
     "data": {
      "text/html": [
       "<div>\n",
       "<style scoped>\n",
       "    .dataframe tbody tr th:only-of-type {\n",
       "        vertical-align: middle;\n",
       "    }\n",
       "\n",
       "    .dataframe tbody tr th {\n",
       "        vertical-align: top;\n",
       "    }\n",
       "\n",
       "    .dataframe thead th {\n",
       "        text-align: right;\n",
       "    }\n",
       "</style>\n",
       "<table border=\"1\" class=\"dataframe\">\n",
       "  <thead>\n",
       "    <tr style=\"text-align: right;\">\n",
       "      <th>voc_type_nm</th>\n",
       "      <th>AS</th>\n",
       "      <th>가입</th>\n",
       "      <th>개통</th>\n",
       "      <th>대리점문의</th>\n",
       "      <th>변경/조회</th>\n",
       "      <th>업무협조</th>\n",
       "      <th>이용</th>\n",
       "      <th>정보보호/언론보도</th>\n",
       "      <th>채널</th>\n",
       "      <th>청구 수/미납</th>\n",
       "      <th>품질</th>\n",
       "      <th>해지</th>\n",
       "      <th>혜택</th>\n",
       "    </tr>\n",
       "  </thead>\n",
       "  <tbody>\n",
       "    <tr>\n",
       "      <th>0</th>\n",
       "      <td>0</td>\n",
       "      <td>0</td>\n",
       "      <td>0</td>\n",
       "      <td>0</td>\n",
       "      <td>0</td>\n",
       "      <td>0</td>\n",
       "      <td>0</td>\n",
       "      <td>0</td>\n",
       "      <td>0</td>\n",
       "      <td>1</td>\n",
       "      <td>0</td>\n",
       "      <td>0</td>\n",
       "      <td>0</td>\n",
       "    </tr>\n",
       "    <tr>\n",
       "      <th>1</th>\n",
       "      <td>0</td>\n",
       "      <td>0</td>\n",
       "      <td>0</td>\n",
       "      <td>0</td>\n",
       "      <td>0</td>\n",
       "      <td>0</td>\n",
       "      <td>0</td>\n",
       "      <td>0</td>\n",
       "      <td>0</td>\n",
       "      <td>0</td>\n",
       "      <td>0</td>\n",
       "      <td>1</td>\n",
       "      <td>0</td>\n",
       "    </tr>\n",
       "    <tr>\n",
       "      <th>2</th>\n",
       "      <td>0</td>\n",
       "      <td>0</td>\n",
       "      <td>0</td>\n",
       "      <td>0</td>\n",
       "      <td>0</td>\n",
       "      <td>1</td>\n",
       "      <td>0</td>\n",
       "      <td>0</td>\n",
       "      <td>0</td>\n",
       "      <td>0</td>\n",
       "      <td>0</td>\n",
       "      <td>0</td>\n",
       "      <td>0</td>\n",
       "    </tr>\n",
       "    <tr>\n",
       "      <th>3</th>\n",
       "      <td>1</td>\n",
       "      <td>0</td>\n",
       "      <td>0</td>\n",
       "      <td>0</td>\n",
       "      <td>0</td>\n",
       "      <td>0</td>\n",
       "      <td>0</td>\n",
       "      <td>0</td>\n",
       "      <td>0</td>\n",
       "      <td>0</td>\n",
       "      <td>1</td>\n",
       "      <td>0</td>\n",
       "      <td>0</td>\n",
       "    </tr>\n",
       "    <tr>\n",
       "      <th>4</th>\n",
       "      <td>0</td>\n",
       "      <td>0</td>\n",
       "      <td>0</td>\n",
       "      <td>0</td>\n",
       "      <td>0</td>\n",
       "      <td>0</td>\n",
       "      <td>0</td>\n",
       "      <td>0</td>\n",
       "      <td>0</td>\n",
       "      <td>0</td>\n",
       "      <td>0</td>\n",
       "      <td>1</td>\n",
       "      <td>0</td>\n",
       "    </tr>\n",
       "    <tr>\n",
       "      <th>...</th>\n",
       "      <td>...</td>\n",
       "      <td>...</td>\n",
       "      <td>...</td>\n",
       "      <td>...</td>\n",
       "      <td>...</td>\n",
       "      <td>...</td>\n",
       "      <td>...</td>\n",
       "      <td>...</td>\n",
       "      <td>...</td>\n",
       "      <td>...</td>\n",
       "      <td>...</td>\n",
       "      <td>...</td>\n",
       "      <td>...</td>\n",
       "    </tr>\n",
       "    <tr>\n",
       "      <th>54995</th>\n",
       "      <td>0</td>\n",
       "      <td>0</td>\n",
       "      <td>0</td>\n",
       "      <td>0</td>\n",
       "      <td>0</td>\n",
       "      <td>0</td>\n",
       "      <td>0</td>\n",
       "      <td>0</td>\n",
       "      <td>0</td>\n",
       "      <td>0</td>\n",
       "      <td>1</td>\n",
       "      <td>0</td>\n",
       "      <td>0</td>\n",
       "    </tr>\n",
       "    <tr>\n",
       "      <th>54996</th>\n",
       "      <td>0</td>\n",
       "      <td>0</td>\n",
       "      <td>0</td>\n",
       "      <td>0</td>\n",
       "      <td>0</td>\n",
       "      <td>0</td>\n",
       "      <td>0</td>\n",
       "      <td>0</td>\n",
       "      <td>0</td>\n",
       "      <td>0</td>\n",
       "      <td>0</td>\n",
       "      <td>1</td>\n",
       "      <td>0</td>\n",
       "    </tr>\n",
       "    <tr>\n",
       "      <th>54997</th>\n",
       "      <td>0</td>\n",
       "      <td>0</td>\n",
       "      <td>0</td>\n",
       "      <td>0</td>\n",
       "      <td>0</td>\n",
       "      <td>1</td>\n",
       "      <td>0</td>\n",
       "      <td>0</td>\n",
       "      <td>0</td>\n",
       "      <td>0</td>\n",
       "      <td>0</td>\n",
       "      <td>0</td>\n",
       "      <td>0</td>\n",
       "    </tr>\n",
       "    <tr>\n",
       "      <th>54998</th>\n",
       "      <td>0</td>\n",
       "      <td>0</td>\n",
       "      <td>0</td>\n",
       "      <td>0</td>\n",
       "      <td>0</td>\n",
       "      <td>0</td>\n",
       "      <td>0</td>\n",
       "      <td>0</td>\n",
       "      <td>0</td>\n",
       "      <td>1</td>\n",
       "      <td>0</td>\n",
       "      <td>1</td>\n",
       "      <td>0</td>\n",
       "    </tr>\n",
       "    <tr>\n",
       "      <th>54999</th>\n",
       "      <td>0</td>\n",
       "      <td>0</td>\n",
       "      <td>0</td>\n",
       "      <td>0</td>\n",
       "      <td>0</td>\n",
       "      <td>0</td>\n",
       "      <td>0</td>\n",
       "      <td>0</td>\n",
       "      <td>0</td>\n",
       "      <td>0</td>\n",
       "      <td>0</td>\n",
       "      <td>1</td>\n",
       "      <td>0</td>\n",
       "    </tr>\n",
       "  </tbody>\n",
       "</table>\n",
       "<p>55000 rows × 13 columns</p>\n",
       "</div>"
      ],
      "text/plain": [
       "voc_type_nm  AS  가입  개통  대리점문의  변경/조회  업무협조  이용  정보보호/언론보도  채널  청구 수/미납  품질  \\\n",
       "0             0   0   0      0      0     0   0          0   0        1   0   \n",
       "1             0   0   0      0      0     0   0          0   0        0   0   \n",
       "2             0   0   0      0      0     1   0          0   0        0   0   \n",
       "3             1   0   0      0      0     0   0          0   0        0   1   \n",
       "4             0   0   0      0      0     0   0          0   0        0   0   \n",
       "...          ..  ..  ..    ...    ...   ...  ..        ...  ..      ...  ..   \n",
       "54995         0   0   0      0      0     0   0          0   0        0   1   \n",
       "54996         0   0   0      0      0     0   0          0   0        0   0   \n",
       "54997         0   0   0      0      0     1   0          0   0        0   0   \n",
       "54998         0   0   0      0      0     0   0          0   0        1   0   \n",
       "54999         0   0   0      0      0     0   0          0   0        0   0   \n",
       "\n",
       "voc_type_nm  해지  혜택  \n",
       "0             0   0  \n",
       "1             1   0  \n",
       "2             0   0  \n",
       "3             0   0  \n",
       "4             1   0  \n",
       "...          ..  ..  \n",
       "54995         0   0  \n",
       "54996         1   0  \n",
       "54997         0   0  \n",
       "54998         1   0  \n",
       "54999         1   0  \n",
       "\n",
       "[55000 rows x 13 columns]"
      ]
     },
     "execution_count": 33,
     "metadata": {},
     "output_type": "execute_result"
    }
   ],
   "source": [
    "# 결과 확인하기\n",
    "train_day_cnt"
   ]
  },
  {
   "cell_type": "code",
   "execution_count": 34,
   "metadata": {
    "ExecuteTime": {
     "end_time": "2023-03-10T04:25:20.433184Z",
     "start_time": "2023-03-10T04:25:20.405430Z"
    }
   },
   "outputs": [],
   "source": [
    "# 각 칼럼에 대해 반복문을 이용하여 칼럼명에 prefix를 붙이기\n",
    "for col in train_voc_cnt.columns:\n",
    "    train_voc_cnt.rename(columns={col:'voc_cnt_'+col},inplace=True) \n",
    "    train_day_cnt.rename(columns={col:'day_cnt_'+col},inplace=True)\n",
    "\n",
    "for col in test_voc_cnt.columns:\n",
    "    test_voc_cnt.rename(columns={col:'voc_cnt_'+col},inplace=True)\n",
    "    test_day_cnt.rename(columns={col:'day_cnt_'+col},inplace=True)"
   ]
  },
  {
   "cell_type": "code",
   "execution_count": 36,
   "metadata": {},
   "outputs": [],
   "source": [
    "for col in train_voc_cnt.columns:\n",
    "    train_voc_cnt.rename(columns={col:'voc_cnt_'+col},inplace=True)\n",
    "    train_day_cnt.rename(columns={col:'day_cnt_'+col},inplace=True)\n",
    "    \n",
    "for col in test_voc_cnt.columns:\n",
    "    test_voc_cnt.rename(columns={col:'voc_cnt_'+col},inplace=True)\n",
    "    test_day_cnt.rename(columns={col:'day_cnt_'+col},inplace=True)"
   ]
  },
  {
   "cell_type": "code",
   "execution_count": 38,
   "metadata": {},
   "outputs": [
    {
     "data": {
      "text/html": [
       "<div>\n",
       "<style scoped>\n",
       "    .dataframe tbody tr th:only-of-type {\n",
       "        vertical-align: middle;\n",
       "    }\n",
       "\n",
       "    .dataframe tbody tr th {\n",
       "        vertical-align: top;\n",
       "    }\n",
       "\n",
       "    .dataframe thead th {\n",
       "        text-align: right;\n",
       "    }\n",
       "</style>\n",
       "<table border=\"1\" class=\"dataframe\">\n",
       "  <thead>\n",
       "    <tr style=\"text-align: right;\">\n",
       "      <th>voc_type_nm</th>\n",
       "      <th>voc_cnt_voc_cnt_AS</th>\n",
       "      <th>voc_cnt_voc_cnt_가입</th>\n",
       "      <th>voc_cnt_voc_cnt_개통</th>\n",
       "      <th>voc_cnt_voc_cnt_변경/조회</th>\n",
       "      <th>voc_cnt_voc_cnt_업무협조</th>\n",
       "      <th>voc_cnt_voc_cnt_이용</th>\n",
       "      <th>voc_cnt_voc_cnt_정보보호/언론보도</th>\n",
       "      <th>voc_cnt_voc_cnt_채널</th>\n",
       "      <th>voc_cnt_voc_cnt_청구 수/미납</th>\n",
       "      <th>voc_cnt_voc_cnt_품질</th>\n",
       "      <th>voc_cnt_voc_cnt_해지</th>\n",
       "      <th>voc_cnt_voc_cnt_혜택</th>\n",
       "    </tr>\n",
       "  </thead>\n",
       "  <tbody>\n",
       "    <tr>\n",
       "      <th>0</th>\n",
       "      <td>0</td>\n",
       "      <td>0</td>\n",
       "      <td>0</td>\n",
       "      <td>0</td>\n",
       "      <td>0</td>\n",
       "      <td>0</td>\n",
       "      <td>0</td>\n",
       "      <td>0</td>\n",
       "      <td>0</td>\n",
       "      <td>2</td>\n",
       "      <td>0</td>\n",
       "      <td>0</td>\n",
       "    </tr>\n",
       "    <tr>\n",
       "      <th>1</th>\n",
       "      <td>0</td>\n",
       "      <td>0</td>\n",
       "      <td>0</td>\n",
       "      <td>0</td>\n",
       "      <td>2</td>\n",
       "      <td>1</td>\n",
       "      <td>0</td>\n",
       "      <td>0</td>\n",
       "      <td>3</td>\n",
       "      <td>0</td>\n",
       "      <td>0</td>\n",
       "      <td>0</td>\n",
       "    </tr>\n",
       "    <tr>\n",
       "      <th>2</th>\n",
       "      <td>0</td>\n",
       "      <td>2</td>\n",
       "      <td>0</td>\n",
       "      <td>0</td>\n",
       "      <td>1</td>\n",
       "      <td>0</td>\n",
       "      <td>0</td>\n",
       "      <td>0</td>\n",
       "      <td>0</td>\n",
       "      <td>0</td>\n",
       "      <td>0</td>\n",
       "      <td>0</td>\n",
       "    </tr>\n",
       "    <tr>\n",
       "      <th>3</th>\n",
       "      <td>0</td>\n",
       "      <td>0</td>\n",
       "      <td>0</td>\n",
       "      <td>0</td>\n",
       "      <td>0</td>\n",
       "      <td>0</td>\n",
       "      <td>0</td>\n",
       "      <td>0</td>\n",
       "      <td>1</td>\n",
       "      <td>0</td>\n",
       "      <td>0</td>\n",
       "      <td>0</td>\n",
       "    </tr>\n",
       "    <tr>\n",
       "      <th>4</th>\n",
       "      <td>0</td>\n",
       "      <td>0</td>\n",
       "      <td>0</td>\n",
       "      <td>0</td>\n",
       "      <td>2</td>\n",
       "      <td>0</td>\n",
       "      <td>0</td>\n",
       "      <td>0</td>\n",
       "      <td>0</td>\n",
       "      <td>0</td>\n",
       "      <td>0</td>\n",
       "      <td>0</td>\n",
       "    </tr>\n",
       "  </tbody>\n",
       "</table>\n",
       "</div>"
      ],
      "text/plain": [
       "voc_type_nm  voc_cnt_voc_cnt_AS  voc_cnt_voc_cnt_가입  voc_cnt_voc_cnt_개통  \\\n",
       "0                             0                   0                   0   \n",
       "1                             0                   0                   0   \n",
       "2                             0                   2                   0   \n",
       "3                             0                   0                   0   \n",
       "4                             0                   0                   0   \n",
       "\n",
       "voc_type_nm  voc_cnt_voc_cnt_변경/조회  voc_cnt_voc_cnt_업무협조  voc_cnt_voc_cnt_이용  \\\n",
       "0                                0                     0                   0   \n",
       "1                                0                     2                   1   \n",
       "2                                0                     1                   0   \n",
       "3                                0                     0                   0   \n",
       "4                                0                     2                   0   \n",
       "\n",
       "voc_type_nm  voc_cnt_voc_cnt_정보보호/언론보도  voc_cnt_voc_cnt_채널  \\\n",
       "0                                    0                   0   \n",
       "1                                    0                   0   \n",
       "2                                    0                   0   \n",
       "3                                    0                   0   \n",
       "4                                    0                   0   \n",
       "\n",
       "voc_type_nm  voc_cnt_voc_cnt_청구 수/미납  voc_cnt_voc_cnt_품질  voc_cnt_voc_cnt_해지  \\\n",
       "0                                  0                   2                   0   \n",
       "1                                  3                   0                   0   \n",
       "2                                  0                   0                   0   \n",
       "3                                  1                   0                   0   \n",
       "4                                  0                   0                   0   \n",
       "\n",
       "voc_type_nm  voc_cnt_voc_cnt_혜택  \n",
       "0                             0  \n",
       "1                             0  \n",
       "2                             0  \n",
       "3                             0  \n",
       "4                             0  "
      ]
     },
     "execution_count": 38,
     "metadata": {},
     "output_type": "execute_result"
    }
   ],
   "source": [
    "test_voc_cnt.head()"
   ]
  },
  {
   "cell_type": "code",
   "execution_count": 37,
   "metadata": {
    "ExecuteTime": {
     "end_time": "2023-03-10T04:25:20.463916Z",
     "start_time": "2023-03-10T04:25:20.434845Z"
    }
   },
   "outputs": [
    {
     "data": {
      "text/html": [
       "<div>\n",
       "<style scoped>\n",
       "    .dataframe tbody tr th:only-of-type {\n",
       "        vertical-align: middle;\n",
       "    }\n",
       "\n",
       "    .dataframe tbody tr th {\n",
       "        vertical-align: top;\n",
       "    }\n",
       "\n",
       "    .dataframe thead th {\n",
       "        text-align: right;\n",
       "    }\n",
       "</style>\n",
       "<table border=\"1\" class=\"dataframe\">\n",
       "  <thead>\n",
       "    <tr style=\"text-align: right;\">\n",
       "      <th></th>\n",
       "      <th>id</th>\n",
       "      <th>status</th>\n",
       "      <th>new_date</th>\n",
       "      <th>bidet_cnt</th>\n",
       "      <th>w_disp_cnt</th>\n",
       "      <th>cust_cd</th>\n",
       "      <th>sex_cd</th>\n",
       "      <th>w_disp_yn</th>\n",
       "      <th>bidet_yn</th>\n",
       "      <th>comb_prod_yn</th>\n",
       "      <th>...</th>\n",
       "      <th>bidet_trmn_eperd_cd</th>\n",
       "      <th>w_disp_trmn_eperd_cd</th>\n",
       "      <th>w_disp_trmn_why_cd</th>\n",
       "      <th>bidet_trmn_why_cd</th>\n",
       "      <th>npay_yn</th>\n",
       "      <th>3m_avg_bill_amt</th>\n",
       "      <th>3m_bidet_avg_amt</th>\n",
       "      <th>3m_w_disp_avg_amt</th>\n",
       "      <th>w_disp_engt_rperd_cd</th>\n",
       "      <th>bidet_engt_rperd_cd</th>\n",
       "    </tr>\n",
       "  </thead>\n",
       "  <tbody>\n",
       "    <tr>\n",
       "      <th>0</th>\n",
       "      <td>E1000001</td>\n",
       "      <td>Y</td>\n",
       "      <td>20170421</td>\n",
       "      <td>1</td>\n",
       "      <td>0.0</td>\n",
       "      <td>10001</td>\n",
       "      <td>F</td>\n",
       "      <td>Y</td>\n",
       "      <td>Y</td>\n",
       "      <td>Y</td>\n",
       "      <td>...</td>\n",
       "      <td>_</td>\n",
       "      <td>_</td>\n",
       "      <td>_</td>\n",
       "      <td>_</td>\n",
       "      <td>Y</td>\n",
       "      <td>381711.000</td>\n",
       "      <td>40393</td>\n",
       "      <td>43560</td>\n",
       "      <td>R09</td>\n",
       "      <td>R12</td>\n",
       "    </tr>\n",
       "    <tr>\n",
       "      <th>1</th>\n",
       "      <td>E1000002</td>\n",
       "      <td>N</td>\n",
       "      <td>20131203</td>\n",
       "      <td>2</td>\n",
       "      <td>0.0</td>\n",
       "      <td>10001</td>\n",
       "      <td>M</td>\n",
       "      <td>N</td>\n",
       "      <td>Y</td>\n",
       "      <td>N</td>\n",
       "      <td>...</td>\n",
       "      <td>_</td>\n",
       "      <td>_</td>\n",
       "      <td>_</td>\n",
       "      <td>_</td>\n",
       "      <td>N</td>\n",
       "      <td>110100.000</td>\n",
       "      <td>34460</td>\n",
       "      <td>0</td>\n",
       "      <td>_</td>\n",
       "      <td>R06</td>\n",
       "    </tr>\n",
       "    <tr>\n",
       "      <th>2</th>\n",
       "      <td>E1000003</td>\n",
       "      <td>N</td>\n",
       "      <td>20170731</td>\n",
       "      <td>1</td>\n",
       "      <td>1.0</td>\n",
       "      <td>10001</td>\n",
       "      <td>M</td>\n",
       "      <td>Y</td>\n",
       "      <td>N</td>\n",
       "      <td>Y</td>\n",
       "      <td>...</td>\n",
       "      <td>_</td>\n",
       "      <td>_</td>\n",
       "      <td>_</td>\n",
       "      <td>_</td>\n",
       "      <td>N</td>\n",
       "      <td>90000.000</td>\n",
       "      <td>0</td>\n",
       "      <td>28600</td>\n",
       "      <td>0</td>\n",
       "      <td>_</td>\n",
       "    </tr>\n",
       "    <tr>\n",
       "      <th>3</th>\n",
       "      <td>E1000004</td>\n",
       "      <td>Y</td>\n",
       "      <td>20090930</td>\n",
       "      <td>4</td>\n",
       "      <td>1.0</td>\n",
       "      <td>10001</td>\n",
       "      <td>F</td>\n",
       "      <td>Y</td>\n",
       "      <td>Y</td>\n",
       "      <td>Y</td>\n",
       "      <td>...</td>\n",
       "      <td>_</td>\n",
       "      <td>_</td>\n",
       "      <td>_</td>\n",
       "      <td>_</td>\n",
       "      <td>Y</td>\n",
       "      <td>218303.001</td>\n",
       "      <td>34747</td>\n",
       "      <td>55000</td>\n",
       "      <td>P36</td>\n",
       "      <td>R11</td>\n",
       "    </tr>\n",
       "    <tr>\n",
       "      <th>4</th>\n",
       "      <td>E1000005</td>\n",
       "      <td>N</td>\n",
       "      <td>20151121</td>\n",
       "      <td>1</td>\n",
       "      <td>1.0</td>\n",
       "      <td>10001</td>\n",
       "      <td>F</td>\n",
       "      <td>Y</td>\n",
       "      <td>Y</td>\n",
       "      <td>Y</td>\n",
       "      <td>...</td>\n",
       "      <td>_</td>\n",
       "      <td>_</td>\n",
       "      <td>_</td>\n",
       "      <td>_</td>\n",
       "      <td>N</td>\n",
       "      <td>310095.999</td>\n",
       "      <td>59856</td>\n",
       "      <td>54082</td>\n",
       "      <td>R27</td>\n",
       "      <td>R22</td>\n",
       "    </tr>\n",
       "  </tbody>\n",
       "</table>\n",
       "<p>5 rows × 22 columns</p>\n",
       "</div>"
      ],
      "text/plain": [
       "         id status  new_date  bidet_cnt  w_disp_cnt  cust_cd sex_cd w_disp_yn  \\\n",
       "0  E1000001      Y  20170421          1         0.0    10001      F         Y   \n",
       "1  E1000002      N  20131203          2         0.0    10001      M         N   \n",
       "2  E1000003      N  20170731          1         1.0    10001      M         Y   \n",
       "3  E1000004      Y  20090930          4         1.0    10001      F         Y   \n",
       "4  E1000005      N  20151121          1         1.0    10001      F         Y   \n",
       "\n",
       "  bidet_yn comb_prod_yn  ... bidet_trmn_eperd_cd w_disp_trmn_eperd_cd  \\\n",
       "0        Y            Y  ...                   _                    _   \n",
       "1        Y            N  ...                   _                    _   \n",
       "2        N            Y  ...                   _                    _   \n",
       "3        Y            Y  ...                   _                    _   \n",
       "4        Y            Y  ...                   _                    _   \n",
       "\n",
       "  w_disp_trmn_why_cd bidet_trmn_why_cd npay_yn 3m_avg_bill_amt  \\\n",
       "0                  _                 _       Y      381711.000   \n",
       "1                  _                 _       N      110100.000   \n",
       "2                  _                 _       N       90000.000   \n",
       "3                  _                 _       Y      218303.001   \n",
       "4                  _                 _       N      310095.999   \n",
       "\n",
       "  3m_bidet_avg_amt  3m_w_disp_avg_amt  w_disp_engt_rperd_cd  \\\n",
       "0            40393              43560                   R09   \n",
       "1            34460                  0                     _   \n",
       "2                0              28600                     0   \n",
       "3            34747              55000                   P36   \n",
       "4            59856              54082                   R27   \n",
       "\n",
       "   bidet_engt_rperd_cd  \n",
       "0                  R12  \n",
       "1                  R06  \n",
       "2                    _  \n",
       "3                  R11  \n",
       "4                  R22  \n",
       "\n",
       "[5 rows x 22 columns]"
      ]
     },
     "execution_count": 37,
     "metadata": {},
     "output_type": "execute_result"
    }
   ],
   "source": [
    "train_termination.head()"
   ]
  },
  {
   "cell_type": "code",
   "execution_count": 31,
   "metadata": {
    "ExecuteTime": {
     "end_time": "2023-03-10T04:25:20.479313Z",
     "start_time": "2023-03-10T04:25:20.465975Z"
    }
   },
   "outputs": [
    {
     "data": {
      "text/html": [
       "<div>\n",
       "<style scoped>\n",
       "    .dataframe tbody tr th:only-of-type {\n",
       "        vertical-align: middle;\n",
       "    }\n",
       "\n",
       "    .dataframe tbody tr th {\n",
       "        vertical-align: top;\n",
       "    }\n",
       "\n",
       "    .dataframe thead th {\n",
       "        text-align: right;\n",
       "    }\n",
       "</style>\n",
       "<table border=\"1\" class=\"dataframe\">\n",
       "  <thead>\n",
       "    <tr style=\"text-align: right;\">\n",
       "      <th>voc_type_nm</th>\n",
       "      <th>AS</th>\n",
       "      <th>가입</th>\n",
       "      <th>개통</th>\n",
       "      <th>대리점문의</th>\n",
       "      <th>변경/조회</th>\n",
       "      <th>업무협조</th>\n",
       "      <th>이용</th>\n",
       "      <th>정보보호/언론보도</th>\n",
       "      <th>채널</th>\n",
       "      <th>청구 수/미납</th>\n",
       "      <th>품질</th>\n",
       "      <th>해지</th>\n",
       "      <th>혜택</th>\n",
       "    </tr>\n",
       "  </thead>\n",
       "  <tbody>\n",
       "    <tr>\n",
       "      <th>0</th>\n",
       "      <td>0</td>\n",
       "      <td>0</td>\n",
       "      <td>0</td>\n",
       "      <td>0</td>\n",
       "      <td>0</td>\n",
       "      <td>0</td>\n",
       "      <td>0</td>\n",
       "      <td>0</td>\n",
       "      <td>0</td>\n",
       "      <td>1</td>\n",
       "      <td>0</td>\n",
       "      <td>0</td>\n",
       "      <td>0</td>\n",
       "    </tr>\n",
       "    <tr>\n",
       "      <th>1</th>\n",
       "      <td>0</td>\n",
       "      <td>0</td>\n",
       "      <td>0</td>\n",
       "      <td>0</td>\n",
       "      <td>0</td>\n",
       "      <td>0</td>\n",
       "      <td>0</td>\n",
       "      <td>0</td>\n",
       "      <td>0</td>\n",
       "      <td>0</td>\n",
       "      <td>0</td>\n",
       "      <td>1</td>\n",
       "      <td>0</td>\n",
       "    </tr>\n",
       "    <tr>\n",
       "      <th>2</th>\n",
       "      <td>0</td>\n",
       "      <td>0</td>\n",
       "      <td>0</td>\n",
       "      <td>0</td>\n",
       "      <td>0</td>\n",
       "      <td>1</td>\n",
       "      <td>0</td>\n",
       "      <td>0</td>\n",
       "      <td>0</td>\n",
       "      <td>0</td>\n",
       "      <td>0</td>\n",
       "      <td>0</td>\n",
       "      <td>0</td>\n",
       "    </tr>\n",
       "    <tr>\n",
       "      <th>3</th>\n",
       "      <td>1</td>\n",
       "      <td>0</td>\n",
       "      <td>0</td>\n",
       "      <td>0</td>\n",
       "      <td>0</td>\n",
       "      <td>0</td>\n",
       "      <td>0</td>\n",
       "      <td>0</td>\n",
       "      <td>0</td>\n",
       "      <td>0</td>\n",
       "      <td>1</td>\n",
       "      <td>0</td>\n",
       "      <td>0</td>\n",
       "    </tr>\n",
       "    <tr>\n",
       "      <th>4</th>\n",
       "      <td>0</td>\n",
       "      <td>0</td>\n",
       "      <td>0</td>\n",
       "      <td>0</td>\n",
       "      <td>0</td>\n",
       "      <td>0</td>\n",
       "      <td>0</td>\n",
       "      <td>0</td>\n",
       "      <td>0</td>\n",
       "      <td>0</td>\n",
       "      <td>0</td>\n",
       "      <td>1</td>\n",
       "      <td>0</td>\n",
       "    </tr>\n",
       "  </tbody>\n",
       "</table>\n",
       "</div>"
      ],
      "text/plain": [
       "voc_type_nm  AS  가입  개통  대리점문의  변경/조회  업무협조  이용  정보보호/언론보도  채널  청구 수/미납  품질  \\\n",
       "0             0   0   0      0      0     0   0          0   0        1   0   \n",
       "1             0   0   0      0      0     0   0          0   0        0   0   \n",
       "2             0   0   0      0      0     1   0          0   0        0   0   \n",
       "3             1   0   0      0      0     0   0          0   0        0   1   \n",
       "4             0   0   0      0      0     0   0          0   0        0   0   \n",
       "\n",
       "voc_type_nm  해지  혜택  \n",
       "0             0   0  \n",
       "1             1   0  \n",
       "2             0   0  \n",
       "3             0   0  \n",
       "4             1   0  "
      ]
     },
     "execution_count": 31,
     "metadata": {},
     "output_type": "execute_result"
    }
   ],
   "source": [
    "train_voc_cnt.head()"
   ]
  },
  {
   "cell_type": "code",
   "execution_count": 32,
   "metadata": {
    "ExecuteTime": {
     "end_time": "2023-03-10T04:25:20.509688Z",
     "start_time": "2023-03-10T04:25:20.483811Z"
    }
   },
   "outputs": [
    {
     "data": {
      "text/html": [
       "<div>\n",
       "<style scoped>\n",
       "    .dataframe tbody tr th:only-of-type {\n",
       "        vertical-align: middle;\n",
       "    }\n",
       "\n",
       "    .dataframe tbody tr th {\n",
       "        vertical-align: top;\n",
       "    }\n",
       "\n",
       "    .dataframe thead th {\n",
       "        text-align: right;\n",
       "    }\n",
       "</style>\n",
       "<table border=\"1\" class=\"dataframe\">\n",
       "  <thead>\n",
       "    <tr style=\"text-align: right;\">\n",
       "      <th>voc_type_nm</th>\n",
       "      <th>AS</th>\n",
       "      <th>가입</th>\n",
       "      <th>개통</th>\n",
       "      <th>대리점문의</th>\n",
       "      <th>변경/조회</th>\n",
       "      <th>업무협조</th>\n",
       "      <th>이용</th>\n",
       "      <th>정보보호/언론보도</th>\n",
       "      <th>채널</th>\n",
       "      <th>청구 수/미납</th>\n",
       "      <th>품질</th>\n",
       "      <th>해지</th>\n",
       "      <th>혜택</th>\n",
       "    </tr>\n",
       "  </thead>\n",
       "  <tbody>\n",
       "    <tr>\n",
       "      <th>0</th>\n",
       "      <td>0</td>\n",
       "      <td>0</td>\n",
       "      <td>0</td>\n",
       "      <td>0</td>\n",
       "      <td>0</td>\n",
       "      <td>0</td>\n",
       "      <td>0</td>\n",
       "      <td>0</td>\n",
       "      <td>0</td>\n",
       "      <td>1</td>\n",
       "      <td>0</td>\n",
       "      <td>0</td>\n",
       "      <td>0</td>\n",
       "    </tr>\n",
       "    <tr>\n",
       "      <th>1</th>\n",
       "      <td>0</td>\n",
       "      <td>0</td>\n",
       "      <td>0</td>\n",
       "      <td>0</td>\n",
       "      <td>0</td>\n",
       "      <td>0</td>\n",
       "      <td>0</td>\n",
       "      <td>0</td>\n",
       "      <td>0</td>\n",
       "      <td>0</td>\n",
       "      <td>0</td>\n",
       "      <td>1</td>\n",
       "      <td>0</td>\n",
       "    </tr>\n",
       "    <tr>\n",
       "      <th>2</th>\n",
       "      <td>0</td>\n",
       "      <td>0</td>\n",
       "      <td>0</td>\n",
       "      <td>0</td>\n",
       "      <td>0</td>\n",
       "      <td>1</td>\n",
       "      <td>0</td>\n",
       "      <td>0</td>\n",
       "      <td>0</td>\n",
       "      <td>0</td>\n",
       "      <td>0</td>\n",
       "      <td>0</td>\n",
       "      <td>0</td>\n",
       "    </tr>\n",
       "    <tr>\n",
       "      <th>3</th>\n",
       "      <td>1</td>\n",
       "      <td>0</td>\n",
       "      <td>0</td>\n",
       "      <td>0</td>\n",
       "      <td>0</td>\n",
       "      <td>0</td>\n",
       "      <td>0</td>\n",
       "      <td>0</td>\n",
       "      <td>0</td>\n",
       "      <td>0</td>\n",
       "      <td>1</td>\n",
       "      <td>0</td>\n",
       "      <td>0</td>\n",
       "    </tr>\n",
       "    <tr>\n",
       "      <th>4</th>\n",
       "      <td>0</td>\n",
       "      <td>0</td>\n",
       "      <td>0</td>\n",
       "      <td>0</td>\n",
       "      <td>0</td>\n",
       "      <td>0</td>\n",
       "      <td>0</td>\n",
       "      <td>0</td>\n",
       "      <td>0</td>\n",
       "      <td>0</td>\n",
       "      <td>0</td>\n",
       "      <td>1</td>\n",
       "      <td>0</td>\n",
       "    </tr>\n",
       "  </tbody>\n",
       "</table>\n",
       "</div>"
      ],
      "text/plain": [
       "voc_type_nm  AS  가입  개통  대리점문의  변경/조회  업무협조  이용  정보보호/언론보도  채널  청구 수/미납  품질  \\\n",
       "0             0   0   0      0      0     0   0          0   0        1   0   \n",
       "1             0   0   0      0      0     0   0          0   0        0   0   \n",
       "2             0   0   0      0      0     1   0          0   0        0   0   \n",
       "3             1   0   0      0      0     0   0          0   0        0   1   \n",
       "4             0   0   0      0      0     0   0          0   0        0   0   \n",
       "\n",
       "voc_type_nm  해지  혜택  \n",
       "0             0   0  \n",
       "1             1   0  \n",
       "2             0   0  \n",
       "3             0   0  \n",
       "4             1   0  "
      ]
     },
     "execution_count": 32,
     "metadata": {},
     "output_type": "execute_result"
    }
   ],
   "source": [
    "train_day_cnt.head()"
   ]
  },
  {
   "cell_type": "code",
   "execution_count": 39,
   "metadata": {
    "ExecuteTime": {
     "end_time": "2023-03-10T04:25:20.554713Z",
     "start_time": "2023-03-10T04:25:20.515696Z"
    }
   },
   "outputs": [
    {
     "data": {
      "text/plain": [
       "((55000, 48), (5000, 46))"
      ]
     },
     "execution_count": 39,
     "metadata": {},
     "output_type": "execute_result"
    }
   ],
   "source": [
    "# pd.concat([병합 대상 list],axis=1) \n",
    "train_data=pd.concat([train_termination,train_voc_cnt,train_day_cnt],axis=1)\n",
    "test_data=pd.concat([test_termination,test_voc_cnt,test_day_cnt],axis=1)\n",
    "\n",
    "# 병합 결과 확인하기\n",
    "train_data.shape,test_data.shape"
   ]
  },
  {
   "cell_type": "code",
   "execution_count": 40,
   "metadata": {},
   "outputs": [
    {
     "data": {
      "text/html": [
       "<div>\n",
       "<style scoped>\n",
       "    .dataframe tbody tr th:only-of-type {\n",
       "        vertical-align: middle;\n",
       "    }\n",
       "\n",
       "    .dataframe tbody tr th {\n",
       "        vertical-align: top;\n",
       "    }\n",
       "\n",
       "    .dataframe thead th {\n",
       "        text-align: right;\n",
       "    }\n",
       "</style>\n",
       "<table border=\"1\" class=\"dataframe\">\n",
       "  <thead>\n",
       "    <tr style=\"text-align: right;\">\n",
       "      <th></th>\n",
       "      <th>id</th>\n",
       "      <th>status</th>\n",
       "      <th>new_date</th>\n",
       "      <th>bidet_cnt</th>\n",
       "      <th>w_disp_cnt</th>\n",
       "      <th>cust_cd</th>\n",
       "      <th>sex_cd</th>\n",
       "      <th>w_disp_yn</th>\n",
       "      <th>bidet_yn</th>\n",
       "      <th>comb_prod_yn</th>\n",
       "      <th>...</th>\n",
       "      <th>day_cnt_대리점문의</th>\n",
       "      <th>day_cnt_변경/조회</th>\n",
       "      <th>day_cnt_업무협조</th>\n",
       "      <th>day_cnt_이용</th>\n",
       "      <th>day_cnt_정보보호/언론보도</th>\n",
       "      <th>day_cnt_채널</th>\n",
       "      <th>day_cnt_청구 수/미납</th>\n",
       "      <th>day_cnt_품질</th>\n",
       "      <th>day_cnt_해지</th>\n",
       "      <th>day_cnt_혜택</th>\n",
       "    </tr>\n",
       "  </thead>\n",
       "  <tbody>\n",
       "    <tr>\n",
       "      <th>0</th>\n",
       "      <td>E1000001</td>\n",
       "      <td>Y</td>\n",
       "      <td>20170421</td>\n",
       "      <td>1</td>\n",
       "      <td>0.0</td>\n",
       "      <td>10001</td>\n",
       "      <td>F</td>\n",
       "      <td>Y</td>\n",
       "      <td>Y</td>\n",
       "      <td>Y</td>\n",
       "      <td>...</td>\n",
       "      <td>0</td>\n",
       "      <td>0</td>\n",
       "      <td>0</td>\n",
       "      <td>0</td>\n",
       "      <td>0</td>\n",
       "      <td>0</td>\n",
       "      <td>1</td>\n",
       "      <td>0</td>\n",
       "      <td>0</td>\n",
       "      <td>0</td>\n",
       "    </tr>\n",
       "    <tr>\n",
       "      <th>1</th>\n",
       "      <td>E1000002</td>\n",
       "      <td>N</td>\n",
       "      <td>20131203</td>\n",
       "      <td>2</td>\n",
       "      <td>0.0</td>\n",
       "      <td>10001</td>\n",
       "      <td>M</td>\n",
       "      <td>N</td>\n",
       "      <td>Y</td>\n",
       "      <td>N</td>\n",
       "      <td>...</td>\n",
       "      <td>0</td>\n",
       "      <td>0</td>\n",
       "      <td>0</td>\n",
       "      <td>0</td>\n",
       "      <td>0</td>\n",
       "      <td>0</td>\n",
       "      <td>0</td>\n",
       "      <td>0</td>\n",
       "      <td>1</td>\n",
       "      <td>0</td>\n",
       "    </tr>\n",
       "    <tr>\n",
       "      <th>2</th>\n",
       "      <td>E1000003</td>\n",
       "      <td>N</td>\n",
       "      <td>20170731</td>\n",
       "      <td>1</td>\n",
       "      <td>1.0</td>\n",
       "      <td>10001</td>\n",
       "      <td>M</td>\n",
       "      <td>Y</td>\n",
       "      <td>N</td>\n",
       "      <td>Y</td>\n",
       "      <td>...</td>\n",
       "      <td>0</td>\n",
       "      <td>0</td>\n",
       "      <td>1</td>\n",
       "      <td>0</td>\n",
       "      <td>0</td>\n",
       "      <td>0</td>\n",
       "      <td>0</td>\n",
       "      <td>0</td>\n",
       "      <td>0</td>\n",
       "      <td>0</td>\n",
       "    </tr>\n",
       "    <tr>\n",
       "      <th>3</th>\n",
       "      <td>E1000004</td>\n",
       "      <td>Y</td>\n",
       "      <td>20090930</td>\n",
       "      <td>4</td>\n",
       "      <td>1.0</td>\n",
       "      <td>10001</td>\n",
       "      <td>F</td>\n",
       "      <td>Y</td>\n",
       "      <td>Y</td>\n",
       "      <td>Y</td>\n",
       "      <td>...</td>\n",
       "      <td>0</td>\n",
       "      <td>0</td>\n",
       "      <td>0</td>\n",
       "      <td>0</td>\n",
       "      <td>0</td>\n",
       "      <td>0</td>\n",
       "      <td>0</td>\n",
       "      <td>1</td>\n",
       "      <td>0</td>\n",
       "      <td>0</td>\n",
       "    </tr>\n",
       "    <tr>\n",
       "      <th>4</th>\n",
       "      <td>E1000005</td>\n",
       "      <td>N</td>\n",
       "      <td>20151121</td>\n",
       "      <td>1</td>\n",
       "      <td>1.0</td>\n",
       "      <td>10001</td>\n",
       "      <td>F</td>\n",
       "      <td>Y</td>\n",
       "      <td>Y</td>\n",
       "      <td>Y</td>\n",
       "      <td>...</td>\n",
       "      <td>0</td>\n",
       "      <td>0</td>\n",
       "      <td>0</td>\n",
       "      <td>0</td>\n",
       "      <td>0</td>\n",
       "      <td>0</td>\n",
       "      <td>0</td>\n",
       "      <td>0</td>\n",
       "      <td>1</td>\n",
       "      <td>0</td>\n",
       "    </tr>\n",
       "  </tbody>\n",
       "</table>\n",
       "<p>5 rows × 48 columns</p>\n",
       "</div>"
      ],
      "text/plain": [
       "         id status  new_date  bidet_cnt  w_disp_cnt  cust_cd sex_cd w_disp_yn  \\\n",
       "0  E1000001      Y  20170421          1         0.0    10001      F         Y   \n",
       "1  E1000002      N  20131203          2         0.0    10001      M         N   \n",
       "2  E1000003      N  20170731          1         1.0    10001      M         Y   \n",
       "3  E1000004      Y  20090930          4         1.0    10001      F         Y   \n",
       "4  E1000005      N  20151121          1         1.0    10001      F         Y   \n",
       "\n",
       "  bidet_yn comb_prod_yn  ... day_cnt_대리점문의 day_cnt_변경/조회 day_cnt_업무협조  \\\n",
       "0        Y            Y  ...             0             0            0   \n",
       "1        Y            N  ...             0             0            0   \n",
       "2        N            Y  ...             0             0            1   \n",
       "3        Y            Y  ...             0             0            0   \n",
       "4        Y            Y  ...             0             0            0   \n",
       "\n",
       "  day_cnt_이용 day_cnt_정보보호/언론보도 day_cnt_채널 day_cnt_청구 수/미납  day_cnt_품질  \\\n",
       "0          0                 0          0               1           0   \n",
       "1          0                 0          0               0           0   \n",
       "2          0                 0          0               0           0   \n",
       "3          0                 0          0               0           1   \n",
       "4          0                 0          0               0           0   \n",
       "\n",
       "   day_cnt_해지  day_cnt_혜택  \n",
       "0           0           0  \n",
       "1           1           0  \n",
       "2           0           0  \n",
       "3           0           0  \n",
       "4           1           0  \n",
       "\n",
       "[5 rows x 48 columns]"
      ]
     },
     "execution_count": 40,
     "metadata": {},
     "output_type": "execute_result"
    }
   ],
   "source": [
    "train_data.head()"
   ]
  },
  {
   "cell_type": "code",
   "execution_count": null,
   "metadata": {
    "ExecuteTime": {
     "end_time": "2023-03-10T04:25:20.570399Z",
     "start_time": "2023-03-10T04:25:20.556545Z"
    }
   },
   "outputs": [],
   "source": [
    "# train_data의 칼럼중에서 test_data에 없는 칼럼 찾기\n",
    "[x for x in train_data.columns.tolist() if x not in test_data.columns.tolist()]"
   ]
  },
  {
   "cell_type": "code",
   "execution_count": 41,
   "metadata": {},
   "outputs": [
    {
     "data": {
      "text/plain": [
       "['voc_cnt_voc_cnt_대리점문의', 'day_cnt_대리점문의']"
      ]
     },
     "execution_count": 41,
     "metadata": {},
     "output_type": "execute_result"
    }
   ],
   "source": [
    "[x for x in train_data.columns.tolist() if x not in test_data.columns.tolist()]"
   ]
  },
  {
   "cell_type": "code",
   "execution_count": 42,
   "metadata": {
    "ExecuteTime": {
     "end_time": "2023-03-10T04:25:20.631136Z",
     "start_time": "2023-03-10T04:25:20.572181Z"
    }
   },
   "outputs": [
    {
     "data": {
      "text/plain": [
       "((55000, 46), (5000, 46))"
      ]
     },
     "execution_count": 42,
     "metadata": {},
     "output_type": "execute_result"
    }
   ],
   "source": [
    "# train_data에만 존재하는 2개 칼럼 삭제하기\n",
    "train_data.drop(['voc_cnt_voc_cnt_대리점문의','day_cnt_대리점문의'],axis=1,inplace=True)\n",
    "\n",
    "# 삭제 후 결과 확인하기\n",
    "train_data.shape, test_data.shape"
   ]
  },
  {
   "cell_type": "markdown",
   "metadata": {},
   "source": [
    "## 4. 결측치 처리하기"
   ]
  },
  {
   "cell_type": "markdown",
   "metadata": {},
   "source": [
    "### 1) 결측치 확인하기"
   ]
  },
  {
   "cell_type": "code",
   "execution_count": 43,
   "metadata": {
    "ExecuteTime": {
     "end_time": "2023-03-10T04:25:20.690557Z",
     "start_time": "2023-03-10T04:25:20.633668Z"
    }
   },
   "outputs": [
    {
     "data": {
      "text/plain": [
       "(10, 0)"
      ]
     },
     "execution_count": 43,
     "metadata": {},
     "output_type": "execute_result"
    }
   ],
   "source": [
    "# 결측치 존재 확인하기\n",
    "train_data.isnull().sum().sum(),test_data.isnull().sum().sum()"
   ]
  },
  {
   "cell_type": "code",
   "execution_count": 44,
   "metadata": {
    "ExecuteTime": {
     "end_time": "2023-03-10T04:25:20.736241Z",
     "start_time": "2023-03-10T04:25:20.693063Z"
    }
   },
   "outputs": [
    {
     "data": {
      "text/plain": [
       "id               0\n",
       "status           0\n",
       "new_date         0\n",
       "bidet_cnt        0\n",
       "w_disp_cnt      10\n",
       "cust_cd          0\n",
       "sex_cd           0\n",
       "w_disp_yn        0\n",
       "bidet_yn         0\n",
       "comb_prod_yn     0\n",
       "dtype: int64"
      ]
     },
     "execution_count": 44,
     "metadata": {},
     "output_type": "execute_result"
    }
   ],
   "source": [
    "# 칼럼별 결측치 확인하기\n",
    "train_data.isnull().sum().head(10)"
   ]
  },
  {
   "cell_type": "code",
   "execution_count": 45,
   "metadata": {
    "ExecuteTime": {
     "end_time": "2023-03-10T04:25:20.767459Z",
     "start_time": "2023-03-10T04:25:20.738715Z"
    }
   },
   "outputs": [
    {
     "data": {
      "text/html": [
       "<div>\n",
       "<style scoped>\n",
       "    .dataframe tbody tr th:only-of-type {\n",
       "        vertical-align: middle;\n",
       "    }\n",
       "\n",
       "    .dataframe tbody tr th {\n",
       "        vertical-align: top;\n",
       "    }\n",
       "\n",
       "    .dataframe thead th {\n",
       "        text-align: right;\n",
       "    }\n",
       "</style>\n",
       "<table border=\"1\" class=\"dataframe\">\n",
       "  <thead>\n",
       "    <tr style=\"text-align: right;\">\n",
       "      <th></th>\n",
       "      <th>id</th>\n",
       "      <th>status</th>\n",
       "      <th>new_date</th>\n",
       "      <th>bidet_cnt</th>\n",
       "      <th>w_disp_cnt</th>\n",
       "      <th>cust_cd</th>\n",
       "      <th>sex_cd</th>\n",
       "      <th>w_disp_yn</th>\n",
       "      <th>bidet_yn</th>\n",
       "      <th>comb_prod_yn</th>\n",
       "      <th>...</th>\n",
       "      <th>day_cnt_개통</th>\n",
       "      <th>day_cnt_변경/조회</th>\n",
       "      <th>day_cnt_업무협조</th>\n",
       "      <th>day_cnt_이용</th>\n",
       "      <th>day_cnt_정보보호/언론보도</th>\n",
       "      <th>day_cnt_채널</th>\n",
       "      <th>day_cnt_청구 수/미납</th>\n",
       "      <th>day_cnt_품질</th>\n",
       "      <th>day_cnt_해지</th>\n",
       "      <th>day_cnt_혜택</th>\n",
       "    </tr>\n",
       "  </thead>\n",
       "  <tbody>\n",
       "    <tr>\n",
       "      <th>50</th>\n",
       "      <td>E1000051</td>\n",
       "      <td>Y</td>\n",
       "      <td>20200515</td>\n",
       "      <td>0</td>\n",
       "      <td>NaN</td>\n",
       "      <td>10001</td>\n",
       "      <td>F</td>\n",
       "      <td>Y</td>\n",
       "      <td>Y</td>\n",
       "      <td>Y</td>\n",
       "      <td>...</td>\n",
       "      <td>0</td>\n",
       "      <td>0</td>\n",
       "      <td>0</td>\n",
       "      <td>0</td>\n",
       "      <td>0</td>\n",
       "      <td>0</td>\n",
       "      <td>1</td>\n",
       "      <td>0</td>\n",
       "      <td>0</td>\n",
       "      <td>0</td>\n",
       "    </tr>\n",
       "    <tr>\n",
       "      <th>51</th>\n",
       "      <td>E1000052</td>\n",
       "      <td>N</td>\n",
       "      <td>20150416</td>\n",
       "      <td>0</td>\n",
       "      <td>NaN</td>\n",
       "      <td>10001</td>\n",
       "      <td>F</td>\n",
       "      <td>Y</td>\n",
       "      <td>Y</td>\n",
       "      <td>Y</td>\n",
       "      <td>...</td>\n",
       "      <td>0</td>\n",
       "      <td>0</td>\n",
       "      <td>0</td>\n",
       "      <td>0</td>\n",
       "      <td>0</td>\n",
       "      <td>0</td>\n",
       "      <td>0</td>\n",
       "      <td>1</td>\n",
       "      <td>1</td>\n",
       "      <td>0</td>\n",
       "    </tr>\n",
       "    <tr>\n",
       "      <th>52</th>\n",
       "      <td>E1000053</td>\n",
       "      <td>N</td>\n",
       "      <td>20121022</td>\n",
       "      <td>1</td>\n",
       "      <td>NaN</td>\n",
       "      <td>10001</td>\n",
       "      <td>M</td>\n",
       "      <td>N</td>\n",
       "      <td>Y</td>\n",
       "      <td>N</td>\n",
       "      <td>...</td>\n",
       "      <td>0</td>\n",
       "      <td>0</td>\n",
       "      <td>0</td>\n",
       "      <td>0</td>\n",
       "      <td>0</td>\n",
       "      <td>0</td>\n",
       "      <td>0</td>\n",
       "      <td>0</td>\n",
       "      <td>0</td>\n",
       "      <td>1</td>\n",
       "    </tr>\n",
       "    <tr>\n",
       "      <th>53</th>\n",
       "      <td>E1000054</td>\n",
       "      <td>N</td>\n",
       "      <td>20160210</td>\n",
       "      <td>2</td>\n",
       "      <td>NaN</td>\n",
       "      <td>10001</td>\n",
       "      <td>F</td>\n",
       "      <td>N</td>\n",
       "      <td>Y</td>\n",
       "      <td>N</td>\n",
       "      <td>...</td>\n",
       "      <td>0</td>\n",
       "      <td>1</td>\n",
       "      <td>0</td>\n",
       "      <td>1</td>\n",
       "      <td>0</td>\n",
       "      <td>1</td>\n",
       "      <td>0</td>\n",
       "      <td>0</td>\n",
       "      <td>1</td>\n",
       "      <td>0</td>\n",
       "    </tr>\n",
       "    <tr>\n",
       "      <th>54</th>\n",
       "      <td>E1000055</td>\n",
       "      <td>N</td>\n",
       "      <td>20161028</td>\n",
       "      <td>1</td>\n",
       "      <td>NaN</td>\n",
       "      <td>10001</td>\n",
       "      <td>M</td>\n",
       "      <td>N</td>\n",
       "      <td>Y</td>\n",
       "      <td>N</td>\n",
       "      <td>...</td>\n",
       "      <td>0</td>\n",
       "      <td>1</td>\n",
       "      <td>1</td>\n",
       "      <td>0</td>\n",
       "      <td>0</td>\n",
       "      <td>0</td>\n",
       "      <td>1</td>\n",
       "      <td>0</td>\n",
       "      <td>0</td>\n",
       "      <td>0</td>\n",
       "    </tr>\n",
       "    <tr>\n",
       "      <th>55</th>\n",
       "      <td>E1000056</td>\n",
       "      <td>Y</td>\n",
       "      <td>20130515</td>\n",
       "      <td>3</td>\n",
       "      <td>NaN</td>\n",
       "      <td>10001</td>\n",
       "      <td>M</td>\n",
       "      <td>Y</td>\n",
       "      <td>Y</td>\n",
       "      <td>Y</td>\n",
       "      <td>...</td>\n",
       "      <td>0</td>\n",
       "      <td>0</td>\n",
       "      <td>0</td>\n",
       "      <td>0</td>\n",
       "      <td>0</td>\n",
       "      <td>0</td>\n",
       "      <td>0</td>\n",
       "      <td>1</td>\n",
       "      <td>0</td>\n",
       "      <td>0</td>\n",
       "    </tr>\n",
       "    <tr>\n",
       "      <th>56</th>\n",
       "      <td>E1000057</td>\n",
       "      <td>Y</td>\n",
       "      <td>20200716</td>\n",
       "      <td>1</td>\n",
       "      <td>NaN</td>\n",
       "      <td>10001</td>\n",
       "      <td>F</td>\n",
       "      <td>Y</td>\n",
       "      <td>Y</td>\n",
       "      <td>Y</td>\n",
       "      <td>...</td>\n",
       "      <td>1</td>\n",
       "      <td>1</td>\n",
       "      <td>0</td>\n",
       "      <td>0</td>\n",
       "      <td>0</td>\n",
       "      <td>0</td>\n",
       "      <td>0</td>\n",
       "      <td>0</td>\n",
       "      <td>0</td>\n",
       "      <td>0</td>\n",
       "    </tr>\n",
       "    <tr>\n",
       "      <th>57</th>\n",
       "      <td>E1000058</td>\n",
       "      <td>Y</td>\n",
       "      <td>20190209</td>\n",
       "      <td>5</td>\n",
       "      <td>NaN</td>\n",
       "      <td>10001</td>\n",
       "      <td>M</td>\n",
       "      <td>Y</td>\n",
       "      <td>Y</td>\n",
       "      <td>Y</td>\n",
       "      <td>...</td>\n",
       "      <td>0</td>\n",
       "      <td>0</td>\n",
       "      <td>0</td>\n",
       "      <td>0</td>\n",
       "      <td>0</td>\n",
       "      <td>0</td>\n",
       "      <td>0</td>\n",
       "      <td>0</td>\n",
       "      <td>0</td>\n",
       "      <td>0</td>\n",
       "    </tr>\n",
       "    <tr>\n",
       "      <th>58</th>\n",
       "      <td>E1000059</td>\n",
       "      <td>N</td>\n",
       "      <td>20171023</td>\n",
       "      <td>2</td>\n",
       "      <td>NaN</td>\n",
       "      <td>10001</td>\n",
       "      <td>F</td>\n",
       "      <td>N</td>\n",
       "      <td>Y</td>\n",
       "      <td>Y</td>\n",
       "      <td>...</td>\n",
       "      <td>0</td>\n",
       "      <td>1</td>\n",
       "      <td>0</td>\n",
       "      <td>0</td>\n",
       "      <td>0</td>\n",
       "      <td>0</td>\n",
       "      <td>0</td>\n",
       "      <td>0</td>\n",
       "      <td>0</td>\n",
       "      <td>0</td>\n",
       "    </tr>\n",
       "    <tr>\n",
       "      <th>59</th>\n",
       "      <td>E1000060</td>\n",
       "      <td>Y</td>\n",
       "      <td>20180927</td>\n",
       "      <td>1</td>\n",
       "      <td>NaN</td>\n",
       "      <td>10001</td>\n",
       "      <td>M</td>\n",
       "      <td>Y</td>\n",
       "      <td>Y</td>\n",
       "      <td>Y</td>\n",
       "      <td>...</td>\n",
       "      <td>0</td>\n",
       "      <td>0</td>\n",
       "      <td>1</td>\n",
       "      <td>0</td>\n",
       "      <td>0</td>\n",
       "      <td>0</td>\n",
       "      <td>0</td>\n",
       "      <td>0</td>\n",
       "      <td>0</td>\n",
       "      <td>0</td>\n",
       "    </tr>\n",
       "  </tbody>\n",
       "</table>\n",
       "<p>10 rows × 46 columns</p>\n",
       "</div>"
      ],
      "text/plain": [
       "          id status  new_date  bidet_cnt  w_disp_cnt  cust_cd sex_cd  \\\n",
       "50  E1000051      Y  20200515          0         NaN    10001      F   \n",
       "51  E1000052      N  20150416          0         NaN    10001      F   \n",
       "52  E1000053      N  20121022          1         NaN    10001      M   \n",
       "53  E1000054      N  20160210          2         NaN    10001      F   \n",
       "54  E1000055      N  20161028          1         NaN    10001      M   \n",
       "55  E1000056      Y  20130515          3         NaN    10001      M   \n",
       "56  E1000057      Y  20200716          1         NaN    10001      F   \n",
       "57  E1000058      Y  20190209          5         NaN    10001      M   \n",
       "58  E1000059      N  20171023          2         NaN    10001      F   \n",
       "59  E1000060      Y  20180927          1         NaN    10001      M   \n",
       "\n",
       "   w_disp_yn bidet_yn comb_prod_yn  ... day_cnt_개통 day_cnt_변경/조회 day_cnt_업무협조  \\\n",
       "50         Y        Y            Y  ...          0             0            0   \n",
       "51         Y        Y            Y  ...          0             0            0   \n",
       "52         N        Y            N  ...          0             0            0   \n",
       "53         N        Y            N  ...          0             1            0   \n",
       "54         N        Y            N  ...          0             1            1   \n",
       "55         Y        Y            Y  ...          0             0            0   \n",
       "56         Y        Y            Y  ...          1             1            0   \n",
       "57         Y        Y            Y  ...          0             0            0   \n",
       "58         N        Y            Y  ...          0             1            0   \n",
       "59         Y        Y            Y  ...          0             0            1   \n",
       "\n",
       "   day_cnt_이용 day_cnt_정보보호/언론보도 day_cnt_채널 day_cnt_청구 수/미납  day_cnt_품질  \\\n",
       "50          0                 0          0               1           0   \n",
       "51          0                 0          0               0           1   \n",
       "52          0                 0          0               0           0   \n",
       "53          1                 0          1               0           0   \n",
       "54          0                 0          0               1           0   \n",
       "55          0                 0          0               0           1   \n",
       "56          0                 0          0               0           0   \n",
       "57          0                 0          0               0           0   \n",
       "58          0                 0          0               0           0   \n",
       "59          0                 0          0               0           0   \n",
       "\n",
       "    day_cnt_해지  day_cnt_혜택  \n",
       "50           0           0  \n",
       "51           1           0  \n",
       "52           0           1  \n",
       "53           1           0  \n",
       "54           0           0  \n",
       "55           0           0  \n",
       "56           0           0  \n",
       "57           0           0  \n",
       "58           0           0  \n",
       "59           0           0  \n",
       "\n",
       "[10 rows x 46 columns]"
      ]
     },
     "execution_count": 45,
     "metadata": {},
     "output_type": "execute_result"
    }
   ],
   "source": [
    "# 결측치 상세 확인하기\n",
    "train_data[train_data['w_disp_cnt'].isnull()]"
   ]
  },
  {
   "cell_type": "markdown",
   "metadata": {},
   "source": [
    "### 2) 결측치 대체하기"
   ]
  },
  {
   "cell_type": "code",
   "execution_count": 46,
   "metadata": {
    "ExecuteTime": {
     "end_time": "2023-03-10T04:25:20.782508Z",
     "start_time": "2023-03-10T04:25:20.770439Z"
    }
   },
   "outputs": [
    {
     "name": "stdout",
     "output_type": "stream",
     "text": [
      "평균값: 0.7372067648663393\n",
      "중위값: 1.0\n",
      "최빈값: 0    1.0\n",
      "dtype: float64\n"
     ]
    }
   ],
   "source": [
    "# 평균값, 중위값, 최빈값 확인하기\n",
    "print(\"평균값:\",train_data['w_disp_cnt'].mean())\n",
    "print(\"중위값:\",train_data['w_disp_cnt'].median())\n",
    "print(\"최빈값:\",train_data['w_disp_cnt'].mode())"
   ]
  },
  {
   "cell_type": "code",
   "execution_count": 47,
   "metadata": {
    "ExecuteTime": {
     "end_time": "2023-03-10T04:25:21.710896Z",
     "start_time": "2023-03-10T04:25:20.784060Z"
    }
   },
   "outputs": [
    {
     "name": "stderr",
     "output_type": "stream",
     "text": [
      "C:\\Users\\user\\anaconda3\\lib\\site-packages\\seaborn\\distributions.py:2557: FutureWarning: `distplot` is a deprecated function and will be removed in a future version. Please adapt your code to use either `displot` (a figure-level function with similar flexibility) or `histplot` (an axes-level function for histograms).\n",
      "  warnings.warn(msg, FutureWarning)\n",
      "findfont: Font family ['NanumGothicCoding'] not found. Falling back to DejaVu Sans.\n",
      "C:\\Users\\user\\anaconda3\\lib\\site-packages\\matplotlib\\backends\\backend_agg.py:238: RuntimeWarning: Glyph 48516 missing from current font.\n",
      "  font.set_text(s, 0.0, flags=flags)\n",
      "C:\\Users\\user\\anaconda3\\lib\\site-packages\\matplotlib\\backends\\backend_agg.py:238: RuntimeWarning: Glyph 54252 missing from current font.\n",
      "  font.set_text(s, 0.0, flags=flags)\n",
      "findfont: Font family ['NanumGothicCoding'] not found. Falling back to DejaVu Sans.\n",
      "C:\\Users\\user\\anaconda3\\lib\\site-packages\\matplotlib\\backends\\backend_agg.py:201: RuntimeWarning: Glyph 48516 missing from current font.\n",
      "  font.set_text(s, 0, flags=flags)\n",
      "C:\\Users\\user\\anaconda3\\lib\\site-packages\\matplotlib\\backends\\backend_agg.py:201: RuntimeWarning: Glyph 54252 missing from current font.\n",
      "  font.set_text(s, 0, flags=flags)\n"
     ]
    },
    {
     "data": {
      "image/png": "[encoded data removed]",
      "text/plain": [
       "<Figure size 720x432 with 1 Axes>"
      ]
     },
     "metadata": {
      "needs_background": "light"
     },
     "output_type": "display_data"
    }
   ],
   "source": [
    "# 그래프의 크기 지정하기\n",
    "plt.figure(figsize=(10,6)) \n",
    "# distplot 생성하기\n",
    "sns.distplot(x=train_data['w_disp_cnt'])\n",
    "# 그래프의 제목 지정하기\n",
    "plt.title(\"[w_disp_cnt 분포]\") \n",
    "plt.show()"
   ]
  },
  {
   "cell_type": "code",
   "execution_count": 48,
   "metadata": {
    "ExecuteTime": {
     "end_time": "2023-03-10T04:25:22.426095Z",
     "start_time": "2023-03-10T04:25:21.712744Z"
    }
   },
   "outputs": [
    {
     "name": "stderr",
     "output_type": "stream",
     "text": [
      "C:\\Users\\user\\anaconda3\\lib\\site-packages\\seaborn\\distributions.py:2557: FutureWarning: `distplot` is a deprecated function and will be removed in a future version. Please adapt your code to use either `displot` (a figure-level function with similar flexibility) or `histplot` (an axes-level function for histograms).\n",
      "  warnings.warn(msg, FutureWarning)\n",
      "C:\\Users\\user\\anaconda3\\lib\\site-packages\\matplotlib\\backends\\backend_agg.py:238: RuntimeWarning: Glyph 48516 missing from current font.\n",
      "  font.set_text(s, 0.0, flags=flags)\n",
      "C:\\Users\\user\\anaconda3\\lib\\site-packages\\matplotlib\\backends\\backend_agg.py:238: RuntimeWarning: Glyph 54252 missing from current font.\n",
      "  font.set_text(s, 0.0, flags=flags)\n",
      "C:\\Users\\user\\anaconda3\\lib\\site-packages\\matplotlib\\backends\\backend_agg.py:201: RuntimeWarning: Glyph 48516 missing from current font.\n",
      "  font.set_text(s, 0, flags=flags)\n",
      "C:\\Users\\user\\anaconda3\\lib\\site-packages\\matplotlib\\backends\\backend_agg.py:201: RuntimeWarning: Glyph 54252 missing from current font.\n",
      "  font.set_text(s, 0, flags=flags)\n"
     ]
    },
    {
     "data": {
      "image/png": "[encoded data removed]",
      "text/plain": [
       "<Figure size 720x432 with 1 Axes>"
      ]
     },
     "metadata": {
      "needs_background": "light"
     },
     "output_type": "display_data"
    }
   ],
   "source": [
    "# 그래프 크기 지정하기\n",
    "plt.figure(figsize=(10,6)) \n",
    "# 디스트플롯 생성하기 # 차트의 크기 지정\n",
    "sns.distplot(x=train_data[train_data['w_disp_cnt']<10]['w_disp_cnt']) \n",
    "# 그래프의 제목 지정하기\n",
    "plt.title(\"[w_disp_cnt 분포]\") \n",
    "plt.show()"
   ]
  },
  {
   "cell_type": "code",
   "execution_count": 50,
   "metadata": {
    "ExecuteTime": {
     "end_time": "2023-03-10T04:25:22.486540Z",
     "start_time": "2023-03-10T04:25:22.428130Z"
    }
   },
   "outputs": [
    {
     "data": {
      "text/plain": [
       "(0, 0)"
      ]
     },
     "execution_count": 50,
     "metadata": {},
     "output_type": "execute_result"
    }
   ],
   "source": [
    "# df.fillna(\"대체값\", inplace=True)\n",
    "train_data['w_disp_cnt'].fillna(train_data['w_disp_cnt'].median(),inplace=True)\n",
    "\n",
    "# 결측치 제거 결과 확인하기\n",
    "train_data.isnull().sum().sum(),test_data.isnull().sum().sum()"
   ]
  },
  {
   "cell_type": "markdown",
   "metadata": {},
   "source": [
    "## 5. 데이터 유형 변경하기"
   ]
  },
  {
   "cell_type": "code",
   "execution_count": 51,
   "metadata": {
    "ExecuteTime": {
     "end_time": "2023-03-10T04:25:22.547594Z",
     "start_time": "2023-03-10T04:25:22.489450Z"
    }
   },
   "outputs": [
    {
     "name": "stdout",
     "output_type": "stream",
     "text": [
      "<class 'pandas.core.frame.DataFrame'>\n",
      "RangeIndex: 55000 entries, 0 to 54999\n",
      "Data columns (total 46 columns):\n",
      " #   Column                     Non-Null Count  Dtype  \n",
      "---  ------                     --------------  -----  \n",
      " 0   id                         55000 non-null  object \n",
      " 1   status                     55000 non-null  object \n",
      " 2   new_date                   55000 non-null  int64  \n",
      " 3   bidet_cnt                  55000 non-null  int64  \n",
      " 4   w_disp_cnt                 55000 non-null  float64\n",
      " 5   cust_cd                    55000 non-null  int64  \n",
      " 6   sex_cd                     55000 non-null  object \n",
      " 7   w_disp_yn                  55000 non-null  object \n",
      " 8   bidet_yn                   55000 non-null  object \n",
      " 9   comb_prod_yn               55000 non-null  object \n",
      " 10  bidet_comb_yn              55000 non-null  object \n",
      " 11  w_disp_comb_yn             55000 non-null  object \n",
      " 12  bidet_trmn_eperd_cd        55000 non-null  object \n",
      " 13  w_disp_trmn_eperd_cd       55000 non-null  object \n",
      " 14  w_disp_trmn_why_cd         55000 non-null  object \n",
      " 15  bidet_trmn_why_cd          55000 non-null  object \n",
      " 16  npay_yn                    55000 non-null  object \n",
      " 17  3m_avg_bill_amt            55000 non-null  float64\n",
      " 18  3m_bidet_avg_amt           55000 non-null  int64  \n",
      " 19  3m_w_disp_avg_amt          55000 non-null  int64  \n",
      " 20  w_disp_engt_rperd_cd       55000 non-null  object \n",
      " 21  bidet_engt_rperd_cd        55000 non-null  object \n",
      " 22  voc_cnt_voc_cnt_AS         55000 non-null  int64  \n",
      " 23  voc_cnt_voc_cnt_가입         55000 non-null  int64  \n",
      " 24  voc_cnt_voc_cnt_개통         55000 non-null  int64  \n",
      " 25  voc_cnt_voc_cnt_변경/조회      55000 non-null  int64  \n",
      " 26  voc_cnt_voc_cnt_업무협조       55000 non-null  int64  \n",
      " 27  voc_cnt_voc_cnt_이용         55000 non-null  int64  \n",
      " 28  voc_cnt_voc_cnt_정보보호/언론보도  55000 non-null  int64  \n",
      " 29  voc_cnt_voc_cnt_채널         55000 non-null  int64  \n",
      " 30  voc_cnt_voc_cnt_청구 수/미납    55000 non-null  int64  \n",
      " 31  voc_cnt_voc_cnt_품질         55000 non-null  int64  \n",
      " 32  voc_cnt_voc_cnt_해지         55000 non-null  int64  \n",
      " 33  voc_cnt_voc_cnt_혜택         55000 non-null  int64  \n",
      " 34  day_cnt_AS                 55000 non-null  int64  \n",
      " 35  day_cnt_가입                 55000 non-null  int64  \n",
      " 36  day_cnt_개통                 55000 non-null  int64  \n",
      " 37  day_cnt_변경/조회              55000 non-null  int64  \n",
      " 38  day_cnt_업무협조               55000 non-null  int64  \n",
      " 39  day_cnt_이용                 55000 non-null  int64  \n",
      " 40  day_cnt_정보보호/언론보도          55000 non-null  int64  \n",
      " 41  day_cnt_채널                 55000 non-null  int64  \n",
      " 42  day_cnt_청구 수/미납            55000 non-null  int64  \n",
      " 43  day_cnt_품질                 55000 non-null  int64  \n",
      " 44  day_cnt_해지                 55000 non-null  int64  \n",
      " 45  day_cnt_혜택                 55000 non-null  int64  \n",
      "dtypes: float64(2), int64(29), object(15)\n",
      "memory usage: 19.3+ MB\n"
     ]
    }
   ],
   "source": [
    "train_data.info()"
   ]
  },
  {
   "cell_type": "code",
   "execution_count": 52,
   "metadata": {
    "ExecuteTime": {
     "end_time": "2023-03-10T04:25:22.563254Z",
     "start_time": "2023-03-10T04:25:22.550766Z"
    }
   },
   "outputs": [
    {
     "data": {
      "text/html": [
       "<div>\n",
       "<style scoped>\n",
       "    .dataframe tbody tr th:only-of-type {\n",
       "        vertical-align: middle;\n",
       "    }\n",
       "\n",
       "    .dataframe tbody tr th {\n",
       "        vertical-align: top;\n",
       "    }\n",
       "\n",
       "    .dataframe thead th {\n",
       "        text-align: right;\n",
       "    }\n",
       "</style>\n",
       "<table border=\"1\" class=\"dataframe\">\n",
       "  <thead>\n",
       "    <tr style=\"text-align: right;\">\n",
       "      <th></th>\n",
       "      <th>new_date</th>\n",
       "      <th>cust_cd</th>\n",
       "    </tr>\n",
       "  </thead>\n",
       "  <tbody>\n",
       "    <tr>\n",
       "      <th>0</th>\n",
       "      <td>20170421</td>\n",
       "      <td>10001</td>\n",
       "    </tr>\n",
       "    <tr>\n",
       "      <th>1</th>\n",
       "      <td>20131203</td>\n",
       "      <td>10001</td>\n",
       "    </tr>\n",
       "    <tr>\n",
       "      <th>2</th>\n",
       "      <td>20170731</td>\n",
       "      <td>10001</td>\n",
       "    </tr>\n",
       "    <tr>\n",
       "      <th>3</th>\n",
       "      <td>20090930</td>\n",
       "      <td>10001</td>\n",
       "    </tr>\n",
       "    <tr>\n",
       "      <th>4</th>\n",
       "      <td>20151121</td>\n",
       "      <td>10001</td>\n",
       "    </tr>\n",
       "    <tr>\n",
       "      <th>5</th>\n",
       "      <td>20120711</td>\n",
       "      <td>10001</td>\n",
       "    </tr>\n",
       "  </tbody>\n",
       "</table>\n",
       "</div>"
      ],
      "text/plain": [
       "   new_date  cust_cd\n",
       "0  20170421    10001\n",
       "1  20131203    10001\n",
       "2  20170731    10001\n",
       "3  20090930    10001\n",
       "4  20151121    10001\n",
       "5  20120711    10001"
      ]
     },
     "execution_count": 52,
     "metadata": {},
     "output_type": "execute_result"
    }
   ],
   "source": [
    "# 실제와 데이터 유형이 다른 칼럼 확인하기\n",
    "train_data.loc[:5,['new_date','cust_cd']]"
   ]
  },
  {
   "cell_type": "markdown",
   "metadata": {
    "tags": []
   },
   "source": [
    "### 1) new_date(신규 일자)를 datetime(날짜형)으로 변경"
   ]
  },
  {
   "cell_type": "code",
   "execution_count": 53,
   "metadata": {
    "ExecuteTime": {
     "end_time": "2023-03-10T04:25:23.245043Z",
     "start_time": "2023-03-10T04:25:22.565367Z"
    }
   },
   "outputs": [
    {
     "name": "stdout",
     "output_type": "stream",
     "text": [
      "new_date:  datetime64[ns]\n"
     ]
    }
   ],
   "source": [
    "# String을 datetime으로 변경하기\n",
    "def GetDateTime(date):\n",
    "    date = datetime.strptime(str(date),'%Y%m%d')\n",
    "    return date\n",
    "\n",
    "# map함수로 new_date에 GetDateTime 함수를 적용하여 datetime으로 변경하기\n",
    "train_data['new_date']=train_data['new_date'].map(lambda x: GetDateTime(x))\n",
    "test_data['new_date']=test_data['new_date'].map(lambda x: GetDateTime(x))\n",
    "\n",
    "# 데이터 유형 확인하기\n",
    "print('new_date: ',train_data['new_date'].dtype)"
   ]
  },
  {
   "cell_type": "markdown",
   "metadata": {},
   "source": [
    "### 2) cust_cd(고객코드)를 object로 변경"
   ]
  },
  {
   "cell_type": "code",
   "execution_count": 54,
   "metadata": {
    "ExecuteTime": {
     "end_time": "2023-03-10T04:25:23.275246Z",
     "start_time": "2023-03-10T04:25:23.246544Z"
    }
   },
   "outputs": [
    {
     "name": "stdout",
     "output_type": "stream",
     "text": [
      "cust_cd:  object\n"
     ]
    }
   ],
   "source": [
    "# astype() 함수로 데이터 유형 변경하기\n",
    "train_data['cust_cd']=train_data['cust_cd'].astype('O')\n",
    "test_data['cust_cd']=test_data['cust_cd'].astype('O')\n",
    "\n",
    "# 데이터 유형 확인하기\n",
    "print('cust_cd: ',train_data['cust_cd'].dtype)"
   ]
  },
  {
   "cell_type": "code",
   "execution_count": null,
   "metadata": {},
   "outputs": [],
   "source": []
  },
  {
   "cell_type": "markdown",
   "metadata": {},
   "source": [
    "## 6. 파생 변수 추가하기"
   ]
  },
  {
   "cell_type": "markdown",
   "metadata": {
    "tags": []
   },
   "source": [
    "### 1) new_date(신규일자) 관련 파생 변수 추가"
   ]
  },
  {
   "cell_type": "code",
   "execution_count": 55,
   "metadata": {
    "ExecuteTime": {
     "end_time": "2023-03-10T04:25:23.290895Z",
     "start_time": "2023-03-10T04:25:23.277609Z"
    }
   },
   "outputs": [
    {
     "data": {
      "text/plain": [
       "(Timestamp('2020-08-31 00:00:00'), Timestamp('2020-09-30 00:00:00'))"
      ]
     },
     "execution_count": 55,
     "metadata": {},
     "output_type": "execute_result"
    }
   ],
   "source": [
    "# 데이터의 최댓값 확인하기\n",
    "train_data['new_date'].max(),test_data['new_date'].max()"
   ]
  },
  {
   "cell_type": "code",
   "execution_count": 56,
   "metadata": {
    "ExecuteTime": {
     "end_time": "2023-03-10T04:25:23.305976Z",
     "start_time": "2023-03-10T04:25:23.292958Z"
    }
   },
   "outputs": [
    {
     "data": {
      "text/plain": [
       "0   1228 days\n",
       "1   2463 days\n",
       "2   1127 days\n",
       "3   3988 days\n",
       "4   1745 days\n",
       "Name: new_date, dtype: timedelta64[ns]"
      ]
     },
     "execution_count": 56,
     "metadata": {},
     "output_type": "execute_result"
    }
   ],
   "source": [
    "# 샘플 코드 확인하기\n",
    "(datetime(2020,8,31,0,0) - train_data['new_date']).head()"
   ]
  },
  {
   "cell_type": "code",
   "execution_count": 57,
   "metadata": {
    "ExecuteTime": {
     "end_time": "2023-03-10T04:25:23.320834Z",
     "start_time": "2023-03-10T04:25:23.307955Z"
    }
   },
   "outputs": [
    {
     "data": {
      "text/plain": [
       "0    1228\n",
       "1    2463\n",
       "2    1127\n",
       "3    3988\n",
       "4    1745\n",
       "Name: join_period, dtype: int64"
      ]
     },
     "execution_count": 57,
     "metadata": {},
     "output_type": "execute_result"
    }
   ],
   "source": [
    "# timedelta64형인 가입기간을 int형으로 변경(.dt.days붙임)하여 파생 변수 추가하기\n",
    "train_data['join_period']=(datetime(2020,8,31,0,0) - train_data['new_date']).dt.days\n",
    "test_data['join_period']=(datetime(2020,9,30,0,0) - test_data['new_date']).dt.days\n",
    "\n",
    "train_data['join_period'].head()"
   ]
  },
  {
   "cell_type": "markdown",
   "metadata": {
    "tags": []
   },
   "source": [
    "### 2) XXX(상품, 예)fountain,bidet)_trmn_eperd_cd(해지경과기간코드) 관련 파생 변수 추가하기"
   ]
  },
  {
   "cell_type": "code",
   "execution_count": 58,
   "metadata": {
    "ExecuteTime": {
     "end_time": "2023-03-10T04:25:23.335606Z",
     "start_time": "2023-03-10T04:25:23.324483Z"
    }
   },
   "outputs": [],
   "source": [
    "# 대상 칼럼 리스트 지정하기\n",
    "teperd_cols=['w_disp_trmn_eperd_cd','bidet_trmn_eperd_cd']"
   ]
  },
  {
   "cell_type": "code",
   "execution_count": 59,
   "metadata": {
    "ExecuteTime": {
     "end_time": "2023-03-10T04:25:23.426345Z",
     "start_time": "2023-03-10T04:25:23.379753Z"
    }
   },
   "outputs": [
    {
     "data": {
      "text/html": [
       "<div>\n",
       "<style scoped>\n",
       "    .dataframe tbody tr th:only-of-type {\n",
       "        vertical-align: middle;\n",
       "    }\n",
       "\n",
       "    .dataframe tbody tr th {\n",
       "        vertical-align: top;\n",
       "    }\n",
       "\n",
       "    .dataframe thead th {\n",
       "        text-align: right;\n",
       "    }\n",
       "</style>\n",
       "<table border=\"1\" class=\"dataframe\">\n",
       "  <thead>\n",
       "    <tr style=\"text-align: right;\">\n",
       "      <th></th>\n",
       "      <th>w_disp_trmn_eperd_cd</th>\n",
       "      <th>bidet_trmn_eperd_cd</th>\n",
       "    </tr>\n",
       "  </thead>\n",
       "  <tbody>\n",
       "    <tr>\n",
       "      <th>0</th>\n",
       "      <td>_</td>\n",
       "      <td>_</td>\n",
       "    </tr>\n",
       "    <tr>\n",
       "      <th>1</th>\n",
       "      <td>_</td>\n",
       "      <td>_</td>\n",
       "    </tr>\n",
       "    <tr>\n",
       "      <th>2</th>\n",
       "      <td>_</td>\n",
       "      <td>_</td>\n",
       "    </tr>\n",
       "    <tr>\n",
       "      <th>3</th>\n",
       "      <td>_</td>\n",
       "      <td>_</td>\n",
       "    </tr>\n",
       "    <tr>\n",
       "      <th>4</th>\n",
       "      <td>_</td>\n",
       "      <td>_</td>\n",
       "    </tr>\n",
       "    <tr>\n",
       "      <th>...</th>\n",
       "      <td>...</td>\n",
       "      <td>...</td>\n",
       "    </tr>\n",
       "    <tr>\n",
       "      <th>54995</th>\n",
       "      <td>_</td>\n",
       "      <td>_</td>\n",
       "    </tr>\n",
       "    <tr>\n",
       "      <th>54996</th>\n",
       "      <td>_</td>\n",
       "      <td>R37</td>\n",
       "    </tr>\n",
       "    <tr>\n",
       "      <th>54997</th>\n",
       "      <td>_</td>\n",
       "      <td>_</td>\n",
       "    </tr>\n",
       "    <tr>\n",
       "      <th>54998</th>\n",
       "      <td>_</td>\n",
       "      <td>_</td>\n",
       "    </tr>\n",
       "    <tr>\n",
       "      <th>54999</th>\n",
       "      <td>_</td>\n",
       "      <td>_</td>\n",
       "    </tr>\n",
       "  </tbody>\n",
       "</table>\n",
       "<p>55000 rows × 2 columns</p>\n",
       "</div>"
      ],
      "text/plain": [
       "      w_disp_trmn_eperd_cd bidet_trmn_eperd_cd\n",
       "0                        _                   _\n",
       "1                        _                   _\n",
       "2                        _                   _\n",
       "3                        _                   _\n",
       "4                        _                   _\n",
       "...                    ...                 ...\n",
       "54995                    _                   _\n",
       "54996                    _                 R37\n",
       "54997                    _                   _\n",
       "54998                    _                   _\n",
       "54999                    _                   _\n",
       "\n",
       "[55000 rows x 2 columns]"
      ]
     },
     "execution_count": 59,
     "metadata": {},
     "output_type": "execute_result"
    }
   ],
   "source": [
    "# 대상 칼럼 확인하기\n",
    "train_data.loc[:,teperd_cols]"
   ]
  },
  {
   "cell_type": "code",
   "execution_count": 60,
   "metadata": {
    "ExecuteTime": {
     "end_time": "2023-03-10T04:25:23.456461Z",
     "start_time": "2023-03-10T04:25:23.428987Z"
    }
   },
   "outputs": [
    {
     "data": {
      "text/plain": [
       "_      51578\n",
       "R37     1161\n",
       "0        462\n",
       "R01      120\n",
       "R02       86\n",
       "R06       85\n",
       "R05       82\n",
       "R04       78\n",
       "R03       69\n",
       "R09       67\n",
       "R28       63\n",
       "R18       60\n",
       "R11       58\n",
       "R15       55\n",
       "R07       54\n",
       "R10       53\n",
       "R12       53\n",
       "R25       51\n",
       "R14       50\n",
       "R17       48\n",
       "R08       46\n",
       "R19       45\n",
       "R26       45\n",
       "R16       43\n",
       "R27       40\n",
       "R21       39\n",
       "R35       39\n",
       "R24       38\n",
       "R23       37\n",
       "R13       37\n",
       "R30       34\n",
       "R29       32\n",
       "R32       31\n",
       "R20       31\n",
       "R31       30\n",
       "R22       30\n",
       "R34       28\n",
       "R36       26\n",
       "R33       16\n",
       "Name: w_disp_trmn_eperd_cd, dtype: int64"
      ]
     },
     "execution_count": 60,
     "metadata": {},
     "output_type": "execute_result"
    }
   ],
   "source": [
    "# w_disp_trmn_eperd_cd의 범주 분포 확인하기\n",
    "train_data['w_disp_trmn_eperd_cd'].value_counts()"
   ]
  },
  {
   "cell_type": "code",
   "execution_count": 61,
   "metadata": {
    "ExecuteTime": {
     "end_time": "2023-03-10T04:25:23.547966Z",
     "start_time": "2023-03-10T04:25:23.460124Z"
    },
    "tags": []
   },
   "outputs": [
    {
     "data": {
      "text/html": [
       "<div>\n",
       "<style scoped>\n",
       "    .dataframe tbody tr th:only-of-type {\n",
       "        vertical-align: middle;\n",
       "    }\n",
       "\n",
       "    .dataframe tbody tr th {\n",
       "        vertical-align: top;\n",
       "    }\n",
       "\n",
       "    .dataframe thead th {\n",
       "        text-align: right;\n",
       "    }\n",
       "</style>\n",
       "<table border=\"1\" class=\"dataframe\">\n",
       "  <thead>\n",
       "    <tr style=\"text-align: right;\">\n",
       "      <th></th>\n",
       "      <th>w_disp_teperd</th>\n",
       "      <th>bidet_teperd</th>\n",
       "    </tr>\n",
       "  </thead>\n",
       "  <tbody>\n",
       "    <tr>\n",
       "      <th>0</th>\n",
       "      <td>38</td>\n",
       "      <td>38</td>\n",
       "    </tr>\n",
       "    <tr>\n",
       "      <th>1</th>\n",
       "      <td>38</td>\n",
       "      <td>38</td>\n",
       "    </tr>\n",
       "    <tr>\n",
       "      <th>2</th>\n",
       "      <td>38</td>\n",
       "      <td>38</td>\n",
       "    </tr>\n",
       "    <tr>\n",
       "      <th>3</th>\n",
       "      <td>38</td>\n",
       "      <td>38</td>\n",
       "    </tr>\n",
       "    <tr>\n",
       "      <th>4</th>\n",
       "      <td>38</td>\n",
       "      <td>38</td>\n",
       "    </tr>\n",
       "    <tr>\n",
       "      <th>...</th>\n",
       "      <td>...</td>\n",
       "      <td>...</td>\n",
       "    </tr>\n",
       "    <tr>\n",
       "      <th>54995</th>\n",
       "      <td>38</td>\n",
       "      <td>38</td>\n",
       "    </tr>\n",
       "    <tr>\n",
       "      <th>54996</th>\n",
       "      <td>38</td>\n",
       "      <td>37</td>\n",
       "    </tr>\n",
       "    <tr>\n",
       "      <th>54997</th>\n",
       "      <td>38</td>\n",
       "      <td>38</td>\n",
       "    </tr>\n",
       "    <tr>\n",
       "      <th>54998</th>\n",
       "      <td>38</td>\n",
       "      <td>38</td>\n",
       "    </tr>\n",
       "    <tr>\n",
       "      <th>54999</th>\n",
       "      <td>38</td>\n",
       "      <td>38</td>\n",
       "    </tr>\n",
       "  </tbody>\n",
       "</table>\n",
       "<p>55000 rows × 2 columns</p>\n",
       "</div>"
      ],
      "text/plain": [
       "       w_disp_teperd  bidet_teperd\n",
       "0                 38            38\n",
       "1                 38            38\n",
       "2                 38            38\n",
       "3                 38            38\n",
       "4                 38            38\n",
       "...              ...           ...\n",
       "54995             38            38\n",
       "54996             38            37\n",
       "54997             38            38\n",
       "54998             38            38\n",
       "54999             38            38\n",
       "\n",
       "[55000 rows x 2 columns]"
      ]
     },
     "execution_count": 61,
     "metadata": {},
     "output_type": "execute_result"
    }
   ],
   "source": [
    "# RXX 코드를 정수형(int)로 변경하기 위한 함수 정의하기\n",
    "def Rcdtoint(Rcd):\n",
    "    if Rcd=='_': # 해지하지 않음\n",
    "        return 38\n",
    "    elif Rcd=='0': # 해지 당월\n",
    "        return 0\n",
    "    else:\n",
    "        return int(Rcd[1:3]) # 해지 후 경과 기간 숫자 부분만 남기기\n",
    "\n",
    "# 반복문 수행하면서 teperd_cols에 Rcdtoint() 함수 적용하기\n",
    "for column in teperd_cols:\n",
    "    new_column=column.replace('_trmn_eperd_cd','_teperd')\n",
    "    train_data[new_column]=train_data[column].apply(lambda x:Rcdtoint(x))\n",
    "    test_data[new_column]=test_data[column].apply(lambda x:Rcdtoint(x))\n",
    "\n",
    "train_data.iloc[:,-2:]"
   ]
  },
  {
   "cell_type": "markdown",
   "metadata": {},
   "source": [
    "### 3)\tXXX(상품, 예)fountain,bidet)__engt_rperd_cd(약정잔여기간코드) 관련 파생 변수 추가하기"
   ]
  },
  {
   "cell_type": "code",
   "execution_count": 62,
   "metadata": {
    "ExecuteTime": {
     "end_time": "2023-03-10T04:25:23.625489Z",
     "start_time": "2023-03-10T04:25:23.596723Z"
    }
   },
   "outputs": [
    {
     "data": {
      "text/html": [
       "<div>\n",
       "<style scoped>\n",
       "    .dataframe tbody tr th:only-of-type {\n",
       "        vertical-align: middle;\n",
       "    }\n",
       "\n",
       "    .dataframe tbody tr th {\n",
       "        vertical-align: top;\n",
       "    }\n",
       "\n",
       "    .dataframe thead th {\n",
       "        text-align: right;\n",
       "    }\n",
       "</style>\n",
       "<table border=\"1\" class=\"dataframe\">\n",
       "  <thead>\n",
       "    <tr style=\"text-align: right;\">\n",
       "      <th></th>\n",
       "      <th>w_disp_engt_rperd_cd</th>\n",
       "      <th>bidet_engt_rperd_cd</th>\n",
       "    </tr>\n",
       "  </thead>\n",
       "  <tbody>\n",
       "    <tr>\n",
       "      <th>0</th>\n",
       "      <td>R09</td>\n",
       "      <td>R12</td>\n",
       "    </tr>\n",
       "    <tr>\n",
       "      <th>1</th>\n",
       "      <td>_</td>\n",
       "      <td>R06</td>\n",
       "    </tr>\n",
       "    <tr>\n",
       "      <th>2</th>\n",
       "      <td>0</td>\n",
       "      <td>_</td>\n",
       "    </tr>\n",
       "    <tr>\n",
       "      <th>3</th>\n",
       "      <td>P36</td>\n",
       "      <td>R11</td>\n",
       "    </tr>\n",
       "    <tr>\n",
       "      <th>4</th>\n",
       "      <td>R27</td>\n",
       "      <td>R22</td>\n",
       "    </tr>\n",
       "  </tbody>\n",
       "</table>\n",
       "</div>"
      ],
      "text/plain": [
       "  w_disp_engt_rperd_cd bidet_engt_rperd_cd\n",
       "0                  R09                 R12\n",
       "1                    _                 R06\n",
       "2                    0                   _\n",
       "3                  P36                 R11\n",
       "4                  R27                 R22"
      ]
     },
     "execution_count": 62,
     "metadata": {},
     "output_type": "execute_result"
    }
   ],
   "source": [
    "# 대상 칼럼 리스트 지정하기\n",
    "erperd_cols=['w_disp_engt_rperd_cd', 'bidet_engt_rperd_cd']\n",
    "\n",
    "# 대상 칼럼 리스트 확인하기\n",
    "train_data.loc[:,erperd_cols].head() "
   ]
  },
  {
   "cell_type": "code",
   "execution_count": 63,
   "metadata": {
    "ExecuteTime": {
     "end_time": "2023-03-10T04:25:23.656111Z",
     "start_time": "2023-03-10T04:25:23.628349Z"
    }
   },
   "outputs": [
    {
     "data": {
      "text/plain": [
       "_      10996\n",
       "R12     3864\n",
       "R07     2108\n",
       "R06     1940\n",
       "R11     1888\n",
       "       ...  \n",
       "P33       29\n",
       "P36       20\n",
       "P35       20\n",
       "P34       19\n",
       "R34        1\n",
       "Name: bidet_engt_rperd_cd, Length: 71, dtype: int64"
      ]
     },
     "execution_count": 63,
     "metadata": {},
     "output_type": "execute_result"
    }
   ],
   "source": [
    "# bidet_engt_rperd_cd의 범주 분포 확인하기\n",
    "train_data['bidet_engt_rperd_cd'].value_counts()"
   ]
  },
  {
   "cell_type": "code",
   "execution_count": 64,
   "metadata": {
    "ExecuteTime": {
     "end_time": "2023-03-10T04:25:23.686325Z",
     "start_time": "2023-03-10T04:25:23.659247Z"
    }
   },
   "outputs": [
    {
     "data": {
      "text/plain": [
       "Index(['_', 'R12', 'R07', 'R06', 'R11', 'R10', 'R09', 'R13', 'R24', 'R08',\n",
       "       'R23', 'R14', 'R22', 'R05', 'R15', 'R04', 'R21', 'R02', 'R01', 'R30',\n",
       "       'R20', 'R18', 'R16', 'R03', 'R19', 'R29', 'R17', '0', 'R28', 'R25',\n",
       "       'P37', 'R26', 'R27', 'P01', '|', 'P02', 'P04', 'P06', 'P03', 'P07',\n",
       "       'P05', 'P08', 'P09', 'P11', 'P12', 'P10', 'P15', 'P14', 'P13', 'P16',\n",
       "       'P18', 'P19', 'P22', 'P20', 'P21', 'P24', 'P17', 'P23', 'P25', 'P26',\n",
       "       'P28', 'P31', 'P32', 'P27', 'P30', 'P29', 'P33', 'P36', 'P35', 'P34',\n",
       "       'R34'],\n",
       "      dtype='object')"
      ]
     },
     "execution_count": 64,
     "metadata": {},
     "output_type": "execute_result"
    }
   ],
   "source": [
    "# bidet_engt_rperd_cd의 범주값 확인하기\n",
    "train_data['bidet_engt_rperd_cd'].value_counts().index"
   ]
  },
  {
   "cell_type": "code",
   "execution_count": 65,
   "metadata": {
    "ExecuteTime": {
     "end_time": "2023-03-10T04:25:23.778819Z",
     "start_time": "2023-03-10T04:25:23.690009Z"
    }
   },
   "outputs": [
    {
     "data": {
      "text/html": [
       "<div>\n",
       "<style scoped>\n",
       "    .dataframe tbody tr th:only-of-type {\n",
       "        vertical-align: middle;\n",
       "    }\n",
       "\n",
       "    .dataframe tbody tr th {\n",
       "        vertical-align: top;\n",
       "    }\n",
       "\n",
       "    .dataframe thead th {\n",
       "        text-align: right;\n",
       "    }\n",
       "</style>\n",
       "<table border=\"1\" class=\"dataframe\">\n",
       "  <thead>\n",
       "    <tr style=\"text-align: right;\">\n",
       "      <th></th>\n",
       "      <th>w_disp_erperd</th>\n",
       "      <th>bidet_erperd</th>\n",
       "    </tr>\n",
       "  </thead>\n",
       "  <tbody>\n",
       "    <tr>\n",
       "      <th>0</th>\n",
       "      <td>-9</td>\n",
       "      <td>-12</td>\n",
       "    </tr>\n",
       "    <tr>\n",
       "      <th>1</th>\n",
       "      <td>38</td>\n",
       "      <td>-6</td>\n",
       "    </tr>\n",
       "    <tr>\n",
       "      <th>2</th>\n",
       "      <td>0</td>\n",
       "      <td>38</td>\n",
       "    </tr>\n",
       "    <tr>\n",
       "      <th>3</th>\n",
       "      <td>36</td>\n",
       "      <td>-11</td>\n",
       "    </tr>\n",
       "    <tr>\n",
       "      <th>4</th>\n",
       "      <td>-27</td>\n",
       "      <td>-22</td>\n",
       "    </tr>\n",
       "  </tbody>\n",
       "</table>\n",
       "</div>"
      ],
      "text/plain": [
       "   w_disp_erperd  bidet_erperd\n",
       "0             -9           -12\n",
       "1             38            -6\n",
       "2              0            38\n",
       "3             36           -11\n",
       "4            -27           -22"
      ]
     },
     "execution_count": 65,
     "metadata": {},
     "output_type": "execute_result"
    }
   ],
   "source": [
    "# RXX, PXX 코드를 정수형(int)로 변경하기 위한 함수 정의하기\n",
    "def RPcdtoint(RPcd):\n",
    "    if RPcd=='_': # 무약정\n",
    "        return int(38)\n",
    "    elif RPcd=='0': # 약정 만료월\n",
    "        return int(0)\n",
    "    elif RPcd[0]=='P': # 약정 만료 후 경과 기간\n",
    "        return int(RPcd[1:3])\n",
    "    elif RPcd=='|': # 이미 해지하여 무약정\n",
    "        return int(0)\n",
    "    else: # R이면\n",
    "        return -int(RPcd[1:3]) # 잔여 약정기간 음수처리\n",
    "\n",
    "# 반복문 수행하면서 erperd_cols에 RPcdtoint() 함수 적용하기\n",
    "for column in erperd_cols:\n",
    "    new_column=column.replace('_engt_rperd_cd','_erperd')\n",
    "    train_data[new_column]='' # 새로운 칼럼 추가하기\n",
    "    test_data[new_column]='' # 새로운 칼럼 추가하기\n",
    "    train_data[new_column]=train_data[column].map(lambda x:RPcdtoint(x))\n",
    "    test_data[new_column]=test_data[column].map(lambda x:RPcdtoint(x))\n",
    "\n",
    "train_data.iloc[:,-2:].head()"
   ]
  },
  {
   "cell_type": "markdown",
   "metadata": {
    "tags": []
   },
   "source": [
    "## 7. 불필요한 칼럼 삭제하기"
   ]
  },
  {
   "cell_type": "code",
   "execution_count": 66,
   "metadata": {
    "ExecuteTime": {
     "end_time": "2023-03-10T04:25:23.809449Z",
     "start_time": "2023-03-10T04:25:23.795610Z"
    }
   },
   "outputs": [],
   "source": [
    "# 빈 리스트 생성하기\n",
    "del_cols=[]"
   ]
  },
  {
   "cell_type": "markdown",
   "metadata": {},
   "source": [
    "### 1) id 칼럼 처리하기"
   ]
  },
  {
   "cell_type": "code",
   "execution_count": 67,
   "metadata": {
    "ExecuteTime": {
     "end_time": "2023-03-10T04:25:23.824596Z",
     "start_time": "2023-03-10T04:25:23.810930Z"
    }
   },
   "outputs": [],
   "source": [
    "# del_cols에 id 추가하기\n",
    "del_cols.append('id')"
   ]
  },
  {
   "cell_type": "markdown",
   "metadata": {},
   "source": [
    "### 2) 단일값이거나 데이터 불균형이 심한 칼럼 처리하기"
   ]
  },
  {
   "cell_type": "code",
   "execution_count": 68,
   "metadata": {
    "ExecuteTime": {
     "end_time": "2023-03-10T04:25:23.854520Z",
     "start_time": "2023-03-10T04:25:23.827006Z"
    }
   },
   "outputs": [
    {
     "data": {
      "text/plain": [
       "Index(['bidet_cnt', 'w_disp_cnt', '3m_avg_bill_amt', '3m_bidet_avg_amt',\n",
       "       '3m_w_disp_avg_amt', 'voc_cnt_voc_cnt_AS', 'voc_cnt_voc_cnt_가입',\n",
       "       'voc_cnt_voc_cnt_개통', 'voc_cnt_voc_cnt_변경/조회', 'voc_cnt_voc_cnt_업무협조',\n",
       "       'voc_cnt_voc_cnt_이용', 'voc_cnt_voc_cnt_정보보호/언론보도', 'voc_cnt_voc_cnt_채널',\n",
       "       'voc_cnt_voc_cnt_청구 수/미납', 'voc_cnt_voc_cnt_품질', 'voc_cnt_voc_cnt_해지',\n",
       "       'voc_cnt_voc_cnt_혜택', 'day_cnt_AS', 'day_cnt_가입', 'day_cnt_개통',\n",
       "       'day_cnt_변경/조회', 'day_cnt_업무협조', 'day_cnt_이용', 'day_cnt_정보보호/언론보도',\n",
       "       'day_cnt_채널', 'day_cnt_청구 수/미납', 'day_cnt_품질', 'day_cnt_해지',\n",
       "       'day_cnt_혜택', 'join_period', 'w_disp_teperd', 'bidet_teperd',\n",
       "       'w_disp_erperd', 'bidet_erperd'],\n",
       "      dtype='object')"
      ]
     },
     "execution_count": 68,
     "metadata": {},
     "output_type": "execute_result"
    }
   ],
   "source": [
    "# 수치형 칼럼을 리스트에 담기\n",
    "numbers=['int64','float64'] \n",
    "\n",
    "# 수치형 타입 리스트\n",
    "num_cols = train_data.select_dtypes(numbers).columns \n",
    "\n",
    "# 수치형 칼럼을 리스트 생성하기\n",
    "num_cols"
   ]
  },
  {
   "cell_type": "code",
   "execution_count": 69,
   "metadata": {
    "ExecuteTime": {
     "end_time": "2023-03-10T04:25:23.884391Z",
     "start_time": "2023-03-10T04:25:23.856689Z"
    }
   },
   "outputs": [
    {
     "data": {
      "text/plain": [
       "Index(['id', 'status', 'cust_cd', 'sex_cd', 'w_disp_yn', 'bidet_yn',\n",
       "       'comb_prod_yn', 'bidet_comb_yn', 'w_disp_comb_yn',\n",
       "       'bidet_trmn_eperd_cd', 'w_disp_trmn_eperd_cd', 'w_disp_trmn_why_cd',\n",
       "       'bidet_trmn_why_cd', 'npay_yn', 'w_disp_engt_rperd_cd',\n",
       "       'bidet_engt_rperd_cd'],\n",
       "      dtype='object')"
      ]
     },
     "execution_count": 69,
     "metadata": {},
     "output_type": "execute_result"
    }
   ],
   "source": [
    "# 범주형 칼럼을 찾아서 리스트에 담기\n",
    "obj_cols = train_data.select_dtypes('O').columns \n",
    "obj_cols"
   ]
  },
  {
   "cell_type": "code",
   "execution_count": 70,
   "metadata": {
    "ExecuteTime": {
     "end_time": "2023-03-10T04:25:24.006278Z",
     "start_time": "2023-03-10T04:25:23.885441Z"
    }
   },
   "outputs": [
    {
     "data": {
      "text/html": [
       "<div>\n",
       "<style scoped>\n",
       "    .dataframe tbody tr th:only-of-type {\n",
       "        vertical-align: middle;\n",
       "    }\n",
       "\n",
       "    .dataframe tbody tr th {\n",
       "        vertical-align: top;\n",
       "    }\n",
       "\n",
       "    .dataframe thead th {\n",
       "        text-align: right;\n",
       "    }\n",
       "</style>\n",
       "<table border=\"1\" class=\"dataframe\">\n",
       "  <thead>\n",
       "    <tr style=\"text-align: right;\">\n",
       "      <th></th>\n",
       "      <th>bidet_cnt</th>\n",
       "      <th>w_disp_cnt</th>\n",
       "      <th>3m_avg_bill_amt</th>\n",
       "      <th>3m_bidet_avg_amt</th>\n",
       "      <th>3m_w_disp_avg_amt</th>\n",
       "      <th>voc_cnt_voc_cnt_AS</th>\n",
       "      <th>voc_cnt_voc_cnt_가입</th>\n",
       "      <th>voc_cnt_voc_cnt_개통</th>\n",
       "      <th>voc_cnt_voc_cnt_변경/조회</th>\n",
       "      <th>voc_cnt_voc_cnt_업무협조</th>\n",
       "      <th>...</th>\n",
       "      <th>day_cnt_채널</th>\n",
       "      <th>day_cnt_청구 수/미납</th>\n",
       "      <th>day_cnt_품질</th>\n",
       "      <th>day_cnt_해지</th>\n",
       "      <th>day_cnt_혜택</th>\n",
       "      <th>join_period</th>\n",
       "      <th>w_disp_teperd</th>\n",
       "      <th>bidet_teperd</th>\n",
       "      <th>w_disp_erperd</th>\n",
       "      <th>bidet_erperd</th>\n",
       "    </tr>\n",
       "  </thead>\n",
       "  <tbody>\n",
       "    <tr>\n",
       "      <th>count</th>\n",
       "      <td>55000.000000</td>\n",
       "      <td>55000.000000</td>\n",
       "      <td>5.500000e+04</td>\n",
       "      <td>5.500000e+04</td>\n",
       "      <td>5.500000e+04</td>\n",
       "      <td>55000.000000</td>\n",
       "      <td>55000.000000</td>\n",
       "      <td>55000.000000</td>\n",
       "      <td>55000.000000</td>\n",
       "      <td>55000.000000</td>\n",
       "      <td>...</td>\n",
       "      <td>55000.000000</td>\n",
       "      <td>55000.000000</td>\n",
       "      <td>55000.000000</td>\n",
       "      <td>55000.000000</td>\n",
       "      <td>55000.000000</td>\n",
       "      <td>55000.000000</td>\n",
       "      <td>55000.000000</td>\n",
       "      <td>55000.000000</td>\n",
       "      <td>55000.000000</td>\n",
       "      <td>55000.000000</td>\n",
       "    </tr>\n",
       "    <tr>\n",
       "      <th>mean</th>\n",
       "      <td>2.596782</td>\n",
       "      <td>0.737255</td>\n",
       "      <td>2.915999e+05</td>\n",
       "      <td>3.441105e+04</td>\n",
       "      <td>4.162946e+04</td>\n",
       "      <td>0.043600</td>\n",
       "      <td>0.129927</td>\n",
       "      <td>0.019491</td>\n",
       "      <td>0.214673</td>\n",
       "      <td>0.332455</td>\n",
       "      <td>...</td>\n",
       "      <td>0.075455</td>\n",
       "      <td>0.219764</td>\n",
       "      <td>0.110327</td>\n",
       "      <td>0.272909</td>\n",
       "      <td>0.035927</td>\n",
       "      <td>1858.126418</td>\n",
       "      <td>36.910036</td>\n",
       "      <td>36.868073</td>\n",
       "      <td>14.556655</td>\n",
       "      <td>-0.750909</td>\n",
       "    </tr>\n",
       "    <tr>\n",
       "      <th>std</th>\n",
       "      <td>66.479010</td>\n",
       "      <td>1.137088</td>\n",
       "      <td>8.496803e+05</td>\n",
       "      <td>3.833091e+04</td>\n",
       "      <td>3.965128e+05</td>\n",
       "      <td>0.256391</td>\n",
       "      <td>0.366102</td>\n",
       "      <td>0.166522</td>\n",
       "      <td>0.552657</td>\n",
       "      <td>0.885980</td>\n",
       "      <td>...</td>\n",
       "      <td>0.316198</td>\n",
       "      <td>0.464854</td>\n",
       "      <td>0.351533</td>\n",
       "      <td>0.518703</td>\n",
       "      <td>0.204719</td>\n",
       "      <td>1616.054444</td>\n",
       "      <td>5.627786</td>\n",
       "      <td>5.708939</td>\n",
       "      <td>26.564439</td>\n",
       "      <td>22.156265</td>\n",
       "    </tr>\n",
       "    <tr>\n",
       "      <th>min</th>\n",
       "      <td>0.000000</td>\n",
       "      <td>0.000000</td>\n",
       "      <td>-1.136300e+04</td>\n",
       "      <td>0.000000e+00</td>\n",
       "      <td>0.000000e+00</td>\n",
       "      <td>0.000000</td>\n",
       "      <td>0.000000</td>\n",
       "      <td>0.000000</td>\n",
       "      <td>0.000000</td>\n",
       "      <td>0.000000</td>\n",
       "      <td>...</td>\n",
       "      <td>0.000000</td>\n",
       "      <td>0.000000</td>\n",
       "      <td>0.000000</td>\n",
       "      <td>0.000000</td>\n",
       "      <td>0.000000</td>\n",
       "      <td>0.000000</td>\n",
       "      <td>0.000000</td>\n",
       "      <td>0.000000</td>\n",
       "      <td>-37.000000</td>\n",
       "      <td>-34.000000</td>\n",
       "    </tr>\n",
       "    <tr>\n",
       "      <th>25%</th>\n",
       "      <td>1.000000</td>\n",
       "      <td>0.000000</td>\n",
       "      <td>1.102485e+05</td>\n",
       "      <td>1.131050e+04</td>\n",
       "      <td>0.000000e+00</td>\n",
       "      <td>0.000000</td>\n",
       "      <td>0.000000</td>\n",
       "      <td>0.000000</td>\n",
       "      <td>0.000000</td>\n",
       "      <td>0.000000</td>\n",
       "      <td>...</td>\n",
       "      <td>0.000000</td>\n",
       "      <td>0.000000</td>\n",
       "      <td>0.000000</td>\n",
       "      <td>0.000000</td>\n",
       "      <td>0.000000</td>\n",
       "      <td>748.000000</td>\n",
       "      <td>38.000000</td>\n",
       "      <td>38.000000</td>\n",
       "      <td>-9.000000</td>\n",
       "      <td>-15.000000</td>\n",
       "    </tr>\n",
       "    <tr>\n",
       "      <th>50%</th>\n",
       "      <td>1.000000</td>\n",
       "      <td>1.000000</td>\n",
       "      <td>1.994620e+05</td>\n",
       "      <td>3.107550e+04</td>\n",
       "      <td>3.266000e+04</td>\n",
       "      <td>0.000000</td>\n",
       "      <td>0.000000</td>\n",
       "      <td>0.000000</td>\n",
       "      <td>0.000000</td>\n",
       "      <td>0.000000</td>\n",
       "      <td>...</td>\n",
       "      <td>0.000000</td>\n",
       "      <td>0.000000</td>\n",
       "      <td>0.000000</td>\n",
       "      <td>0.000000</td>\n",
       "      <td>0.000000</td>\n",
       "      <td>1357.000000</td>\n",
       "      <td>38.000000</td>\n",
       "      <td>38.000000</td>\n",
       "      <td>33.000000</td>\n",
       "      <td>-8.000000</td>\n",
       "    </tr>\n",
       "    <tr>\n",
       "      <th>75%</th>\n",
       "      <td>2.000000</td>\n",
       "      <td>1.000000</td>\n",
       "      <td>3.363403e+05</td>\n",
       "      <td>4.804125e+04</td>\n",
       "      <td>4.791800e+04</td>\n",
       "      <td>0.000000</td>\n",
       "      <td>0.000000</td>\n",
       "      <td>0.000000</td>\n",
       "      <td>0.000000</td>\n",
       "      <td>0.000000</td>\n",
       "      <td>...</td>\n",
       "      <td>0.000000</td>\n",
       "      <td>0.000000</td>\n",
       "      <td>0.000000</td>\n",
       "      <td>0.000000</td>\n",
       "      <td>0.000000</td>\n",
       "      <td>2517.000000</td>\n",
       "      <td>38.000000</td>\n",
       "      <td>38.000000</td>\n",
       "      <td>38.000000</td>\n",
       "      <td>7.000000</td>\n",
       "    </tr>\n",
       "    <tr>\n",
       "      <th>max</th>\n",
       "      <td>5077.000000</td>\n",
       "      <td>125.000000</td>\n",
       "      <td>1.806220e+08</td>\n",
       "      <td>3.092769e+06</td>\n",
       "      <td>6.078027e+07</td>\n",
       "      <td>7.000000</td>\n",
       "      <td>6.000000</td>\n",
       "      <td>5.000000</td>\n",
       "      <td>59.000000</td>\n",
       "      <td>102.000000</td>\n",
       "      <td>...</td>\n",
       "      <td>9.000000</td>\n",
       "      <td>7.000000</td>\n",
       "      <td>7.000000</td>\n",
       "      <td>6.000000</td>\n",
       "      <td>6.000000</td>\n",
       "      <td>8396.000000</td>\n",
       "      <td>38.000000</td>\n",
       "      <td>38.000000</td>\n",
       "      <td>38.000000</td>\n",
       "      <td>38.000000</td>\n",
       "    </tr>\n",
       "  </tbody>\n",
       "</table>\n",
       "<p>8 rows × 34 columns</p>\n",
       "</div>"
      ],
      "text/plain": [
       "          bidet_cnt    w_disp_cnt  3m_avg_bill_amt  3m_bidet_avg_amt  \\\n",
       "count  55000.000000  55000.000000     5.500000e+04      5.500000e+04   \n",
       "mean       2.596782      0.737255     2.915999e+05      3.441105e+04   \n",
       "std       66.479010      1.137088     8.496803e+05      3.833091e+04   \n",
       "min        0.000000      0.000000    -1.136300e+04      0.000000e+00   \n",
       "25%        1.000000      0.000000     1.102485e+05      1.131050e+04   \n",
       "50%        1.000000      1.000000     1.994620e+05      3.107550e+04   \n",
       "75%        2.000000      1.000000     3.363403e+05      4.804125e+04   \n",
       "max     5077.000000    125.000000     1.806220e+08      3.092769e+06   \n",
       "\n",
       "       3m_w_disp_avg_amt  voc_cnt_voc_cnt_AS  voc_cnt_voc_cnt_가입  \\\n",
       "count       5.500000e+04        55000.000000        55000.000000   \n",
       "mean        4.162946e+04            0.043600            0.129927   \n",
       "std         3.965128e+05            0.256391            0.366102   \n",
       "min         0.000000e+00            0.000000            0.000000   \n",
       "25%         0.000000e+00            0.000000            0.000000   \n",
       "50%         3.266000e+04            0.000000            0.000000   \n",
       "75%         4.791800e+04            0.000000            0.000000   \n",
       "max         6.078027e+07            7.000000            6.000000   \n",
       "\n",
       "       voc_cnt_voc_cnt_개통  voc_cnt_voc_cnt_변경/조회  voc_cnt_voc_cnt_업무협조  ...  \\\n",
       "count        55000.000000           55000.000000          55000.000000  ...   \n",
       "mean             0.019491               0.214673              0.332455  ...   \n",
       "std              0.166522               0.552657              0.885980  ...   \n",
       "min              0.000000               0.000000              0.000000  ...   \n",
       "25%              0.000000               0.000000              0.000000  ...   \n",
       "50%              0.000000               0.000000              0.000000  ...   \n",
       "75%              0.000000               0.000000              0.000000  ...   \n",
       "max              5.000000              59.000000            102.000000  ...   \n",
       "\n",
       "         day_cnt_채널  day_cnt_청구 수/미납    day_cnt_품질    day_cnt_해지  \\\n",
       "count  55000.000000     55000.000000  55000.000000  55000.000000   \n",
       "mean       0.075455         0.219764      0.110327      0.272909   \n",
       "std        0.316198         0.464854      0.351533      0.518703   \n",
       "min        0.000000         0.000000      0.000000      0.000000   \n",
       "25%        0.000000         0.000000      0.000000      0.000000   \n",
       "50%        0.000000         0.000000      0.000000      0.000000   \n",
       "75%        0.000000         0.000000      0.000000      0.000000   \n",
       "max        9.000000         7.000000      7.000000      6.000000   \n",
       "\n",
       "         day_cnt_혜택   join_period  w_disp_teperd  bidet_teperd  w_disp_erperd  \\\n",
       "count  55000.000000  55000.000000   55000.000000  55000.000000   55000.000000   \n",
       "mean       0.035927   1858.126418      36.910036     36.868073      14.556655   \n",
       "std        0.204719   1616.054444       5.627786      5.708939      26.564439   \n",
       "min        0.000000      0.000000       0.000000      0.000000     -37.000000   \n",
       "25%        0.000000    748.000000      38.000000     38.000000      -9.000000   \n",
       "50%        0.000000   1357.000000      38.000000     38.000000      33.000000   \n",
       "75%        0.000000   2517.000000      38.000000     38.000000      38.000000   \n",
       "max        6.000000   8396.000000      38.000000     38.000000      38.000000   \n",
       "\n",
       "       bidet_erperd  \n",
       "count  55000.000000  \n",
       "mean      -0.750909  \n",
       "std       22.156265  \n",
       "min      -34.000000  \n",
       "25%      -15.000000  \n",
       "50%       -8.000000  \n",
       "75%        7.000000  \n",
       "max       38.000000  \n",
       "\n",
       "[8 rows x 34 columns]"
      ]
     },
     "execution_count": 70,
     "metadata": {},
     "output_type": "execute_result"
    }
   ],
   "source": [
    "# 수치형 칼럼에 대한 기술 통계 확인하기\n",
    "train_data.loc[:,num_cols].describe()"
   ]
  },
  {
   "cell_type": "code",
   "execution_count": 71,
   "metadata": {
    "ExecuteTime": {
     "end_time": "2023-03-10T04:25:24.052147Z",
     "start_time": "2023-03-10T04:25:24.009024Z"
    }
   },
   "outputs": [
    {
     "name": "stdout",
     "output_type": "stream",
     "text": [
      "voc_cnt_voc_cnt_AS:0.9651272727272727\n",
      "voc_cnt_voc_cnt_개통:0.9838181818181818\n",
      "voc_cnt_voc_cnt_정보보호/언론보도:0.9937090909090909\n",
      "voc_cnt_voc_cnt_채널:0.9343090909090909\n",
      "voc_cnt_voc_cnt_품질:0.9000363636363636\n",
      "voc_cnt_voc_cnt_혜택:0.9671818181818181\n",
      "day_cnt_AS:0.9651272727272727\n",
      "day_cnt_개통:0.9838181818181818\n",
      "day_cnt_정보보호/언론보도:0.9937090909090909\n",
      "day_cnt_채널:0.9343090909090909\n",
      "day_cnt_품질:0.9000363636363636\n",
      "day_cnt_혜택:0.9671818181818181\n"
     ]
    }
   ],
   "source": [
    "# 수치형 칼럼(num_cols)에 대해 0의 비중이 90%를 넘는 칼럼 찾기\n",
    "for column in num_cols:\n",
    "    if(((train_data[column]==0).sum()/55000) >0.9):\n",
    "        print(column+':'+(str)((train_data[column]==0).sum()/55000))\n",
    "        del_cols.append(column)  # del_cols에 해당 칼럼 추가하기"
   ]
  },
  {
   "cell_type": "code",
   "execution_count": null,
   "metadata": {
    "ExecuteTime": {
     "end_time": "2023-03-10T04:25:24.203664Z",
     "start_time": "2023-03-10T04:25:24.054081Z"
    }
   },
   "outputs": [],
   "source": [
    "# 범주형 칼럼(obj_cols)에 대해 가장 많은 범주의 비중이 90%를 넘는 칼럼 찾기\n",
    "for column in obj_cols:\n",
    "    if((train_data[column].value_counts().iloc[0]/55000) >0.9):        \n",
    "        print(column+':'+(str)(train_data[column].value_counts().iloc[0]/55000))\n",
    "        del_cols.append(column)  # del_cols에 해당 칼럼 추가하기"
   ]
  },
  {
   "cell_type": "markdown",
   "metadata": {},
   "source": [
    "### 3) 파생 변수를 만들어 대체한 칼럼 처리하기"
   ]
  },
  {
   "cell_type": "code",
   "execution_count": null,
   "metadata": {
    "ExecuteTime": {
     "end_time": "2023-03-10T04:25:24.218419Z",
     "start_time": "2023-03-10T04:25:24.206885Z"
    }
   },
   "outputs": [],
   "source": [
    "# del_cols에 삭제 대상 추가하기\n",
    "del_cols=del_cols+['new_date','w_disp_engt_rperd_cd', 'bidet_engt_rperd_cd']\n",
    "\n",
    "print(del_cols)"
   ]
  },
  {
   "cell_type": "markdown",
   "metadata": {},
   "source": [
    "### 4) 리스트에 저장한 삭제 대상 칼럼을 일괄 삭제하기"
   ]
  },
  {
   "cell_type": "code",
   "execution_count": null,
   "metadata": {
    "ExecuteTime": {
     "end_time": "2023-03-10T04:25:24.278703Z",
     "start_time": "2023-03-10T04:25:24.220447Z"
    }
   },
   "outputs": [],
   "source": [
    "# 삭제 대상 칼럼을 train_data와 test_data에서 삭제하기\n",
    "train_data.drop(del_cols,axis=1,inplace=True)\n",
    "test_data.drop(del_cols,axis=1,inplace=True)\n",
    "train_data.info() # 결과 확인하기"
   ]
  },
  {
   "cell_type": "markdown",
   "metadata": {
    "tags": []
   },
   "source": [
    "# SECTION 03. 데이터 이해하기 (EDA와 시각화)"
   ]
  },
  {
   "cell_type": "markdown",
   "metadata": {},
   "source": [
    "## 1. 출력값(Label) 분석하기"
   ]
  },
  {
   "cell_type": "code",
   "execution_count": null,
   "metadata": {
    "ExecuteTime": {
     "end_time": "2023-03-10T04:25:24.309481Z",
     "start_time": "2023-03-10T04:25:24.281238Z"
    }
   },
   "outputs": [],
   "source": [
    "# status값 분포 확인하기\n",
    "train_data['status'].value_counts()"
   ]
  },
  {
   "cell_type": "code",
   "execution_count": null,
   "metadata": {
    "ExecuteTime": {
     "end_time": "2023-03-10T04:25:24.477314Z",
     "start_time": "2023-03-10T04:25:24.311447Z"
    }
   },
   "outputs": [],
   "source": [
    "# status칼럼을 막대 그래프로 그리기\n",
    "train_data['status'].value_counts().plot(kind='bar')"
   ]
  },
  {
   "cell_type": "code",
   "execution_count": null,
   "metadata": {
    "ExecuteTime": {
     "end_time": "2023-03-10T04:25:24.598952Z",
     "start_time": "2023-03-10T04:25:24.480817Z"
    }
   },
   "outputs": [],
   "source": [
    "# status칼럼을 파이 그래프로 그리기\n",
    "data = train_data['status'].value_counts() # chart를 그릴 데이터 생성하기\n",
    "labels = ['유지','해지'] # chart에 들어갈 label 명칭 지정 안하면 'Y','N'이 됨\n",
    "\n",
    "plt.pie(data, labels = labels, autopct='%.0f%%',shadow=True,explode=(0,0.1),startangle=90,)\n",
    "plt.title(\"[유지 vs 해지]\")\n",
    "plt.show()"
   ]
  },
  {
   "cell_type": "markdown",
   "metadata": {},
   "source": [
    "## 2. 수치형 데이터 분석하기"
   ]
  },
  {
   "cell_type": "code",
   "execution_count": null,
   "metadata": {
    "ExecuteTime": {
     "end_time": "2023-03-10T04:25:24.630284Z",
     "start_time": "2023-03-10T04:25:24.600606Z"
    }
   },
   "outputs": [],
   "source": [
    "# 전처리 후에 변경이 있으므로 수치형 칼럼을 모은 num_cols 리스트를 다시 생성하기\n",
    "numbers=['int64','float64']\n",
    "num_cols = train_data.select_dtypes(numbers).columns"
   ]
  },
  {
   "cell_type": "code",
   "execution_count": null,
   "metadata": {
    "ExecuteTime": {
     "end_time": "2023-03-10T04:25:24.645633Z",
     "start_time": "2023-03-10T04:25:24.633152Z"
    }
   },
   "outputs": [],
   "source": [
    "# 모든 수치형 칼럼에 대해 히스토그램을 그리는 함수\n",
    "def make_histplot(df,num_cols,label):    \n",
    "    col_cnt=4\n",
    "    graph_size=5\n",
    "    num=len(num_cols)\n",
    "    print(\"대상 칼럼수:\", num)\n",
    "    \n",
    "    # 그려야 할 전체 그래프의 크기를 정하기 \n",
    "    plt.rcParams['figure.figsize']=(col_cnt*graph_size,math.ceil(num/col_cnt)*graph_size)\n",
    "    \n",
    "    # 그려야 할 각각의 그래프의 위치 정하기\n",
    "    fig, ax = plt.subplots(ncols=col_cnt,nrows=math.ceil(num/col_cnt)) \n",
    "    i=0 \n",
    "    for column in tqdm(num_cols):\n",
    "        df[column].hist(ax=ax[int(i/col_cnt)][i%col_cnt]) # 도수분포표(histogrma) 그리기\n",
    "        ax[int(i/col_cnt)][i%col_cnt].set_title('['+column+']') # 칼럼명을 제목으로 붙이기   \n",
    "        i=i+1\n",
    "\n",
    "    plt.show()\n",
    "    plt.rcParams['figure.figsize']=(7,7) # figsize를 원복"
   ]
  },
  {
   "cell_type": "code",
   "execution_count": null,
   "metadata": {
    "ExecuteTime": {
     "end_time": "2023-03-10T04:25:28.763728Z",
     "start_time": "2023-03-10T04:25:24.647161Z"
    }
   },
   "outputs": [],
   "source": [
    "# 함수 실행하기\n",
    "make_histplot(train_data,num_cols,'status')"
   ]
  },
  {
   "cell_type": "markdown",
   "metadata": {
    "tags": []
   },
   "source": [
    "## 3. 수치형 데이터의 이상치 제거하기"
   ]
  },
  {
   "cell_type": "markdown",
   "metadata": {},
   "source": [
    "### 1) 이상치(Outlier) 확인하기"
   ]
  },
  {
   "cell_type": "code",
   "execution_count": null,
   "metadata": {
    "ExecuteTime": {
     "end_time": "2023-03-10T04:25:28.869008Z",
     "start_time": "2023-03-10T04:25:28.767254Z"
    }
   },
   "outputs": [],
   "source": [
    "# 기술 통계 확인하기\n",
    "train_data.describe()"
   ]
  },
  {
   "cell_type": "markdown",
   "metadata": {},
   "source": [
    "### 2) 이상치 제거 - Tukey Fences 방법 이해하기"
   ]
  },
  {
   "attachments": {
    "ddaf1b82-2353-429a-8d34-4be72d9db249.png": {
     "image/png": "[encoded data removed]"
    }
   },
   "cell_type": "markdown",
   "metadata": {},
   "source": [
    "![image.png](attachment:ddaf1b82-2353-429a-8d34-4be72d9db249.png)"
   ]
  },
  {
   "cell_type": "markdown",
   "metadata": {},
   "source": [
    "### 3) 이상치 제거 대상 선별하기"
   ]
  },
  {
   "cell_type": "code",
   "execution_count": null,
   "metadata": {
    "ExecuteTime": {
     "end_time": "2023-03-10T04:25:28.959357Z",
     "start_time": "2023-03-10T04:25:28.878300Z"
    }
   },
   "outputs": [],
   "source": [
    "# 각 칼럼별 max값 확인하기\n",
    "train_data.describe().loc['max']"
   ]
  },
  {
   "cell_type": "code",
   "execution_count": null,
   "metadata": {
    "ExecuteTime": {
     "end_time": "2023-03-10T04:25:29.112298Z",
     "start_time": "2023-03-10T04:25:28.964993Z"
    }
   },
   "outputs": [],
   "source": [
    "# max값이 20초과인 칼럼을 리스트로 만들기\n",
    "outlier_cols=train_data.describe().loc['max'][train_data.describe().loc['max']>20].index.tolist()\n",
    "outlier_cols"
   ]
  },
  {
   "cell_type": "markdown",
   "metadata": {},
   "source": [
    "### 4) 이상치 제거하기"
   ]
  },
  {
   "cell_type": "code",
   "execution_count": null,
   "metadata": {
    "ExecuteTime": {
     "end_time": "2023-03-10T04:25:29.127302Z",
     "start_time": "2023-03-10T04:25:29.114293Z"
    }
   },
   "outputs": [],
   "source": [
    "# 이상치 기준이 되는 upperfence와 lowerfence지점의 위치 값을 계산하고 반환하기\n",
    "def outliers_iqr(df,column,uorl,upper=75,lower=25,factor=1.5):\n",
    "    q1,q3 = np.percentile(df[column],[lower,upper]) # 1분위 수, 3분위 수 구하기\n",
    "    iqr=q3-q1\n",
    "    if uorl=='l': # l이면 하한, u이면 상한\n",
    "        return (q1-(iqr*factor))\n",
    "    elif uorl=='u':\n",
    "        return (q3+(iqr*factor))   "
   ]
  },
  {
   "cell_type": "code",
   "execution_count": null,
   "metadata": {
    "ExecuteTime": {
     "end_time": "2023-03-10T04:25:29.142973Z",
     "start_time": "2023-03-10T04:25:29.128834Z"
    }
   },
   "outputs": [],
   "source": [
    "# 이상치(upperfence 초과)를 upperfence로 대체하는 함수, lower는 고려하지 않음\n",
    "def replace_outlier(df,cols,upper=75,lower=25,factor=1.5):\n",
    "    for column in cols:\n",
    "        upperfence=outliers_iqr(df,column,'u',upper,lower,factor)\n",
    "        df[column]=df[column].apply(lambda x: x if x <=upperfence else upperfence)        \n",
    "        "
   ]
  },
  {
   "cell_type": "code",
   "execution_count": null,
   "metadata": {
    "ExecuteTime": {
     "end_time": "2023-03-10T04:25:29.540024Z",
     "start_time": "2023-03-10T04:25:29.145471Z"
    }
   },
   "outputs": [],
   "source": [
    "# 시각화를 위한 데이터는 따로 복제하여 이상치를 제거하여 사용하기\n",
    "train_data_del_outlier=train_data.copy()\n",
    "\n",
    "replace_outlier(train_data_del_outlier,outlier_cols,factor=1.5)"
   ]
  },
  {
   "cell_type": "markdown",
   "metadata": {},
   "source": [
    "## 4. 이상치 제거 후 수치형 데이터 분석하기"
   ]
  },
  {
   "cell_type": "markdown",
   "metadata": {},
   "source": [
    "### 1) 히스토그램(histogram)"
   ]
  },
  {
   "cell_type": "code",
   "execution_count": null,
   "metadata": {
    "ExecuteTime": {
     "end_time": "2023-03-10T04:25:33.569298Z",
     "start_time": "2023-03-10T04:25:29.542658Z"
    }
   },
   "outputs": [],
   "source": [
    "# 앞서 만든 함수로 수치형 칼럼에 대해 히스토그램 그리기\n",
    "make_histplot(train_data_del_outlier,num_cols,'status')"
   ]
  },
  {
   "cell_type": "markdown",
   "metadata": {},
   "source": [
    "### 2) 커널밀도추정그래프(kdeplot)"
   ]
  },
  {
   "cell_type": "code",
   "execution_count": null,
   "metadata": {
    "ExecuteTime": {
     "end_time": "2023-03-10T04:25:33.584074Z",
     "start_time": "2023-03-10T04:25:33.570757Z"
    }
   },
   "outputs": [],
   "source": [
    "# 수치형 칼럼에 대해서 커널밀도추정그래프(kdeplot)을 그리는 함수\n",
    "def make_kdeplot(df,num_cols,label):\n",
    "    num=len(num_cols)\n",
    "    col_cnt=4\n",
    "    graph_size=5\n",
    "    print(\"대상 칼럼수:\", num)\n",
    "    \n",
    "    # 그려야할 전체 그래프의 크기를 정하기\n",
    "    plt.rcParams['figure.figsize']=(col_cnt*graph_size,math.ceil(num/col_cnt)*graph_size) \n",
    "    \n",
    "    # 그려야할 각각의 그래프의 위치 정하기 \n",
    "    fig, ax = plt.subplots(ncols=col_cnt,nrows=math.ceil(num/col_cnt)) \n",
    "    i=0         \n",
    "    for column in tqdm(num_cols):\n",
    "        sns.kdeplot(data=df,x=column,hue=label,ax=ax[int(i/col_cnt)][i%col_cnt]) \n",
    "        ax[int(i/col_cnt)][i%col_cnt].set_title('['+column+']') #칼럼명을 제목으로 붙이기\n",
    "        ax[int(i/col_cnt)][i%col_cnt].set_xlabel('') #x축의 이름을 공란으로 표기하기\n",
    "        i=i+1\n",
    "\n",
    "    plt.show()\n",
    "    plt.rcParams['figure.figsize']=(7,7)"
   ]
  },
  {
   "cell_type": "code",
   "execution_count": null,
   "metadata": {
    "ExecuteTime": {
     "end_time": "2023-03-10T04:25:48.836209Z",
     "start_time": "2023-03-10T04:25:33.587472Z"
    }
   },
   "outputs": [],
   "source": [
    "# 앞서 만든 함수로 수치형 칼럼에 대해 커널밀도추정그래프(kdeplot) 그리기\n",
    "make_kdeplot(train_data_del_outlier,num_cols,'status')"
   ]
  },
  {
   "cell_type": "markdown",
   "metadata": {},
   "source": [
    "### 3) 포인트그래프(pointplot)"
   ]
  },
  {
   "cell_type": "code",
   "execution_count": null,
   "metadata": {
    "ExecuteTime": {
     "end_time": "2023-03-10T04:25:48.852009Z",
     "start_time": "2023-03-10T04:25:48.838135Z"
    },
    "tags": []
   },
   "outputs": [],
   "source": [
    "# 수치형 칼럼에 대해서 포인트그래프를 그리는 함수 생성하기\n",
    "def make_pointplot(df,num_cols,label):       \n",
    "    num=len(num_cols)\n",
    "    col_cnt=4\n",
    "    graph_size=5\n",
    "    print(\"대상 칼럼수:\", num)\n",
    "    \n",
    "    # 그려야할 전체 그래프의 크기 정하기\n",
    "    plt.rcParams['figure.figsize']=(col_cnt*graph_size,math.ceil(num/col_cnt)*graph_size) \n",
    "    \n",
    "    # 그려야할 각각의 그래프의 위치 정하기   \n",
    "    fig, ax = plt.subplots(ncols=col_cnt,nrows=math.ceil(num/col_cnt)) \n",
    "    i=0          \n",
    "    for column in tqdm(num_cols):\n",
    "        sns.pointplot(data=df,y=column,x=label,ax=ax[int(i/col_cnt)][i%col_cnt])    \n",
    "        ax[int(i/col_cnt)][i%col_cnt].set_title('['+column+']')  # 칼럼명을 제목으로 붙이기\n",
    "        ax[int(i/col_cnt)][i%col_cnt].set_ylabel('')             # y축의 이름을 공란으로 하기\n",
    "        i=i+1\n",
    "\n",
    "    plt.show()\n",
    "    plt.rcParams['figure.figsize']=(7,7)"
   ]
  },
  {
   "cell_type": "code",
   "execution_count": null,
   "metadata": {
    "ExecuteTime": {
     "end_time": "2023-03-10T04:26:05.896210Z",
     "start_time": "2023-03-10T04:25:48.856540Z"
    }
   },
   "outputs": [],
   "source": [
    "# 앞서 만든 함수로 수치형 칼럼에 대해 포인트그래프 그리기\n",
    "make_pointplot(train_data_del_outlier,num_cols,'status')"
   ]
  },
  {
   "cell_type": "markdown",
   "metadata": {},
   "source": [
    "## 5. 범주형 데이터 분석하기"
   ]
  },
  {
   "cell_type": "markdown",
   "metadata": {},
   "source": [
    "### 1) 빈도 그래프(countplot)"
   ]
  },
  {
   "cell_type": "code",
   "execution_count": null,
   "metadata": {
    "ExecuteTime": {
     "end_time": "2023-03-10T04:26:05.926887Z",
     "start_time": "2023-03-10T04:26:05.899267Z"
    }
   },
   "outputs": [],
   "source": [
    "# 범주형 칼럼 리스트 생성하기\n",
    "obj_cols = train_data.select_dtypes('O').columns\n",
    "obj_cols"
   ]
  },
  {
   "cell_type": "code",
   "execution_count": null,
   "metadata": {
    "ExecuteTime": {
     "end_time": "2023-03-10T04:26:05.942610Z",
     "start_time": "2023-03-10T04:26:05.929982Z"
    },
    "tags": []
   },
   "outputs": [],
   "source": [
    "# 범주형 칼럼에 대해서 빈도그래프를 그리는 함수 생성하기\n",
    "def make_countplot(df,obj_cols,label):    \n",
    "    num=len(obj_cols)\n",
    "    col_cnt=4\n",
    "    graph_size=5\n",
    "    print(\"대상 칼럼수:\", num)\n",
    "    \n",
    "    # 그려야할 전체 그래프의 크기를 정하기 \n",
    "    plt.rcParams['figure.figsize']=(col_cnt*graph_size,math.ceil(num/col_cnt)*graph_size) \n",
    "    \n",
    "    # 그려야할 각각의 그래프의 위치 정하기\n",
    "    fig, ax = plt.subplots(ncols=col_cnt,nrows=math.ceil(num/col_cnt)) \n",
    "    i=0    \n",
    "    for column in obj_cols:\n",
    "        sns.countplot(data=df,x=column,hue=label,ax=ax[int(i/col_cnt)][i%col_cnt])\n",
    "        ax[int(i/col_cnt)][i%col_cnt].set_title('['+column+']') # 칼럼명을 제목으로 붙이기\n",
    "        ax[int(i/col_cnt)][i%col_cnt].set_xlabel('')            # x축의 이름을 공란으로 처리하기\n",
    "        i=i+1\n",
    "    plt.show()\n",
    "    plt.rcParams['figure.figsize']=(7,7)"
   ]
  },
  {
   "cell_type": "code",
   "execution_count": null,
   "metadata": {
    "ExecuteTime": {
     "end_time": "2023-03-10T04:26:07.777166Z",
     "start_time": "2023-03-10T04:26:05.947237Z"
    }
   },
   "outputs": [],
   "source": [
    "make_countplot(train_data,obj_cols,'status')"
   ]
  },
  {
   "cell_type": "markdown",
   "metadata": {},
   "source": [
    "# SECTION 04. AI모델링을 위한 전처리(Preprocessing)하기"
   ]
  },
  {
   "cell_type": "markdown",
   "metadata": {
    "tags": []
   },
   "source": [
    "## 1. 표준화와 정규화하기"
   ]
  },
  {
   "cell_type": "code",
   "execution_count": null,
   "metadata": {
    "ExecuteTime": {
     "end_time": "2023-03-10T04:26:07.811563Z",
     "start_time": "2023-03-10T04:26:07.779711Z"
    }
   },
   "outputs": [],
   "source": [
    "# 수치형 칼럼 리스트를 만들기\n",
    "numbers=['int64','float64']\n",
    "num_cols = train_data.select_dtypes(numbers).columns\n",
    "num_cols"
   ]
  },
  {
   "cell_type": "markdown",
   "metadata": {
    "tags": []
   },
   "source": [
    "### 1) 표준화(standardization)하기"
   ]
  },
  {
   "cell_type": "code",
   "execution_count": null,
   "metadata": {
    "ExecuteTime": {
     "end_time": "2023-03-10T04:26:08.301173Z",
     "start_time": "2023-03-10T04:26:07.813848Z"
    }
   },
   "outputs": [],
   "source": [
    "# 필요한 패키지 불러오기\n",
    "from sklearn.preprocessing import StandardScaler\n",
    "\n",
    "# 표준화를 적용하기 위해 standardScaler 생성하기\n",
    "standardScaler = StandardScaler()\n",
    "\n",
    "# 수치형 칼럼에 표준화 적용하기\n",
    "train_data[num_cols] = standardScaler.fit_transform(train_data[num_cols])\n",
    "\n",
    "# 수치형 칼럼에 표준화 적용하기 - train_data와 동일하게 적용하기 위해 fit없이 transform만 적용하기\n",
    "test_data[num_cols]=standardScaler.transform(test_data[num_cols])\n",
    "\n",
    "# 표준화 결과 확인하기\n",
    "train_data[num_cols].describe()"
   ]
  },
  {
   "cell_type": "markdown",
   "metadata": {},
   "source": [
    "### 2) 정규화(Normalization)하기"
   ]
  },
  {
   "cell_type": "code",
   "execution_count": null,
   "metadata": {
    "ExecuteTime": {
     "end_time": "2023-03-10T04:26:08.656659Z",
     "start_time": "2023-03-10T04:26:08.303856Z"
    }
   },
   "outputs": [],
   "source": [
    "# 필요한 패키지 불러오기\n",
    "from sklearn.preprocessing import MinMaxScaler\n",
    "\n",
    "# 표준화를 적용하기 위해 MinMaxScaler 생성하기\n",
    "minMaxScaler = MinMaxScaler()\n",
    "\n",
    "# 수치형 칼럼에 정규화 적용하기\n",
    "train_data[num_cols] = minMaxScaler.fit_transform(train_data[num_cols])\n",
    "\n",
    "# 수치형 칼럼에 정규화 적용하기 - train_data와 동일하게 적용하기 위해 fit없이 transform만 적용\n",
    "test_data[num_cols]=minMaxScaler.transform(test_data[num_cols])\n",
    "\n",
    "# 정규화 결과 확인하기\n",
    "train_data[num_cols].describe()"
   ]
  },
  {
   "cell_type": "markdown",
   "metadata": {},
   "source": [
    "## 2. 레이블 인코딩(Lable Encoding)하기"
   ]
  },
  {
   "cell_type": "code",
   "execution_count": null,
   "metadata": {
    "ExecuteTime": {
     "end_time": "2023-03-10T04:26:08.687446Z",
     "start_time": "2023-03-10T04:26:08.660566Z"
    }
   },
   "outputs": [],
   "source": [
    "# 레이블 인코딩 대상 칼럼 찾기\n",
    "le_columns= train_data.select_dtypes('O').columns\n",
    "le_columns"
   ]
  },
  {
   "cell_type": "code",
   "execution_count": null,
   "metadata": {
    "ExecuteTime": {
     "end_time": "2023-03-10T04:26:08.852878Z",
     "start_time": "2023-03-10T04:26:08.689999Z"
    }
   },
   "outputs": [],
   "source": [
    "from sklearn.preprocessing import LabelEncoder\n",
    "\n",
    "# LabelEncoder를 객체로 생성한 후 , fit( ) 과 transform( ) 으로 label 인코딩 수행하기\n",
    "le = LabelEncoder()\n",
    "\n",
    "for column in le_columns:\n",
    "    le.fit(train_data[column])\n",
    "    train_data[column]=le.transform(train_data[column])\n",
    "    \n",
    "    # train_data에 없는 label이 test_data에 있을 수 있으므로 아래 코드가 필요하며, test_data는 fit 없이 transform만 해야함\n",
    "    for label in np.unique(test_data[column]):\n",
    "        if label not in le.classes_: # unseen label 데이터인 경우( )\n",
    "            le.classes_ = np.append(le.classes_, label) # 미처리 시 ValueError발생\n",
    "    test_data[column]=le.transform(test_data[column])        \n"
   ]
  },
  {
   "cell_type": "code",
   "execution_count": null,
   "metadata": {
    "ExecuteTime": {
     "end_time": "2023-03-10T04:26:08.867576Z",
     "start_time": "2023-03-10T04:26:08.856319Z"
    }
   },
   "outputs": [],
   "source": [
    "# 변환 값 확인하기:  N이 0, Y가 1로 변경됨\n",
    "le.classes_"
   ]
  },
  {
   "cell_type": "code",
   "execution_count": null,
   "metadata": {},
   "outputs": [],
   "source": [
    "train_data.head()"
   ]
  },
  {
   "cell_type": "code",
   "execution_count": null,
   "metadata": {
    "ExecuteTime": {
     "end_time": "2023-03-10T04:26:08.960491Z",
     "start_time": "2023-03-10T04:26:08.918515Z"
    }
   },
   "outputs": [],
   "source": [
    "# 유지를 예측하는 것이 아니라 해지를 예측해야 하므로 값을 반전시키기(0 >1 , 1> 0)\n",
    "train_data['status']=train_data['status'].apply(lambda x:1 if x==0 else 0)\n",
    "test_data['status']=test_data['status'].apply(lambda x:1 if x==0 else 0)"
   ]
  },
  {
   "cell_type": "code",
   "execution_count": null,
   "metadata": {
    "ExecuteTime": {
     "end_time": "2023-03-10T04:26:08.914593Z",
     "start_time": "2023-03-10T04:26:08.869904Z"
    }
   },
   "outputs": [],
   "source": [
    "train_data.head()"
   ]
  },
  {
   "cell_type": "markdown",
   "metadata": {
    "tags": []
   },
   "source": [
    "## 3. 원핫 인코딩(One Hot Encoding)하기"
   ]
  },
  {
   "cell_type": "code",
   "execution_count": null,
   "metadata": {
    "ExecuteTime": {
     "end_time": "2023-03-10T04:26:08.990714Z",
     "start_time": "2023-03-10T04:26:08.964311Z"
    }
   },
   "outputs": [],
   "source": [
    "# 레이블 인코딩한 칼럼에 대해 범주를 확인하기\n",
    "for column in le_columns:\n",
    "    print(train_data[column].value_counts())"
   ]
  },
  {
   "cell_type": "code",
   "execution_count": null,
   "metadata": {
    "ExecuteTime": {
     "end_time": "2023-03-10T04:26:09.037014Z",
     "start_time": "2023-03-10T04:26:08.994883Z"
    }
   },
   "outputs": [],
   "source": [
    "# 원핫 인코딩 대상 칼럼 지정하기\n",
    "oh_columns=['sex_cd']\n",
    "\n",
    "# 원핫 인코딩을 위한 패키지 불러오기\n",
    "from sklearn.preprocessing import OneHotEncoder\n",
    "\n",
    "# OneHotEncoder를 객체로 생성한 후, fit( ) 과 transform( ) 으로 원핫 인코딩 수행하기 \n",
    "enc = OneHotEncoder(sparse=False,drop='if_binary')\n",
    "train_onehot=enc.fit_transform(train_data[oh_columns])\n",
    "test_onehot=enc.transform(test_data[oh_columns])\n",
    "\n",
    "train_onehot"
   ]
  },
  {
   "cell_type": "code",
   "execution_count": null,
   "metadata": {
    "ExecuteTime": {
     "end_time": "2023-03-10T04:26:10.193856Z",
     "start_time": "2023-03-10T04:26:09.041682Z"
    }
   },
   "outputs": [],
   "source": [
    "# pd.concat함수를 이용하여 train_data에 원핫 인코딩한 데이터를 붙여주고, 기존 칼럼은 삭제하기\n",
    "train_data_OH=pd.concat([train_data,pd.DataFrame(train_onehot,columns=enc.get_feature_names(oh_columns))],axis=1)\n",
    "test_data_OH=pd.concat([test_data,pd.DataFrame(test_onehot,columns=enc.get_feature_names(oh_columns))],axis=1)\n",
    "\n",
    "# 만약, sklearn 버젼이 차이로 get_feature_names 에러 발생시 : 위의 코드는 주석처리하고 아래 2줄 주석 해제하고 수행\n",
    "# train_data_OH=pd.concat([train_data,pd.DataFrame(train_onehot,columns=enc.get_feature_names_out(oh_columns))],axis=1)\n",
    "# test_data_OH=pd.concat([test_data,pd.DataFrame(test_onehot,columns=enc.get_feature_names_out(oh_columns))],axis=1)\n",
    "\n",
    "train_data_OH.drop(oh_columns,axis=1,inplace=True)\n",
    "test_data_OH.drop(oh_columns,axis=1,inplace=True)\n",
    "\n",
    "train_data=train_data_OH\n",
    "test_data=test_data_OH\n",
    "\n",
    "train_data"
   ]
  },
  {
   "cell_type": "markdown",
   "metadata": {},
   "source": [
    "## 4. 다중공선성 제거하기"
   ]
  },
  {
   "cell_type": "markdown",
   "metadata": {},
   "source": [
    "### 1) 변수 간 상관관계 시각화와 상관계수 0.9이상 변수 확인하기"
   ]
  },
  {
   "cell_type": "code",
   "execution_count": null,
   "metadata": {
    "ExecuteTime": {
     "end_time": "2023-03-10T04:26:10.213510Z",
     "start_time": "2023-03-10T04:25:07.477Z"
    }
   },
   "outputs": [],
   "source": [
    "# 그래프 사이즈를 크게 설정하기\n",
    "plt.rcParams[\"figure.figsize\"]=(20,20)\n",
    "\n",
    "# train_data의 상관관계를 히트맵 그리기\n",
    "sns.heatmap(train_data.corr(),annot=True,cmap='RdYlBu_r',vmin=-1, vmax=1)\n",
    "\n",
    "# 그래프 사이즈 원래대로 바꾸기\n",
    "plt.rcParams[\"figure.figsize\"]=(5,5)"
   ]
  },
  {
   "cell_type": "code",
   "execution_count": null,
   "metadata": {
    "ExecuteTime": {
     "end_time": "2023-03-10T04:26:10.215503Z",
     "start_time": "2023-03-10T04:25:07.480Z"
    }
   },
   "outputs": [],
   "source": [
    "check=[]\n",
    "mcol_linearity=[]\n",
    "\n",
    "train_corr=train_data.corr() #모든 변수의 상관관계 계산하기\n",
    "\n",
    "# 행, 열 간의 상관관계를 계산하므로 for문 두 번 중첩해서 돌리기\n",
    "for idx in train_corr.index:\n",
    "    \n",
    "    # 중복 계산에서 제외하기 위해 반복문을 수행할때 check 리스트에 넣기\n",
    "    check.append(idx)\n",
    "    for column in train_corr.columns:\n",
    "        \n",
    "        # train_corr가 대각선 방향으로 대칭이므로 두 번 계산을 피하기\n",
    "        if column not in check:\n",
    "            if (train_corr.loc[idx,column]>=0.9 and train_corr.loc[idx,column]<1) or (train_corr.loc[idx,column]<=-0.9 and train_corr.loc[idx,column]>-1):\n",
    "                mcol_linearity.append([idx,column])        \n",
    "\n",
    "mcol_linearity"
   ]
  },
  {
   "cell_type": "markdown",
   "metadata": {},
   "source": [
    "### 2) VIF(Variance Inflation Factor, 분산팽창계수) 확인하기"
   ]
  },
  {
   "cell_type": "code",
   "execution_count": null,
   "metadata": {
    "ExecuteTime": {
     "end_time": "2023-03-10T04:26:10.218498Z",
     "start_time": "2023-03-10T04:25:07.485Z"
    }
   },
   "outputs": [],
   "source": [
    "# VIF를 확인하기 위한 패키지 불러오기\n",
    "import statsmodels.api as sm\n",
    "from statsmodels.stats.outliers_influence import variance_inflation_factor\n",
    "\n",
    "# VIF계산 결과를 데이터프레임에 담기\n",
    "vif = pd.DataFrame()\n",
    "vif['VIF_Factor'] = [variance_inflation_factor(train_data.values, i) for i in tqdm(range(train_data.shape[1]))]\n",
    "vif['Feature'] = train_data.columns\n",
    "\n",
    "# VIF값 순서대로 내림차순 정렬하기\n",
    "vif = vif.sort_values(by=\"VIF_Factor\", ascending=False).reset_index().drop(columns='index')\n",
    "vif"
   ]
  },
  {
   "cell_type": "markdown",
   "metadata": {
    "tags": []
   },
   "source": [
    "### 3) 다중공선성이 발생하는 변수 선택 및 삭제하기"
   ]
  },
  {
   "cell_type": "code",
   "execution_count": null,
   "metadata": {},
   "outputs": [],
   "source": [
    "del_cols=['sex_cd_1','voc_cnt_가입','voc_cnt_이용','voc_cnt_청구 수/미납','voc_cnt_해지']\n",
    "\n",
    "train_data=train_data.drop(del_cols,axis=1)\n",
    "test_data=test_data.drop(del_cols,axis=1)\n",
    "\n",
    "train_data.columns"
   ]
  },
  {
   "cell_type": "markdown",
   "metadata": {
    "tags": []
   },
   "source": [
    "# SECTION 05. 모델링과 평가하기\n"
   ]
  },
  {
   "cell_type": "markdown",
   "metadata": {},
   "source": [
    "## 1. 데이터 분할하기"
   ]
  },
  {
   "cell_type": "code",
   "execution_count": null,
   "metadata": {
    "ExecuteTime": {
     "end_time": "2023-03-10T04:26:10.222479Z",
     "start_time": "2023-03-10T04:25:07.494Z"
    }
   },
   "outputs": [],
   "source": [
    "# train_test_split 불러오기\n",
    "from sklearn.model_selection import train_test_split\n",
    "\n",
    "x_train, x_val, y_train, y_val = train_test_split(train_data.drop('status',1),train_data['status'],random_state=10,stratify=train_data['status'])\n",
    "\n",
    "x_train.shape, x_val.shape, y_train.shape, y_val.shape"
   ]
  },
  {
   "cell_type": "code",
   "execution_count": null,
   "metadata": {
    "ExecuteTime": {
     "end_time": "2023-03-10T04:26:10.226436Z",
     "start_time": "2023-03-10T04:25:07.498Z"
    }
   },
   "outputs": [],
   "source": [
    "# test_data에서 stutus만 지우면 feature영역, staus는 label 영역이 됨\n",
    "X_test = test_data.drop('status',axis=1)\n",
    "\n",
    "Y_test = test_data['status']\n",
    "\n",
    "X_test.shape, Y_test.shape"
   ]
  },
  {
   "cell_type": "markdown",
   "metadata": {},
   "source": [
    "## 2. 모델별 성능 그래프 그리기"
   ]
  },
  {
   "cell_type": "code",
   "execution_count": null,
   "metadata": {
    "ExecuteTime": {
     "end_time": "2023-03-10T04:26:10.231434Z",
     "start_time": "2023-03-10T04:25:07.502Z"
    }
   },
   "outputs": [],
   "source": [
    "# 성능 지표 계산을 위한 패키지 불러오기\n",
    "from sklearn.metrics import confusion_matrix, accuracy_score, precision_score, recall_score, f1_score\n",
    "    \n",
    "result=pd.DataFrame([],columns=['acc','recall','precision','F1-score'])\n",
    "\n",
    "\n",
    "# 파리미터 \n",
    "# model_name: 모델이름(str)\n",
    "# pred: 예측결과\n",
    "# actual: 실제값(Y_test)\n",
    "def result_view(model_name, pred, actual):\n",
    "    # 정확도\n",
    "    acc = round(accuracy_score(actual, pred),3)\n",
    "    # 정밀도\n",
    "    precision = round(precision_score(actual, pred),3)\n",
    "    # 재현율\n",
    "    recall = round(recall_score(actual, pred),3)\n",
    "    # F1 Score\n",
    "    F1 = round(f1_score(actual, pred),3)\n",
    "    \n",
    "    result.loc[model_name]=(acc,recall,precision,F1)\n",
    "    \n",
    "    result.sort_values(by='acc',inplace=True,ascending=False)\n",
    "    \n",
    "    print(result)\n",
    "\n",
    "    plt.figure(figsize=(8, 8))\n",
    "    for idx in result.index:\n",
    "        x_values = result.columns  # x축 지점의 값들\n",
    "        y_values = result.loc[idx] # y축 지점의 값들\n",
    "        plt.plot(x_values, y_values)# line 그래프 그리기\n",
    "        plt.annotate(text=round(result.loc[idx,'acc'],3), xy=(0,result.loc[idx,'acc']),xytext=(0,result.loc[idx,'acc']),ha='center',fontsize=13)        \n",
    "        plt.annotate(text=round(result.loc[idx,'recall'],3), xy=(1,result.loc[idx,'recall']),xytext=(1,result.loc[idx,'recall']),ha='center',fontsize=13)\n",
    "        plt.annotate(text=round(result.loc[idx,'precision'],3), xy=(2,result.loc[idx,'precision']),xytext=(2,result.loc[idx,'precision']),ha='center',fontsize=13,)\n",
    "        plt.annotate(text=round(result.loc[idx,'F1-score'],3), xy=(3,result.loc[idx,'F1-score']),xytext=(3,result.loc[idx,'F1-score']),ha='center',fontsize=13)\n",
    "\n",
    "    plt.legend(result.index,loc=4) # 범례의 위치\n",
    "        \n",
    "    plt.show()"
   ]
  },
  {
   "cell_type": "markdown",
   "metadata": {},
   "source": [
    "## 3. 모델 생성하기"
   ]
  },
  {
   "cell_type": "markdown",
   "metadata": {
    "tags": []
   },
   "source": [
    "### 1) 로지스틱 회귀(Logistic Regression)"
   ]
  },
  {
   "cell_type": "markdown",
   "metadata": {},
   "source": [
    "※도큐먼트: https://scikit-learn.org/stable/modules/generated/sklearn.linear_model.LogisticRegression.html"
   ]
  },
  {
   "cell_type": "markdown",
   "metadata": {},
   "source": [
    "#### [Step 1. 라이브러리 불러오기]"
   ]
  },
  {
   "cell_type": "code",
   "execution_count": null,
   "metadata": {
    "ExecuteTime": {
     "end_time": "2023-03-10T04:26:10.234429Z",
     "start_time": "2023-03-10T04:25:07.508Z"
    }
   },
   "outputs": [],
   "source": [
    "# sklearn의 LogisticRegression 불러오기\n",
    "from sklearn.linear_model import LogisticRegression"
   ]
  },
  {
   "cell_type": "markdown",
   "metadata": {},
   "source": [
    "#### [Step 2. 모델 생성하기]"
   ]
  },
  {
   "cell_type": "code",
   "execution_count": null,
   "metadata": {
    "ExecuteTime": {
     "end_time": "2023-03-10T04:26:10.236428Z",
     "start_time": "2023-03-10T04:25:07.512Z"
    }
   },
   "outputs": [],
   "source": [
    "# 모델 생성하기\n",
    "model_lr = LogisticRegression(random_state=21)"
   ]
  },
  {
   "cell_type": "markdown",
   "metadata": {},
   "source": [
    "#### [Step 3. 모델 학습하기]"
   ]
  },
  {
   "cell_type": "code",
   "execution_count": null,
   "metadata": {
    "ExecuteTime": {
     "end_time": "2023-03-10T04:26:10.239507Z",
     "start_time": "2023-03-10T04:25:07.517Z"
    }
   },
   "outputs": [],
   "source": [
    "# 모델 학습하기\n",
    "model_lr.fit(x_train,y_train)"
   ]
  },
  {
   "cell_type": "markdown",
   "metadata": {},
   "source": [
    "#### [Step 4. 결과 검증하기]"
   ]
  },
  {
   "cell_type": "code",
   "execution_count": null,
   "metadata": {
    "ExecuteTime": {
     "end_time": "2023-03-10T04:26:10.242532Z",
     "start_time": "2023-03-10T04:25:07.522Z"
    }
   },
   "outputs": [],
   "source": [
    "# 결과 예측하기\n",
    "pred_lr=model_lr.predict(X_test)\n",
    "result_view('Logistic Regression',pred_lr,Y_test)"
   ]
  },
  {
   "cell_type": "markdown",
   "metadata": {
    "tags": []
   },
   "source": [
    "### 2) KNN(K-Nearest Neighbors)"
   ]
  },
  {
   "cell_type": "markdown",
   "metadata": {},
   "source": [
    "#### [Step 1. 라이브러리 불러오기]"
   ]
  },
  {
   "cell_type": "code",
   "execution_count": null,
   "metadata": {
    "ExecuteTime": {
     "end_time": "2023-03-10T04:26:10.246093Z",
     "start_time": "2023-03-10T04:25:07.526Z"
    }
   },
   "outputs": [],
   "source": [
    "# sklearn에서 KNeighborsClassifier 불러오기\n",
    "from sklearn.neighbors import KNeighborsClassifier"
   ]
  },
  {
   "cell_type": "markdown",
   "metadata": {},
   "source": [
    "#### [Step 2. 모델 생성하기]"
   ]
  },
  {
   "cell_type": "code",
   "execution_count": null,
   "metadata": {
    "ExecuteTime": {
     "end_time": "2023-03-10T04:26:10.248987Z",
     "start_time": "2023-03-10T04:25:07.530Z"
    }
   },
   "outputs": [],
   "source": [
    "# 모델을 생성하고, 파라미터 설정하기\n",
    "model_knn= KNeighborsClassifier()"
   ]
  },
  {
   "cell_type": "markdown",
   "metadata": {},
   "source": [
    "#### [Step 3. 모델 학습하기]"
   ]
  },
  {
   "cell_type": "code",
   "execution_count": null,
   "metadata": {
    "ExecuteTime": {
     "end_time": "2023-03-10T04:26:10.250741Z",
     "start_time": "2023-03-10T04:25:07.535Z"
    }
   },
   "outputs": [],
   "source": [
    "# 모델 학습하기\n",
    "model_knn.fit(x_train,y_train)"
   ]
  },
  {
   "cell_type": "markdown",
   "metadata": {},
   "source": [
    "#### [Step 4. 결과 검증하기]"
   ]
  },
  {
   "cell_type": "code",
   "execution_count": null,
   "metadata": {
    "ExecuteTime": {
     "end_time": "2023-03-10T04:26:10.251738Z",
     "start_time": "2023-03-10T04:25:07.539Z"
    }
   },
   "outputs": [],
   "source": [
    "# 결과 예측하기\n",
    "pred_knn=model_knn.predict(X_test)\n",
    "result_view('KNN',pred_knn,Y_test)"
   ]
  },
  {
   "cell_type": "markdown",
   "metadata": {
    "tags": []
   },
   "source": [
    "### 3) SVM(Support Vector Machine)"
   ]
  },
  {
   "cell_type": "markdown",
   "metadata": {},
   "source": [
    "#### [Step 1. 라이브러리 불러오기]"
   ]
  },
  {
   "cell_type": "code",
   "execution_count": null,
   "metadata": {
    "ExecuteTime": {
     "end_time": "2023-03-10T04:26:10.254797Z",
     "start_time": "2023-03-10T04:25:07.543Z"
    }
   },
   "outputs": [],
   "source": [
    "# sklearn에서 SVC 불러오기\n",
    "from sklearn.svm import SVC"
   ]
  },
  {
   "cell_type": "markdown",
   "metadata": {},
   "source": [
    "#### [Step 2. 모델 생성하기]"
   ]
  },
  {
   "cell_type": "code",
   "execution_count": null,
   "metadata": {
    "ExecuteTime": {
     "end_time": "2023-03-10T04:26:10.259228Z",
     "start_time": "2023-03-10T04:25:07.547Z"
    }
   },
   "outputs": [],
   "source": [
    "# 모델을 생성하고, 파라미터 설정하기\n",
    "model_svm= SVC(random_state=21)"
   ]
  },
  {
   "cell_type": "markdown",
   "metadata": {},
   "source": [
    "#### [Step 3. 모델 학습하기]"
   ]
  },
  {
   "cell_type": "code",
   "execution_count": null,
   "metadata": {
    "ExecuteTime": {
     "end_time": "2023-03-10T04:26:10.261751Z",
     "start_time": "2023-03-10T04:25:07.552Z"
    }
   },
   "outputs": [],
   "source": [
    "# 모델 학습하기\n",
    "model_svm.fit(x_train,y_train)"
   ]
  },
  {
   "cell_type": "markdown",
   "metadata": {},
   "source": [
    "#### [Step 4. 결과 검증하기]"
   ]
  },
  {
   "cell_type": "code",
   "execution_count": null,
   "metadata": {
    "ExecuteTime": {
     "end_time": "2023-03-10T04:26:10.263747Z",
     "start_time": "2023-03-10T04:25:07.556Z"
    }
   },
   "outputs": [],
   "source": [
    "# 결과 예측하기 \n",
    "pred_svm=model_svm.predict(X_test)\n",
    "result_view('Support Vector Machine',pred_svm,Y_test)"
   ]
  },
  {
   "cell_type": "markdown",
   "metadata": {},
   "source": [
    "### 4) 의사결정트리(Decision Tree)"
   ]
  },
  {
   "cell_type": "markdown",
   "metadata": {},
   "source": [
    "※도큐먼트: https://scikit-learn.org/stable/modules/generated/sklearn.tree.DecisionTreeClassifier.html"
   ]
  },
  {
   "cell_type": "markdown",
   "metadata": {},
   "source": [
    "#### [Step 1. 라이브러리 불러오기]"
   ]
  },
  {
   "cell_type": "code",
   "execution_count": null,
   "metadata": {
    "ExecuteTime": {
     "end_time": "2023-03-10T04:26:10.269025Z",
     "start_time": "2023-03-10T04:25:07.562Z"
    }
   },
   "outputs": [],
   "source": [
    "# sklearn의 DecisionTreeClassifier 불러오기\n",
    "from sklearn.tree import DecisionTreeClassifier"
   ]
  },
  {
   "cell_type": "markdown",
   "metadata": {},
   "source": [
    "#### [Step 2. 모델 생성하기]"
   ]
  },
  {
   "cell_type": "code",
   "execution_count": null,
   "metadata": {
    "ExecuteTime": {
     "end_time": "2023-03-10T04:26:10.271150Z",
     "start_time": "2023-03-10T04:25:07.567Z"
    }
   },
   "outputs": [],
   "source": [
    "# 모델을 생성하고, 파라미터 설정하기\n",
    "model_dt = DecisionTreeClassifier(min_samples_split=2,\n",
    "                                  min_samples_leaf=1,\n",
    "                                  max_features=None,\n",
    "                                  max_depth=5,\n",
    "                                  max_leaf_nodes=None,\n",
    "                                  random_state=21\n",
    "                                 )"
   ]
  },
  {
   "cell_type": "markdown",
   "metadata": {},
   "source": [
    "#### [Step 3. 모델 학습하기]"
   ]
  },
  {
   "cell_type": "code",
   "execution_count": null,
   "metadata": {
    "ExecuteTime": {
     "end_time": "2023-03-10T04:26:10.273143Z",
     "start_time": "2023-03-10T04:25:07.571Z"
    }
   },
   "outputs": [],
   "source": [
    "# 모델 학습하기\n",
    "model_dt.fit(x_train,y_train)"
   ]
  },
  {
   "cell_type": "markdown",
   "metadata": {},
   "source": [
    "#### [Step 4. 결과 검증하기]"
   ]
  },
  {
   "cell_type": "code",
   "execution_count": null,
   "metadata": {
    "ExecuteTime": {
     "end_time": "2023-03-10T04:26:10.275138Z",
     "start_time": "2023-03-10T04:25:07.575Z"
    }
   },
   "outputs": [],
   "source": [
    "# 결과 예측하기\n",
    "pred_dt=model_dt.predict(X_test)"
   ]
  },
  {
   "cell_type": "code",
   "execution_count": null,
   "metadata": {
    "ExecuteTime": {
     "end_time": "2023-03-10T04:26:10.277398Z",
     "start_time": "2023-03-10T04:25:07.579Z"
    }
   },
   "outputs": [],
   "source": [
    "result_view('Decision Tree',pred_dt,Y_test)"
   ]
  },
  {
   "cell_type": "markdown",
   "metadata": {
    "tags": []
   },
   "source": [
    "### 5) 랜덤포레스트(Random Forest)"
   ]
  },
  {
   "cell_type": "markdown",
   "metadata": {},
   "source": [
    "#### [Step 1. 라이브러리 불러오기]"
   ]
  },
  {
   "cell_type": "code",
   "execution_count": null,
   "metadata": {
    "ExecuteTime": {
     "end_time": "2023-03-10T04:26:10.281381Z",
     "start_time": "2023-03-10T04:25:07.584Z"
    }
   },
   "outputs": [],
   "source": [
    "# sklearn에서 RandomForestClassifier 불러오기\n",
    "from sklearn.ensemble import RandomForestClassifier"
   ]
  },
  {
   "cell_type": "markdown",
   "metadata": {},
   "source": [
    "#### [Step 2. 모델 생성하기]"
   ]
  },
  {
   "cell_type": "code",
   "execution_count": null,
   "metadata": {
    "ExecuteTime": {
     "end_time": "2023-03-10T04:26:10.283375Z",
     "start_time": "2023-03-10T04:25:07.588Z"
    }
   },
   "outputs": [],
   "source": [
    "# 모델을 생성하고, 파라미터 설정하기\n",
    "model_rf= RandomForestClassifier(n_jobs=-1,n_estimators=100,\n",
    "                                 min_samples_split=2,\n",
    "                                 min_samples_leaf=1,\n",
    "                                 max_features='auto',\n",
    "                                 max_depth=None,\n",
    "                                 max_leaf_nodes=None,\n",
    "                                 random_state=21)"
   ]
  },
  {
   "cell_type": "markdown",
   "metadata": {},
   "source": [
    "#### [Step 3. 모델 학습하기]"
   ]
  },
  {
   "cell_type": "code",
   "execution_count": null,
   "metadata": {
    "ExecuteTime": {
     "end_time": "2023-03-10T04:26:10.284948Z",
     "start_time": "2023-03-10T04:25:07.593Z"
    }
   },
   "outputs": [],
   "source": [
    "# 모델 학습하기\n",
    "model_rf.fit(x_train,y_train)"
   ]
  },
  {
   "cell_type": "markdown",
   "metadata": {},
   "source": [
    "#### [Step 4. 결과 검증하기]"
   ]
  },
  {
   "cell_type": "code",
   "execution_count": null,
   "metadata": {
    "ExecuteTime": {
     "end_time": "2023-03-10T04:26:10.286452Z",
     "start_time": "2023-03-10T04:25:07.597Z"
    }
   },
   "outputs": [],
   "source": [
    "# 결과 예측하기 \n",
    "pred_rf=model_rf.predict(X_test)\n",
    "result_view('Random Forest',pred_rf,Y_test)"
   ]
  },
  {
   "cell_type": "markdown",
   "metadata": {},
   "source": [
    "### 6) XGBoost"
   ]
  },
  {
   "cell_type": "markdown",
   "metadata": {},
   "source": [
    "#### [Step 1. 라이브러리 불러오기]"
   ]
  },
  {
   "cell_type": "code",
   "execution_count": null,
   "metadata": {
    "ExecuteTime": {
     "end_time": "2023-03-10T04:26:10.287448Z",
     "start_time": "2023-03-10T04:25:07.602Z"
    }
   },
   "outputs": [],
   "source": [
    "# xgboost를 불러오기\n",
    "import xgboost as xgb"
   ]
  },
  {
   "cell_type": "markdown",
   "metadata": {},
   "source": [
    "#### [Step 2. 모델 생성하기]"
   ]
  },
  {
   "cell_type": "code",
   "execution_count": null,
   "metadata": {
    "ExecuteTime": {
     "end_time": "2023-03-10T04:26:10.289442Z",
     "start_time": "2023-03-10T04:25:07.606Z"
    }
   },
   "outputs": [],
   "source": [
    "# 모델을 생성하고, 파라미터(*학습 파라미터는 별도 설정) 설정하기\n",
    "model_xgb = xgb.XGBClassifier(learning_rate=0.1,n_jobs=-1,n_estimators=500, random_state=21)"
   ]
  },
  {
   "cell_type": "markdown",
   "metadata": {},
   "source": [
    "#### [Step 3. 모델 학습하기]\n"
   ]
  },
  {
   "cell_type": "code",
   "execution_count": null,
   "metadata": {
    "ExecuteTime": {
     "end_time": "2023-03-10T04:26:10.292911Z",
     "start_time": "2023-03-10T04:25:07.610Z"
    },
    "scrolled": true
   },
   "outputs": [],
   "source": [
    "# 모델 학습하기\n",
    "start=time.time()\n",
    "\n",
    "eval_set = [(x_val, y_val)]\n",
    "\n",
    "# logloss가 10회 개선되지 않으면 중단하도록 early stopping 설정하기\n",
    "model_xgb.fit(x_train, y_train, early_stopping_rounds=10, eval_metric=\"logloss\", eval_set=eval_set, verbose=True)\n",
    "\n",
    "(time.time()-start)/60"
   ]
  },
  {
   "cell_type": "markdown",
   "metadata": {},
   "source": [
    "#### [Step 4. 결과 검증하기]"
   ]
  },
  {
   "cell_type": "code",
   "execution_count": null,
   "metadata": {
    "ExecuteTime": {
     "end_time": "2023-03-10T04:26:10.294919Z",
     "start_time": "2023-03-10T04:25:07.614Z"
    }
   },
   "outputs": [],
   "source": [
    "# 결과 예측하기\n",
    "pred_xgb=model_xgb.predict(X_test)\n",
    "result_view('XGBoost',pred_xgb,Y_test) "
   ]
  },
  {
   "cell_type": "markdown",
   "metadata": {
    "tags": []
   },
   "source": [
    "### 7) CatBoost"
   ]
  },
  {
   "cell_type": "markdown",
   "metadata": {},
   "source": [
    "#### [Step 1. 라이브러리 불러오기]"
   ]
  },
  {
   "cell_type": "code",
   "execution_count": null,
   "metadata": {
    "ExecuteTime": {
     "end_time": "2023-03-10T04:26:10.298909Z",
     "start_time": "2023-03-10T04:25:07.619Z"
    }
   },
   "outputs": [],
   "source": [
    "# catboost 불러오기\n",
    "import time\n",
    "start=time.time()\n",
    "\n",
    "from catboost import CatBoostClassifier, Pool"
   ]
  },
  {
   "cell_type": "markdown",
   "metadata": {},
   "source": [
    "#### [Step 2. 모델 생성하기]"
   ]
  },
  {
   "cell_type": "code",
   "execution_count": null,
   "metadata": {
    "ExecuteTime": {
     "end_time": "2023-03-10T04:26:10.301037Z",
     "start_time": "2023-03-10T04:25:07.623Z"
    }
   },
   "outputs": [],
   "source": [
    "# 모델을 생성하고, 파라미터 설정하기\n",
    "cat = CatBoostClassifier(learning_rate=0.03, iterations=2000,random_state=21)"
   ]
  },
  {
   "cell_type": "markdown",
   "metadata": {},
   "source": [
    "#### [Step 3. 모델 학습하기]"
   ]
  },
  {
   "cell_type": "code",
   "execution_count": null,
   "metadata": {
    "ExecuteTime": {
     "end_time": "2023-03-10T04:26:10.302049Z",
     "start_time": "2023-03-10T04:25:07.627Z"
    },
    "scrolled": true,
    "tags": []
   },
   "outputs": [],
   "source": [
    "start=time.time()\n",
    "# 모델 학습하기\n",
    "# Pool 함수로 데이터셋 지정하기. 반드시 label을 지정해 주어야 함\n",
    "train_dataset = Pool(data=x_train,label=y_train) #feature와 label 지정하기\n",
    "eval_dataset = Pool(data=x_val,label=y_val) #feature와 label 지정하기\n",
    "\n",
    "cat.fit(train_dataset, eval_set=eval_dataset,early_stopping_rounds=30)\n",
    "(time.time()-start)/60"
   ]
  },
  {
   "cell_type": "markdown",
   "metadata": {},
   "source": [
    "#### [Step 4. 결과 검증하기]"
   ]
  },
  {
   "cell_type": "code",
   "execution_count": null,
   "metadata": {
    "ExecuteTime": {
     "end_time": "2023-03-10T04:26:10.304042Z",
     "start_time": "2023-03-10T04:25:07.632Z"
    }
   },
   "outputs": [],
   "source": [
    "# 결과 예측하기\n",
    "pred_cat = cat.predict(X_test)\n",
    "result_view('Cat Boost',pred_cat,Y_test)"
   ]
  },
  {
   "cell_type": "markdown",
   "metadata": {},
   "source": [
    "### **8) DNN(Deep Neural Network**"
   ]
  },
  {
   "cell_type": "markdown",
   "metadata": {},
   "source": [
    "#### [Step 1. 라이브러리 불러오기]"
   ]
  },
  {
   "cell_type": "code",
   "execution_count": null,
   "metadata": {
    "ExecuteTime": {
     "end_time": "2023-03-10T04:26:10.306035Z",
     "start_time": "2023-03-10T04:25:07.637Z"
    }
   },
   "outputs": [],
   "source": [
    "# DNN 라이브러리 불러오기\n",
    "import tensorflow as tf\n",
    "from tensorflow.keras.models import Sequential\n",
    "from tensorflow.keras.layers import Dense, Dropout\n",
    "import random\n",
    "\n",
    "random.seed(10)\n",
    "np.random.seed(10)\n",
    "tf.random.set_seed(10)"
   ]
  },
  {
   "cell_type": "markdown",
   "metadata": {},
   "source": [
    "#### [Step 2. 모델 생성하기]"
   ]
  },
  {
   "cell_type": "code",
   "execution_count": null,
   "metadata": {
    "ExecuteTime": {
     "end_time": "2023-03-10T04:26:10.308667Z",
     "start_time": "2023-03-10T04:25:07.642Z"
    },
    "colab": {
     "base_uri": "https://localhost:8080/"
    },
    "executionInfo": {
     "elapsed": 7,
     "status": "ok",
     "timestamp": 1645513778645,
     "user": {
      "displayName": "yunwoo oh",
      "photoUrl": "https://lh3.googleusercontent.com/a/default-user=s64",
      "userId": "01035531558844683999"
     },
     "user_tz": -540
    },
    "id": "zCUyUw6J0YIN",
    "outputId": "90abc24a-62bc-41ac-9089-3dc3d31c0511"
   },
   "outputs": [],
   "source": [
    "x_train.shape, y_train.shape #features 개수 확인하기"
   ]
  },
  {
   "cell_type": "code",
   "execution_count": null,
   "metadata": {
    "ExecuteTime": {
     "end_time": "2023-03-10T04:26:10.313783Z",
     "start_time": "2023-03-10T04:25:07.645Z"
    },
    "executionInfo": {
     "elapsed": 10,
     "status": "ok",
     "timestamp": 1645513779107,
     "user": {
      "displayName": "yunwoo oh",
      "photoUrl": "https://lh3.googleusercontent.com/a/default-user=s64",
      "userId": "01035531558844683999"
     },
     "user_tz": -540
    },
    "id": "hTZ0lfsB0YIP"
   },
   "outputs": [],
   "source": [
    "# 모델 구성하기\n",
    "initializer = tf.keras.initializers.GlorotUniform(seed=10) #모델 시드 고정하기\n",
    "dnn = Sequential()\n",
    "dnn.add(Dense(8, activation='relu', input_shape=(26,),kernel_initializer=initializer))\n",
    "dnn.add(Dropout(0.2))\n",
    "dnn.add(Dense(2, activation='relu'))\n",
    "dnn.add(Dropout(0.2))\n",
    "dnn.add(Dense(1, activation='sigmoid'))"
   ]
  },
  {
   "cell_type": "code",
   "execution_count": null,
   "metadata": {
    "ExecuteTime": {
     "end_time": "2023-03-10T04:26:10.316069Z",
     "start_time": "2023-03-10T04:25:07.649Z"
    },
    "colab": {
     "base_uri": "https://localhost:8080/"
    },
    "executionInfo": {
     "elapsed": 10,
     "status": "ok",
     "timestamp": 1645513779108,
     "user": {
      "displayName": "yunwoo oh",
      "photoUrl": "https://lh3.googleusercontent.com/a/default-user=s64",
      "userId": "01035531558844683999"
     },
     "user_tz": -540
    },
    "id": "5EPZjdj80YIQ",
    "outputId": "d68b0544-45b2-4908-f8de-c577dfbc6683"
   },
   "outputs": [],
   "source": [
    "# 모델 확인하기\n",
    "dnn.summary()"
   ]
  },
  {
   "cell_type": "markdown",
   "metadata": {
    "id": "1VOruMmv0YIQ",
    "tags": []
   },
   "source": []
  },
  {
   "cell_type": "code",
   "execution_count": null,
   "metadata": {
    "ExecuteTime": {
     "end_time": "2023-03-10T04:26:10.317558Z",
     "start_time": "2023-03-10T04:25:07.653Z"
    },
    "executionInfo": {
     "elapsed": 7,
     "status": "ok",
     "timestamp": 1645513779492,
     "user": {
      "displayName": "yunwoo oh",
      "photoUrl": "https://lh3.googleusercontent.com/a/default-user=s64",
      "userId": "01035531558844683999"
     },
     "user_tz": -540
    },
    "id": "nVZnbiNp0YIQ"
   },
   "outputs": [],
   "source": [
    "# 모델 컴파일 – 이진 분류 모델\n",
    "dnn.compile(optimizer='adam', \n",
    "              loss='binary_crossentropy', \n",
    "              metrics=['accuracy']) "
   ]
  },
  {
   "cell_type": "markdown",
   "metadata": {},
   "source": [
    "#### [Step 3. 모델 학습하기]"
   ]
  },
  {
   "cell_type": "code",
   "execution_count": null,
   "metadata": {
    "ExecuteTime": {
     "end_time": "2023-03-10T04:26:10.318552Z",
     "start_time": "2023-03-10T04:25:07.659Z"
    },
    "executionInfo": {
     "elapsed": 10,
     "status": "ok",
     "timestamp": 1645513813182,
     "user": {
      "displayName": "yunwoo oh",
      "photoUrl": "https://lh3.googleusercontent.com/a/default-user=s64",
      "userId": "01035531558844683999"
     },
     "user_tz": -540
    },
    "id": "z7d_nFMf0YIU"
   },
   "outputs": [],
   "source": [
    "# Callback : 조기종료, 모델 저장하기\n",
    "from tensorflow.keras.callbacks import EarlyStopping, ModelCheckpoint"
   ]
  },
  {
   "cell_type": "code",
   "execution_count": null,
   "metadata": {
    "ExecuteTime": {
     "end_time": "2023-03-10T04:26:10.320543Z",
     "start_time": "2023-03-10T04:25:07.663Z"
    },
    "executionInfo": {
     "elapsed": 8,
     "status": "ok",
     "timestamp": 1645513813182,
     "user": {
      "displayName": "yunwoo oh",
      "photoUrl": "https://lh3.googleusercontent.com/a/default-user=s64",
      "userId": "01035531558844683999"
     },
     "user_tz": -540
    },
    "id": "hoOULwhL0YIU"
   },
   "outputs": [],
   "source": [
    "# val_loss 모니터링해서 성능이 5번 지나도록 좋아지지 않으면 조기 종료하기\n",
    "early_stop = EarlyStopping(monitor='val_loss', mode='min', \n",
    "                           verbose=1, patience=5)"
   ]
  },
  {
   "cell_type": "code",
   "execution_count": null,
   "metadata": {
    "ExecuteTime": {
     "end_time": "2023-03-10T04:26:10.321572Z",
     "start_time": "2023-03-10T04:25:07.667Z"
    },
    "executionInfo": {
     "elapsed": 8,
     "status": "ok",
     "timestamp": 1645513813182,
     "user": {
      "displayName": "yunwoo oh",
      "photoUrl": "https://lh3.googleusercontent.com/a/default-user=s64",
      "userId": "01035531558844683999"
     },
     "user_tz": -540
    },
    "id": "bKT5doN10YIU"
   },
   "outputs": [],
   "source": [
    "# val_loss 가장 낮은 값을 가질때마다 모델저장하기\n",
    "check_point = ModelCheckpoint('best_model.h5', verbose=1, \n",
    "                              monitor='val_loss', mode='min', save_best_only=True)"
   ]
  },
  {
   "cell_type": "code",
   "execution_count": null,
   "metadata": {
    "ExecuteTime": {
     "end_time": "2023-03-10T04:26:10.325486Z",
     "start_time": "2023-03-10T04:25:07.671Z"
    },
    "colab": {
     "base_uri": "https://localhost:8080/"
    },
    "executionInfo": {
     "elapsed": 5756,
     "status": "ok",
     "timestamp": 1645513818931,
     "user": {
      "displayName": "yunwoo oh",
      "photoUrl": "https://lh3.googleusercontent.com/a/default-user=s64",
      "userId": "01035531558844683999"
     },
     "user_tz": -540
    },
    "id": "-TYvrlT90YIU",
    "outputId": "9e3fd1f2-ed32-49c5-dc62-67751a658383",
    "scrolled": true,
    "tags": []
   },
   "outputs": [],
   "source": [
    "# 모델 학습하기\n",
    "history = dnn.fit(x=x_train, y=y_train, \n",
    "          epochs=50 , batch_size=20,\n",
    "          validation_data=(x_val, y_val), verbose=1,\n",
    "          callbacks=[early_stop, check_point])"
   ]
  },
  {
   "cell_type": "markdown",
   "metadata": {},
   "source": [
    "#### [Step 4. 결과 검증하기]"
   ]
  },
  {
   "cell_type": "code",
   "execution_count": null,
   "metadata": {
    "ExecuteTime": {
     "end_time": "2023-03-10T04:26:10.329249Z",
     "start_time": "2023-03-10T04:25:07.675Z"
    }
   },
   "outputs": [],
   "source": [
    "# 결과 예측하기\n",
    "pred_dnn=(dnn.predict(X_test) > 0.5).astype(\"int32\")\n",
    "pred_dnn=pred_dnn.reshape(1,-1)[0]\n",
    "result_view('DNN',pred_dnn,Y_test)"
   ]
  },
  {
   "cell_type": "markdown",
   "metadata": {},
   "source": [
    "## 4. AI 모델의 평가하기"
   ]
  },
  {
   "cell_type": "markdown",
   "metadata": {
    "tags": []
   },
   "source": [
    "### 1) 혼동행렬"
   ]
  },
  {
   "cell_type": "code",
   "execution_count": null,
   "metadata": {
    "ExecuteTime": {
     "end_time": "2023-03-10T04:26:10.333202Z",
     "start_time": "2023-03-10T04:25:07.680Z"
    },
    "scrolled": false
   },
   "outputs": [],
   "source": [
    "# confusion matrix를 그리기위한 함수를 정의하기\n",
    "def show_confusion_matrix(labels,y_true,y_pred,title):   \n",
    "    sns.heatmap(confusion_matrix(y_true,y_pred), annot=True, fmt='d',xticklabels=labels,yticklabels=labels,cmap=plt.cm.Blues,linecolor='black')\n",
    "    plt.text(1,2.3,'Predicted',size=15,ha='center')\n",
    "    plt.text(-0.3,1,'True',rotation=90,size=15,ha='center')\n",
    "    plt.title(title)\n",
    "    plt.show()\n",
    "    \n",
    "labels=['유지','해지']\n",
    "\n",
    "# 정의된 함수를 활용하여 catboost와 DNN모델의 confusion matrix 그flrl\n",
    "show_confusion_matrix(labels,Y_test,pred_cat,'[CatBoost]'), show_confusion_matrix(labels,Y_test,pred_dnn,'[DNN]')"
   ]
  },
  {
   "cell_type": "markdown",
   "metadata": {},
   "source": [
    "### 2) ROC와 AUC"
   ]
  },
  {
   "cell_type": "code",
   "execution_count": null,
   "metadata": {
    "ExecuteTime": {
     "end_time": "2023-03-10T04:26:10.334969Z",
     "start_time": "2023-03-10T04:25:07.685Z"
    }
   },
   "outputs": [],
   "source": [
    "# 패키지 불러오기\n",
    "from sklearn.metrics import roc_curve, auc\n",
    "\n",
    "# Parameter\n",
    "# y_pred: 원핫인코딩된 2차원 이상(class수에 따라)의 numpy.array\n",
    "# y_true: 실제 값\n",
    "# y_label: label 값(list)\n",
    "# ROC를 그려주는 함수\n",
    "\n",
    "def plot_multiclass_roc(y_pred, y_true, y_label):\n",
    "    \n",
    "    # 빈 ditionary 생성하기\n",
    "    fpr = dict()\n",
    "    tpr = dict()\n",
    "    roc_auc = dict()\n",
    "\n",
    "    # roc_curve()의 입력값으로 y_true의 가변수 생성하기\n",
    "    y_true_dummies = pd.get_dummies(y_true, drop_first=False).values\n",
    "    for i in range(len(y_label)):\n",
    "        fpr[i], tpr[i], _ = roc_curve(y_true_dummies[:, i], y_pred[:, i])\n",
    "        roc_auc[i] = auc(fpr[i], tpr[i])\n",
    "\n",
    "    # 각 클래스에 대한 ROC계산하기\n",
    "    fig, ax = plt.subplots(figsize=(17,10))\n",
    "    ax.plot([0, 1], [0, 1], 'k--')\n",
    "    ax.set_xlim([0.0, 1.0])\n",
    "    ax.set_ylim([0.0, 1.05])\n",
    "    ax.set_xlabel('False Positive Rate')\n",
    "    ax.set_ylabel('True Positive Rate')\n",
    "    ax.set_title('Receiver operating characteristic example')\n",
    "    for i in range(len(y_label)):\n",
    "        ax.plot(fpr[i], tpr[i], label='ROC curve (area = %0.2f) for label %s' % (roc_auc[i], y_label[i]))\n",
    "    ax.legend(loc=\"best\")\n",
    "    ax.grid(alpha=.4)\n",
    "    sns.despine()\n",
    "    plt.show()"
   ]
  },
  {
   "cell_type": "code",
   "execution_count": null,
   "metadata": {
    "ExecuteTime": {
     "end_time": "2023-03-10T04:26:10.337959Z",
     "start_time": "2023-03-10T04:25:07.688Z"
    }
   },
   "outputs": [],
   "source": [
    "# labels 값은 Confusion Matrix에서 정한 값을 사용하기\n",
    "plot_multiclass_roc(pd.get_dummies(pred_cat).to_numpy(), Y_test, labels)"
   ]
  },
  {
   "cell_type": "code",
   "execution_count": null,
   "metadata": {
    "ExecuteTime": {
     "end_time": "2023-03-10T04:26:10.341835Z",
     "start_time": "2023-03-10T04:25:07.692Z"
    },
    "scrolled": true
   },
   "outputs": [],
   "source": [
    "pred_cat_proba=cat.predict_proba(X_test)\n",
    "plot_multiclass_roc(pred_cat_proba, Y_test, labels)"
   ]
  }
 ],
 "metadata": {
  "hide_input": false,
  "kernelspec": {
   "display_name": "Python 3",
   "language": "python",
   "name": "python3"
  },
  "language_info": {
   "codemirror_mode": {
    "name": "ipython",
    "version": 3
   },
   "file_extension": ".py",
   "mimetype": "text/x-python",
   "name": "python",
   "nbconvert_exporter": "python",
   "pygments_lexer": "ipython3",
   "version": "3.8.8"
  },
  "toc": {
   "base_numbering": 1,
   "nav_menu": {},
   "number_sections": true,
   "sideBar": true,
   "skip_h1_title": false,
   "title_cell": "Table of Contents",
   "title_sidebar": "Contents",
   "toc_cell": false,
   "toc_position": {},
   "toc_section_display": true,
   "toc_window_display": false
  },
  "varInspector": {
   "cols": {
    "lenName": 16,
    "lenType": 16,
    "lenVar": 40
   },
   "kernels_config": {
    "python": {
     "delete_cmd_postfix": "",
     "delete_cmd_prefix": "del ",
     "library": "var_list.py",
     "varRefreshCmd": "print(var_dic_list())"
    },
    "r": {
     "delete_cmd_postfix": ") ",
     "delete_cmd_prefix": "rm(",
     "library": "var_list.r",
     "varRefreshCmd": "cat(var_dic_list()) "
    }
   },
   "types_to_exclude": [
    "module",
    "function",
    "builtin_function_or_method",
    "instance",
    "_Feature"
   ],
   "window_display": false
  }
 },
 "nbformat": 4,
 "nbformat_minor": 4
}
